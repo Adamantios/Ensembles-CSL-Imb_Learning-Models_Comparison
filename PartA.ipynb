{
  "nbformat": 4,
  "nbformat_minor": 0,
  "metadata": {
    "colab": {
      "name": "PartA.ipynb",
      "version": "0.3.2",
      "provenance": [],
      "collapsed_sections": [
        "tdoxjU9EhpCo",
        "UBswz_GbhpDG",
        "p0BMJn9bhpDd",
        "HmQTL7z0j93-",
        "6twRwfypkGP3",
        "8lDZUbAMhpDv",
        "c0ID5qoa3TCX",
        "yZBJM5kH0C7f",
        "JQhAYxt60zmb",
        "v0xWZG1Q1T58",
        "clL80GLK16XP",
        "ThktNeMrhsR7",
        "XVkMLSTgs_kl",
        "3EMLY1mvhsSN",
        "vYjx3OiwhsSx",
        "t6fGqfRcsWUN",
        "8YwB6jkoh3iK",
        "ykUsVzMLh3i_",
        "gDSPOrArh3ji",
        "p09kQs_ae82k",
        "rRx8jbxSgvRg",
        "D1GPz08ZhLUE",
        "a0JXzjh6ez2P",
        "C5UC4gyvfED3",
        "dw3UXkNMfGsW",
        "3Wc8GOGqgHx7",
        "3jbcn6gvgST6"
      ]
    },
    "kernelspec": {
      "name": "python3",
      "language": "python",
      "display_name": "Python 3"
    }
  },
  "cells": [
    {
      "metadata": {
        "id": "iVZRwjrXyaX_",
        "colab_type": "text",
        "pycharm": {}
      },
      "cell_type": "markdown",
      "source": [
        "# Description\n",
        "In this part of the project, we created 4 ensemble methods and compared them, using statistical analysis methods in 10 different datasets.\n",
        "#### Ensembles\n",
        "1. Bagging Ensemble using Random Tree Classifier.  \n",
        "We follow the procedure described below:\n",
        "  - Random Search, in order to search fpr hyperparameters.\n",
        "  - Grid Search in the area near the best parameters found from the Random Search.\n",
        "  - 10 fold Cross Validation, in order to plot the accuracy vs the number of classifiers used.\n",
        "  - Prediction using the best estimation for the number of classifiers, combined with the tuned parameters.\n",
        "2. Random Forest Classifier.  \n",
        "We follow the procedure described below:\n",
        "  - Random Search.\n",
        "  - Grid Search.\n",
        "  - Prediction using the tuned parameters.\n",
        "3. Stacking, using two Nearest Neighbors classifiers, one Decision Tree classifier and one Naive Bayes classifier. The Meta-Classifier is a Logistic Regression Classifier.  \n",
        "We follow the procedure described below:\n",
        "  - Random Search.\n",
        "  - Grid Search.\n",
        "  - Prediction using the tuned parameters of each model.\n",
        "\n",
        "4. Boosting, using XGBoost.  \n",
        "We follow the procedure described below:\n",
        "  - Random Search.\n",
        "  - Grid Search.\n",
        "  - Prediction using the tuned parameters of each model.\n",
        "\n",
        "#### Datasets\n",
        "1. [Contraception Methods](https://archive.ics.uci.edu/ml/machine-learning-databases/cmc/cmc.data)\n",
        "2. **Wine** - Using sklearn\u0027 s import.\n",
        "3. **Iris** - Using sklearn\u0027 s import.\n",
        "4. [Breast Cancer](https://www.kaggle.com/uciml/breast-cancer-wisconsin-data?fbclid\u003dIwAR2ZT56DdRbU45HMFvq6gwTdjKsS-RLSQ0B1TQM4cskmA27x-upTF0n66BI)\n",
        "5. [Seeds](https://archive.ics.uci.edu/ml/machine-learning-databases/00236/seeds_dataset.txt)\n",
        "6. [Glass Identification](https://archive.ics.uci.edu/ml/machine-learning-databases/glass/glass.data)\n",
        "7. [Tic Tac Toe](https://archive.ics.uci.edu/ml/machine-learning-databases/tic-tac-toe/tic-tac-toe.data)\n",
        "8. [Wholesale Customers](https://archive.ics.uci.edu/ml/machine-learning-databases/00292/Wholesale%20customers%20data.csv)\n",
        "9. **Diabetes** - Using sklearn\u0027 s import.\n",
        "10. [Teaching Assistant Evaluation](https://archive.ics.uci.edu/ml/machine-learning-databases/tae/tae.data)\n",
        "\n",
        "#### Comparison\n",
        "TODO"
      ]
    },
    {
      "metadata": {
        "id": "3gg3QzRDr0LW",
        "colab_type": "text",
        "pycharm": {}
      },
      "cell_type": "markdown",
      "source": [
        "# Globals"
      ]
    },
    {
      "metadata": {
        "pycharm": {
          "metadata": false,
          "name": "#%% md\n"
        },
        "id": "tdoxjU9EhpCo",
        "colab_type": "text"
      },
      "cell_type": "markdown",
      "source": "\n### Import all modules.\n"
    },
    {
      "metadata": {
        "pycharm": {
          "is_executing": true,
          "metadata": false,
          "name": "#%%\n"
        },
        "id": "BzxjcU_hhpCu",
        "colab_type": "code",
        "colab": {}
      },
      "cell_type": "code",
      "source": "import io\nimport itertools\nimport time\n\nimport matplotlib.pyplot as plt\nimport numpy as np\nimport requests\nimport seaborn as sns\nimport xgboost as xgb\nfrom mlxtend.classifier import StackingClassifier\nfrom pandas import read_csv\nfrom scipy.stats import randint as sp_randint\nfrom sklearn import preprocessing\nfrom sklearn.ensemble import BaggingClassifier\nfrom sklearn.ensemble import RandomForestClassifier\nfrom sklearn.linear_model import LogisticRegression\nfrom sklearn.metrics import classification_report\nfrom sklearn.model_selection import GridSearchCV\nfrom sklearn.model_selection import RandomizedSearchCV\nfrom sklearn.model_selection import cross_val_score\nfrom sklearn.model_selection import train_test_split\nfrom sklearn.naive_bayes import GaussianNB\nfrom sklearn.neighbors import KNeighborsClassifier\nfrom sklearn.tree import DecisionTreeClassifier\n\n%matplotlib inline",
      "execution_count": 0,
      "outputs": []
    },
    {
      "metadata": {
        "pycharm": {
          "metadata": false,
          "name": "#%% md\n"
        },
        "id": "UBswz_GbhpDG",
        "colab_type": "text"
      },
      "cell_type": "markdown",
      "source": "\n### Define global functions to be used in the project.\n"
    },
    {
      "metadata": {
        "pycharm": {
          "metadata": false,
          "name": "#%%\n"
        },
        "id": "ZYM8VTkJhpDN",
        "colab_type": "code",
        "colab": {}
      },
      "cell_type": "code",
      "source": "\ndef report(results, n_top\u003d3) -\u003e None:\n    \"\"\"\n    Utility function to report best scores of Grid/Random Search CV.\n    \n    :param results: the search results.\n    :param n_top: the number of top scores to show.\n    \"\"\"\n    for i in range(1, n_top + 1):\n        scores \u003d np.flatnonzero(results[\u0027rank_test_score\u0027] \u003d\u003d i)\n        for score in scores:\n            print(\u0027Model with rank: {0}\u0027.format(i))\n            print(\u0027Mean validation score: {0:.3f} (std: {1:.3f})\u0027.format(\n                  results[\u0027mean_test_score\u0027][score],\n                  results[\u0027std_test_score\u0027][score]))\n            print(\u0027Parameters: {0}\u0027.format(results[\u0027params\u0027][score]))\n            print(\u0027\u0027)\n            \ndef estimators_vs_acc(classifier, x_data, y_data, estimators_array) -\u003e None:\n    \"\"\"\n    Plot number of estimators vs accuracy +- std.\n    \"\"\"\n    # Arrays to store mean and std.\n    bg_clf_cv_mean \u003d []\n    bg_clf_cv_std \u003d []\n    \n    # For each number of estimators run a 10 fold CV and store the results.\n    for n_est in estimators_array:\n        bagging_clf \u003d BaggingClassifier(base_estimator\u003dclassifier, n_estimators\u003dn_est)\n        scores \u003d cross_val_score(bagging_clf, x_data, y_data, cv\u003d10, \n                                 scoring\u003d\u0027accuracy\u0027, verbose\u003d2, n_jobs\u003d-1)\n        bg_clf_cv_mean.append(scores.mean())\n        bg_clf_cv_std.append(scores.std())\n    \n    # Plot the accuracy+-std vs number of estimators.\n    plt.figure()\n    (_, caps, _) \u003d plt.errorbar(estimators_array, bg_clf_cv_mean, yerr\u003dbg_clf_cv_std, \n                              c\u003d\u0027blue\u0027, fmt\u003d\u0027-o\u0027, capsize\u003d5)\n    \n    # Configure the plot.\n    for cap in caps:\n        cap.set_markeredgewidth(1)                                                                                                                                \n    plt.ylabel(\u0027Accuracy\u0027)\n    plt.xlabel(\u0027Ensemble Size\u0027)\n    plt.title(\u0027Bagging Tree Ensemble\u0027)\n    plt.show()\n    \ndef plot_accuracy_stacking(label_list,clfs,x_data,y_data):\n    \"\"\"\n    Plot accuracy +- std for each model used in the stacking model \n    and for the final classifier.\n    \"\"\"\n    label \u003d label_list\n    clf_list \u003d clfs\n    \n    grid \u003d itertools.product([0,1],repeat\u003dlen(clf_list) -1)\n\n    clf_cv_mean \u003d []\n    clf_cv_std \u003d []\n    for classifier, label, grd in zip(clf_list, label, grid):\n        scores \u003d cross_val_score(classifier, x_data, y_data, cv\u003d3, scoring\u003d\u0027accuracy\u0027)\n        print (\"Accuracy: %.2f (+/- %.2f) [%s]\" %(scores.mean(), scores.std(), label))\n        clf_cv_mean.append(scores.mean())\n        clf_cv_std.append(scores.std())\n        \n        classifier.fit(x_data, y_data)\n        \n    plt.figure()\n    (_, caps, _) \u003d plt.errorbar(range(len(clf_list)), clf_cv_mean, yerr\u003dclf_cv_std, c\u003d\u0027blue\u0027, fmt\u003d\u0027-o\u0027, capsize\u003d5)\n    for cap in caps:\n        cap.set_markeredgewidth(1)                                                                                                                                \n    plt.xticks(range(len(clf_list)) , label_list)        \n    plt.ylabel(\u0027Accuracy\u0027); plt.xlabel(\u0027Classifier\u0027); plt.title(\u0027Stacking Ensemble\u0027)\n    plt.show()\n",
      "execution_count": 0,
      "outputs": []
    },
    {
      "metadata": {
        "pycharm": {
          "metadata": false,
          "name": "#%% md\n"
        },
        "id": "PGHWI4T8hpCa",
        "colab_type": "text"
      },
      "cell_type": "markdown",
      "source": "\n# Contraception Dataset\n"
    },
    {
      "metadata": {
        "pycharm": {
          "metadata": false,
          "name": "#%% md\n"
        },
        "id": "p0BMJn9bhpDd",
        "colab_type": "text"
      },
      "cell_type": "markdown",
      "source": "\n## Prepare the dataset.\n"
    },
    {
      "metadata": {
        "pycharm": {
          "metadata": false,
          "name": "#%%\n"
        },
        "id": "NU9UgAmRhpDi",
        "colab_type": "code",
        "colab": {}
      },
      "cell_type": "code",
      "source": "\n# Read the dataset.\nurl\u003d\"https://archive.ics.uci.edu/ml/machine-learning-databases/cmc/cmc.data\"\ns\u003drequests.get(url).content\ndataset\u003dread_csv(io.StringIO(s.decode(\u0027utf-8\u0027)))\n# Get x and y.\nX, y \u003d dataset.iloc[:, :-1].values, dataset.iloc[:, -1].values\n# Split to training and test pairs.\nX_train, X_test, y_train, y_test \u003d train_test_split(X, y, test_size\u003d0.3, \n                                                    random_state\u003d0)\n",
      "execution_count": 0,
      "outputs": []
    },
    {
      "metadata": {
        "id": "02hnSx82zVIE",
        "colab_type": "text",
        "pycharm": {}
      },
      "cell_type": "markdown",
      "source": [
        "## Bagging"
      ]
    },
    {
      "metadata": {
        "id": "p5ByicKb6A2B",
        "colab_type": "code",
        "colab": {},
        "pycharm": {}
      },
      "cell_type": "code",
      "source": [
        "# Define a Decision Tree classifier for the ensemble.\n",
        "clf \u003d DecisionTreeClassifier(random_state\u003d0)"
      ],
      "execution_count": 0,
      "outputs": []
    },
    {
      "metadata": {
        "id": "HmQTL7z0j93-",
        "colab_type": "text",
        "pycharm": {}
      },
      "cell_type": "markdown",
      "source": [
        "### Random Search\n",
        "Run a Random Search using 10 fold cross validation, for the classifier which will be used in the bagging."
      ]
    },
    {
      "metadata": {
        "pycharm": {
          "is_executing": false,
          "metadata": false,
          "name": "#%%\n"
        },
        "id": "1XmoZwpGhpDz",
        "colab_type": "code",
        "outputId": "6424ce88-7152-49be-9991-52f2217c9101",
        "colab": {
          "base_uri": "https://localhost:8080/",
          "height": 367
        }
      },
      "cell_type": "code",
      "source": "\n# Specify parameters and distributions to sample from, \n# candidates to be created and classifier to be used.\nparam_dist \u003d {\u0027max_depth\u0027: sp_randint(4, 30),\n              \u0027max_features\u0027: sp_randint(1, 9),\n              \u0027min_samples_split\u0027: sp_randint(2, 11),\n              \u0027criterion\u0027: [\u0027gini\u0027, \u0027entropy\u0027]}\ncandidates \u003d 40\n\n# Run a random search CV.\nrandom_search \u003d RandomizedSearchCV(clf, param_dist, candidates, cv\u003d10, \n                                   n_jobs\u003d-1, verbose\u003d5)\nstart \u003d time.time()\nrandom_search.fit(X_train, y_train)\nprint(\u0027RandomizedSearchCV took {:.2f} seconds \\\n      for {} candidates parameter settings.\u0027\n      .format((time.time() - start), candidates))\nreport(random_search.cv_results_)\n\n",
      "execution_count": 0,
      "outputs": [
        {
          "output_type": "stream",
          "text": [
            "Fitting 10 folds for each of 40 candidates, totalling 400 fits\n"
          ],
          "name": "stdout"
        },
        {
          "output_type": "stream",
          "text": [
            "[Parallel(n_jobs\u003d-1)]: Using backend LokyBackend with 2 concurrent workers.\n",
            "[Parallel(n_jobs\u003d-1)]: Done  14 tasks      | elapsed:    1.8s\n"
          ],
          "name": "stderr"
        },
        {
          "output_type": "stream",
          "text": [
            "RandomizedSearchCV took 2.97 seconds       for 40 candidates parameter settings.\n",
            "Model with rank: 1\n",
            "Mean validation score: 0.529 (std: 0.046)\n",
            "Parameters: {\u0027criterion\u0027: \u0027gini\u0027, \u0027max_depth\u0027: 9, \u0027max_features\u0027: 4, \u0027min_samples_split\u0027: 10}\n",
            "\n",
            "Model with rank: 2\n",
            "Mean validation score: 0.521 (std: 0.039)\n",
            "Parameters: {\u0027criterion\u0027: \u0027entropy\u0027, \u0027max_depth\u0027: 5, \u0027max_features\u0027: 6, \u0027min_samples_split\u0027: 2}\n",
            "\n",
            "Model with rank: 3\n",
            "Mean validation score: 0.511 (std: 0.042)\n",
            "Parameters: {\u0027criterion\u0027: \u0027gini\u0027, \u0027max_depth\u0027: 27, \u0027max_features\u0027: 8, \u0027min_samples_split\u0027: 10}\n",
            "\n"
          ],
          "name": "stdout"
        },
        {
          "output_type": "stream",
          "text": [
            "[Parallel(n_jobs\u003d-1)]: Done 400 out of 400 | elapsed:    2.9s finished\n",
            "/usr/local/lib/python3.6/dist-packages/sklearn/model_selection/_search.py:841: DeprecationWarning: The default of the `iid` parameter will change from True to False in version 0.22 and will be removed in 0.24. This will change numeric results when test-set sizes are unequal.\n",
            "  DeprecationWarning)\n"
          ],
          "name": "stderr"
        }
      ]
    },
    {
      "metadata": {
        "id": "6twRwfypkGP3",
        "colab_type": "text",
        "pycharm": {}
      },
      "cell_type": "markdown",
      "source": [
        "### Grid Search\n",
        "Run a Grid search, using 10 fold cross validation for the area around the best results found with the Random Search."
      ]
    },
    {
      "metadata": {
        "id": "SLxTx7SdkdD3",
        "colab_type": "code",
        "outputId": "803b3aca-2360-43ef-daad-97f2327327a9",
        "colab": {
          "base_uri": "https://localhost:8080/",
          "height": 382
        },
        "pycharm": {}
      },
      "cell_type": "code",
      "source": "# Specify parameter_grid for the search.\nparam_grid \u003d {\u0027max_depth\u0027: [4, 5, 6],\n              \u0027max_features\u0027: [6, 7, 8],\n              \u0027min_samples_split\u0027: [4, 5, 6, 7],\n              \u0027criterion\u0027: [\u0027gini\u0027, \u0027entropy\u0027]}\n\n# Run a grid search CV.\ngrid_search \u003d GridSearchCV(clf, param_grid, cv\u003d10, n_jobs\u003d-1, verbose\u003d5)\nstart \u003d time.time()\ngrid_search.fit(X_train, y_train)\nprint(\u0027GridSearchCV took {:.2f} seconds.\u0027\n      .format((time.time() - start)))\nreport(grid_search.cv_results_)",
      "execution_count": 0,
      "outputs": [
        {
          "output_type": "stream",
          "text": [
            "Fitting 10 folds for each of 72 candidates, totalling 720 fits\n"
          ],
          "name": "stdout"
        },
        {
          "output_type": "stream",
          "text": [
            "[Parallel(n_jobs\u003d-1)]: Using backend LokyBackend with 2 concurrent workers.\n",
            "[Parallel(n_jobs\u003d-1)]: Done  14 tasks      | elapsed:    1.2s\n"
          ],
          "name": "stderr"
        },
        {
          "output_type": "stream",
          "text": [
            "GridSearchCV took 2.80 seconds.\n",
            "Model with rank: 1\n",
            "Mean validation score: 0.564 (std: 0.037)\n",
            "Parameters: {\u0027criterion\u0027: \u0027gini\u0027, \u0027max_depth\u0027: 5, \u0027max_features\u0027: 7, \u0027min_samples_split\u0027: 5}\n",
            "\n",
            "Model with rank: 1\n",
            "Mean validation score: 0.564 (std: 0.037)\n",
            "Parameters: {\u0027criterion\u0027: \u0027gini\u0027, \u0027max_depth\u0027: 5, \u0027max_features\u0027: 7, \u0027min_samples_split\u0027: 6}\n",
            "\n",
            "Model with rank: 1\n",
            "Mean validation score: 0.564 (std: 0.037)\n",
            "Parameters: {\u0027criterion\u0027: \u0027gini\u0027, \u0027max_depth\u0027: 5, \u0027max_features\u0027: 7, \u0027min_samples_split\u0027: 7}\n",
            "\n",
            "Model with rank: 1\n",
            "Mean validation score: 0.564 (std: 0.035)\n",
            "Parameters: {\u0027criterion\u0027: \u0027entropy\u0027, \u0027max_depth\u0027: 4, \u0027max_features\u0027: 8, \u0027min_samples_split\u0027: 4}\n",
            "\n"
          ],
          "name": "stdout"
        },
        {
          "output_type": "stream",
          "text": [
            "[Parallel(n_jobs\u003d-1)]: Done 720 out of 720 | elapsed:    2.8s finished\n"
          ],
          "name": "stderr"
        }
      ]
    },
    {
      "metadata": {
        "pycharm": {
          "metadata": false,
          "name": "#%% md\n"
        },
        "id": "8lDZUbAMhpDv",
        "colab_type": "text"
      },
      "cell_type": "markdown",
      "source": "\n### Create the Bagging Ensemble.\nCreate the Bagging Ensemble, using the best parameters found from the above procedure.  \nSince the mean accuracy is the same, we are using the best scores with the minimum std, between the different CV folds.  \nWe make prediction to the test data, which were left out at the train-test-split procedure and not to the training data again.  \nWe are using a 10 fold cross validation method, in order to visualize the best number of classifiers."
    },
    {
      "metadata": {
        "pycharm": {
          "metadata": false,
          "name": "#%%\n"
        },
        "id": "XoX_EfUOhpEF",
        "colab_type": "code",
        "outputId": "25cbed82-a09a-4c5e-eceb-f99db978a41b",
        "colab": {
          "base_uri": "https://localhost:8080/",
          "height": 661
        }
      },
      "cell_type": "code",
      "source": "\n# Add best values for the classifier.\nclf.max_depth \u003d 4\nclf.max_features \u003d 8\nclf.min_samples_split \u003d 4\nclf.criterion \u003d \u0027entropy\u0027\n\n# Plot accuracy vs number of estimators.\nestimators_vs_acc(clf, X_train, y_train, estimators_array\u003drange(1, 1000, 100))",
      "execution_count": 99,
      "outputs": [
        {
          "output_type": "stream",
          "text": [
            "[Parallel(n_jobs\u003d-1)]: Using backend LokyBackend with 2 concurrent workers.\n",
            "[Parallel(n_jobs\u003d-1)]: Done  10 out of  10 | elapsed:    0.0s finished\n",
            "[Parallel(n_jobs\u003d-1)]: Using backend LokyBackend with 2 concurrent workers.\n",
            "[Parallel(n_jobs\u003d-1)]: Done  10 out of  10 | elapsed:    0.9s finished\n",
            "[Parallel(n_jobs\u003d-1)]: Using backend LokyBackend with 2 concurrent workers.\n",
            "[Parallel(n_jobs\u003d-1)]: Done  10 out of  10 | elapsed:    1.6s finished\n",
            "[Parallel(n_jobs\u003d-1)]: Using backend LokyBackend with 2 concurrent workers.\n",
            "[Parallel(n_jobs\u003d-1)]: Done  10 out of  10 | elapsed:    3.1s finished\n",
            "[Parallel(n_jobs\u003d-1)]: Using backend LokyBackend with 2 concurrent workers.\n",
            "[Parallel(n_jobs\u003d-1)]: Done  10 out of  10 | elapsed:    4.1s finished\n",
            "[Parallel(n_jobs\u003d-1)]: Using backend LokyBackend with 2 concurrent workers.\n",
            "[Parallel(n_jobs\u003d-1)]: Done  10 out of  10 | elapsed:    5.1s finished\n",
            "[Parallel(n_jobs\u003d-1)]: Using backend LokyBackend with 2 concurrent workers.\n",
            "[Parallel(n_jobs\u003d-1)]: Done  10 out of  10 | elapsed:    6.1s finished\n",
            "[Parallel(n_jobs\u003d-1)]: Using backend LokyBackend with 2 concurrent workers.\n",
            "[Parallel(n_jobs\u003d-1)]: Done  10 out of  10 | elapsed:    7.4s finished\n",
            "[Parallel(n_jobs\u003d-1)]: Using backend LokyBackend with 2 concurrent workers.\n",
            "[Parallel(n_jobs\u003d-1)]: Done  10 out of  10 | elapsed:    8.2s finished\n",
            "[Parallel(n_jobs\u003d-1)]: Using backend LokyBackend with 2 concurrent workers.\n",
            "[Parallel(n_jobs\u003d-1)]: Done  10 out of  10 | elapsed:    9.1s finished\n"
          ],
          "name": "stderr"
        },
        {
          "output_type": "display_data",
          "data": {
            "image/png": "[encoded data removed]",
            "text/plain": [
              "\u003cFigure size 432x288 with 1 Axes\u003e"
            ]
          },
          "metadata": {
            "tags": []
          }
        }
      ]
    },
    {
      "metadata": {
        "id": "c0ID5qoa3TCX",
        "colab_type": "text",
        "pycharm": {}
      },
      "cell_type": "markdown",
      "source": [
        "### Predict\n",
        "Predict, using the best number of classifiers, based on the previous cross validation method.  \n",
        "The best number of estimators seems to be 600, since the accuracy is high and the deviation is low."
      ]
    },
    {
      "metadata": {
        "id": "DtWsNmS2zGMf",
        "colab_type": "code",
        "colab": {
          "base_uri": "https://localhost:8080/",
          "height": 219
        },
        "outputId": "17aa26aa-b5ac-4c61-ad6f-d9a5a0ed3f28",
        "pycharm": {}
      },
      "cell_type": "code",
      "source": [
        "bg_clf \u003d BaggingClassifier(base_estimator\u003dclf, n_estimators\u003d600)\n",
        "bg_clf.fit(X_train, y_train)\n",
        "y_pred \u003d bg_clf.predict(X_test)\n",
        "print(\u0027Final Result: \\n{}\u0027.format(classification_report(y_test,y_pred)))"
      ],
      "execution_count": 100,
      "outputs": [
        {
          "output_type": "stream",
          "text": [
            "Final Result: \n",
            "              precision    recall  f1-score   support\n",
            "\n",
            "           1       0.68      0.52      0.59       180\n",
            "           2       0.68      0.17      0.27       115\n",
            "           3       0.44      0.84      0.58       147\n",
            "\n",
            "   micro avg       0.53      0.53      0.53       442\n",
            "   macro avg       0.60      0.51      0.48       442\n",
            "weighted avg       0.60      0.53      0.50       442\n",
            "\n"
          ],
          "name": "stdout"
        }
      ]
    },
    {
      "metadata": {
        "id": "yZBJM5kH0C7f",
        "colab_type": "text",
        "pycharm": {}
      },
      "cell_type": "markdown",
      "source": [
        "## Random Forest"
      ]
    },
    {
      "metadata": {
        "colab_type": "text",
        "id": "JQhAYxt60zmb",
        "pycharm": {}
      },
      "cell_type": "markdown",
      "source": [
        "### Random Search\n",
        "Run a Random Search using 10 fold cross validation."
      ]
    },
    {
      "metadata": {
        "pycharm": {
          "is_executing": false,
          "metadata": false,
          "name": "#%%\n"
        },
        "colab_type": "code",
        "outputId": "69f27481-d1e0-454a-aa3e-546d71d1afef",
        "id": "C2Se5T6T0zmi",
        "colab": {
          "base_uri": "https://localhost:8080/",
          "height": 471
        }
      },
      "cell_type": "code",
      "source": "\n# Specify parameters and distributions to sample from, \n# candidates to be created and classifier to be used.\nparam_dist \u003d {\u0027max_depth\u0027: sp_randint(4, 30),\n              \u0027max_features\u0027: sp_randint(1, 9),\n              \u0027min_samples_split\u0027: sp_randint(2, 11),\n              \u0027n_estimators\u0027: sp_randint(20, 3000),\n              \u0027criterion\u0027: [\u0027gini\u0027, \u0027entropy\u0027]}\ncandidates \u003d 100\nclf \u003d RandomForestClassifier(random_state\u003d0, n_jobs\u003d-1)\n\n# Run a random search CV.\nrandom_search \u003d RandomizedSearchCV(clf, param_dist, candidates, cv\u003d10, \n                                   n_jobs\u003d-1, verbose\u003d5)\nstart \u003d time.time()\nrandom_search.fit(X, y)\nprint(\u0027RandomizedSearchCV took {:.2f} seconds \\\n      for {} candidates parameter settings.\u0027\n      .format((time.time() - start), candidates))\nreport(random_search.cv_results_)\n\n",
      "execution_count": 0,
      "outputs": [
        {
          "output_type": "stream",
          "text": [
            "Fitting 10 folds for each of 100 candidates, totalling 1000 fits\n"
          ],
          "name": "stdout"
        },
        {
          "output_type": "stream",
          "text": [
            "[Parallel(n_jobs\u003d-1)]: Using backend LokyBackend with 2 concurrent workers.\n",
            "[Parallel(n_jobs\u003d-1)]: Done  14 tasks      | elapsed:   50.6s\n",
            "/usr/local/lib/python3.6/dist-packages/sklearn/externals/joblib/externals/loky/process_executor.py:706: UserWarning: A worker stopped while some jobs were given to the executor. This can be caused by a too short worker timeout or by a memory leak.\n",
            "  \"timeout or by a memory leak.\", UserWarning\n",
            "[Parallel(n_jobs\u003d-1)]: Done  68 tasks      | elapsed:  3.3min\n",
            "[Parallel(n_jobs\u003d-1)]: Done 158 tasks      | elapsed:  7.0min\n",
            "[Parallel(n_jobs\u003d-1)]: Done 284 tasks      | elapsed: 13.8min\n",
            "[Parallel(n_jobs\u003d-1)]: Done 446 tasks      | elapsed: 21.5min\n",
            "[Parallel(n_jobs\u003d-1)]: Done 644 tasks      | elapsed: 30.4min\n",
            "[Parallel(n_jobs\u003d-1)]: Done 878 tasks      | elapsed: 42.0min\n",
            "[Parallel(n_jobs\u003d-1)]: Done 1000 out of 1000 | elapsed: 46.8min finished\n"
          ],
          "name": "stderr"
        },
        {
          "output_type": "stream",
          "text": [
            "RandomizedSearchCV took 2810.07 seconds for 100 candidates parameter settings.\n",
            "Model with rank: 1\n",
            "Mean validation score: 0.567 (std: 0.037)\n",
            "Parameters: {\u0027criterion\u0027: \u0027entropy\u0027, \u0027max_depth\u0027: 4, \u0027max_features\u0027: 8, \u0027min_samples_split\u0027: 10, \u0027n_estimators\u0027: 1562}\n",
            "\n",
            "Model with rank: 2\n",
            "Mean validation score: 0.566 (std: 0.039)\n",
            "Parameters: {\u0027criterion\u0027: \u0027gini\u0027, \u0027max_depth\u0027: 8, \u0027max_features\u0027: 5, \u0027min_samples_split\u0027: 5, \u0027n_estimators\u0027: 646}\n",
            "\n",
            "Model with rank: 3\n",
            "Mean validation score: 0.565 (std: 0.032)\n",
            "Parameters: {\u0027criterion\u0027: \u0027entropy\u0027, \u0027max_depth\u0027: 5, \u0027max_features\u0027: 7, \u0027min_samples_split\u0027: 9, \u0027n_estimators\u0027: 1677}\n",
            "\n"
          ],
          "name": "stdout"
        }
      ]
    },
    {
      "metadata": {
        "colab_type": "text",
        "id": "v0xWZG1Q1T58",
        "pycharm": {}
      },
      "cell_type": "markdown",
      "source": [
        "### Grid Search\n",
        "Run a Grid search, using 10 fold cross validation for the area around the best results found with the Random Search."
      ]
    },
    {
      "metadata": {
        "colab_type": "code",
        "outputId": "2a226fbb-9c7b-4d43-9f76-955135e422fc",
        "id": "xirLGV6L1T6U",
        "colab": {
          "base_uri": "https://localhost:8080/",
          "height": 1146
        },
        "pycharm": {}
      },
      "cell_type": "code",
      "source": "# Specify parameter_grid for the search.\nparam_grid \u003d {\u0027max_depth\u0027: [4, 5, 6],\n              \u0027max_features\u0027: [6, 7, 8],\n              \u0027min_samples_split\u0027: [8, 9, 10],\n              \u0027n_estimators\u0027: np.arange(1675, 1680, 2)}\n\nclf.criterion \u003d \u0027entropy\u0027\n\n# Run a grid search CV.\ngrid_search \u003d GridSearchCV(clf, param_grid, cv\u003d10, n_jobs\u003d-1, verbose\u003d8)\nstart \u003d time.time()\ngrid_search.fit(X, y)\nprint(\u0027GridSearchCV took {:.2f} seconds.\u0027\n      .format((time.time() - start)))\nreport(grid_search.cv_results_)",
      "execution_count": 0,
      "outputs": [
        {
          "output_type": "stream",
          "text": [
            "Fitting 10 folds for each of 81 candidates, totalling 810 fits\n"
          ],
          "name": "stdout"
        },
        {
          "output_type": "stream",
          "text": [
            "[Parallel(n_jobs\u003d-1)]: Using backend LokyBackend with 2 concurrent workers.\n",
            "[Parallel(n_jobs\u003d-1)]: Done   1 tasks      | elapsed:    5.8s\n",
            "[Parallel(n_jobs\u003d-1)]: Done  14 tasks      | elapsed:   33.6s\n",
            "[Parallel(n_jobs\u003d-1)]: Done  37 tasks      | elapsed:  1.5min\n",
            "[Parallel(n_jobs\u003d-1)]: Done  68 tasks      | elapsed:  2.6min\n",
            "[Parallel(n_jobs\u003d-1)]: Done 109 tasks      | elapsed:  4.3min\n",
            "[Parallel(n_jobs\u003d-1)]: Done 158 tasks      | elapsed:  6.2min\n",
            "[Parallel(n_jobs\u003d-1)]: Done 217 tasks      | elapsed:  8.7min\n",
            "[Parallel(n_jobs\u003d-1)]: Done 284 tasks      | elapsed: 11.4min\n",
            "[Parallel(n_jobs\u003d-1)]: Done 361 tasks      | elapsed: 14.6min\n",
            "[Parallel(n_jobs\u003d-1)]: Done 446 tasks      | elapsed: 18.2min\n",
            "[Parallel(n_jobs\u003d-1)]: Done 541 tasks      | elapsed: 22.5min\n",
            "[Parallel(n_jobs\u003d-1)]: Done 644 tasks      | elapsed: 27.0min\n",
            "[Parallel(n_jobs\u003d-1)]: Done 757 tasks      | elapsed: 32.4min\n",
            "[Parallel(n_jobs\u003d-1)]: Done 810 out of 810 | elapsed: 34.9min finished\n"
          ],
          "name": "stderr"
        },
        {
          "output_type": "stream",
          "text": [
            "GridSearchCV took 2095.65 seconds.\n",
            "Model with rank: 1\n",
            "Mean validation score: 0.566 (std: 0.037)\n",
            "Parameters: {\u0027max_depth\u0027: 4, \u0027max_features\u0027: 8, \u0027min_samples_split\u0027: 8, \u0027n_estimators\u0027: 1675}\n",
            "\n",
            "Model with rank: 1\n",
            "Mean validation score: 0.566 (std: 0.037)\n",
            "Parameters: {\u0027max_depth\u0027: 4, \u0027max_features\u0027: 8, \u0027min_samples_split\u0027: 8, \u0027n_estimators\u0027: 1677}\n",
            "\n",
            "Model with rank: 1\n",
            "Mean validation score: 0.566 (std: 0.037)\n",
            "Parameters: {\u0027max_depth\u0027: 4, \u0027max_features\u0027: 8, \u0027min_samples_split\u0027: 8, \u0027n_estimators\u0027: 1679}\n",
            "\n",
            "Model with rank: 1\n",
            "Mean validation score: 0.566 (std: 0.037)\n",
            "Parameters: {\u0027max_depth\u0027: 4, \u0027max_features\u0027: 8, \u0027min_samples_split\u0027: 9, \u0027n_estimators\u0027: 1675}\n",
            "\n",
            "Model with rank: 1\n",
            "Mean validation score: 0.566 (std: 0.037)\n",
            "Parameters: {\u0027max_depth\u0027: 4, \u0027max_features\u0027: 8, \u0027min_samples_split\u0027: 9, \u0027n_estimators\u0027: 1677}\n",
            "\n",
            "Model with rank: 1\n",
            "Mean validation score: 0.566 (std: 0.037)\n",
            "Parameters: {\u0027max_depth\u0027: 4, \u0027max_features\u0027: 8, \u0027min_samples_split\u0027: 9, \u0027n_estimators\u0027: 1679}\n",
            "\n",
            "Model with rank: 1\n",
            "Mean validation score: 0.566 (std: 0.037)\n",
            "Parameters: {\u0027max_depth\u0027: 4, \u0027max_features\u0027: 8, \u0027min_samples_split\u0027: 10, \u0027n_estimators\u0027: 1675}\n",
            "\n",
            "Model with rank: 1\n",
            "Mean validation score: 0.566 (std: 0.037)\n",
            "Parameters: {\u0027max_depth\u0027: 4, \u0027max_features\u0027: 8, \u0027min_samples_split\u0027: 10, \u0027n_estimators\u0027: 1677}\n",
            "\n",
            "Model with rank: 1\n",
            "Mean validation score: 0.566 (std: 0.037)\n",
            "Parameters: {\u0027max_depth\u0027: 4, \u0027max_features\u0027: 8, \u0027min_samples_split\u0027: 10, \u0027n_estimators\u0027: 1679}\n",
            "\n",
            "Model with rank: 1\n",
            "Mean validation score: 0.566 (std: 0.031)\n",
            "Parameters: {\u0027max_depth\u0027: 5, \u0027max_features\u0027: 7, \u0027min_samples_split\u0027: 10, \u0027n_estimators\u0027: 1675}\n",
            "\n",
            "Model with rank: 1\n",
            "Mean validation score: 0.566 (std: 0.031)\n",
            "Parameters: {\u0027max_depth\u0027: 5, \u0027max_features\u0027: 7, \u0027min_samples_split\u0027: 10, \u0027n_estimators\u0027: 1677}\n",
            "\n",
            "Model with rank: 1\n",
            "Mean validation score: 0.566 (std: 0.031)\n",
            "Parameters: {\u0027max_depth\u0027: 5, \u0027max_features\u0027: 7, \u0027min_samples_split\u0027: 10, \u0027n_estimators\u0027: 1679}\n",
            "\n"
          ],
          "name": "stdout"
        }
      ]
    },
    {
      "metadata": {
        "pycharm": {
          "metadata": false,
          "name": "#%% md\n"
        },
        "colab_type": "text",
        "id": "clL80GLK16XP"
      },
      "cell_type": "markdown",
      "source": "\n### Predict using the Random Forest Ensemble.\nMake prediction with the Random Forest Ensemble, using the best parameters found from the above procedure.\n"
    },
    {
      "metadata": {
        "pycharm": {
          "metadata": false,
          "name": "#%%\n"
        },
        "colab_type": "code",
        "id": "XTkdwobf2N2r",
        "outputId": "ca013664-f6f2-4d5b-a748-567c85974b44",
        "colab": {
          "base_uri": "https://localhost:8080/",
          "height": 208
        }
      },
      "cell_type": "code",
      "source": [
        "\n",
        "# Add best values for the classifier.\n",
        "clf.max_depth \u003d 5\n",
        "clf.max_features \u003d 7\n",
        "clf.min_samples_split \u003d 10\n",
        "clf.n_estimators \u003d 1679\n",
        "clf.fit(X_train,y_train)\n",
        "y_pred \u003d clf.predict(X_test)\n",
        "print(\u0027Final Result: \\n{}\u0027.format(classification_report(y_test,y_pred)))"
      ],
      "execution_count": 0,
      "outputs": [
        {
          "output_type": "stream",
          "text": [
            "Final Result: \n",
            "              precision    recall  f1-score   support\n",
            "\n",
            "           1       0.66      0.53      0.58       180\n",
            "           2       0.67      0.24      0.36       115\n",
            "           3       0.45      0.78      0.57       147\n",
            "\n",
            "   micro avg       0.54      0.54      0.54       442\n",
            "   macro avg       0.59      0.52      0.50       442\n",
            "weighted avg       0.59      0.54      0.52       442\n",
            "\n"
          ],
          "name": "stdout"
        }
      ]
    },
    {
      "metadata": {
        "colab_type": "text",
        "id": "ThktNeMrhsR7",
        "pycharm": {}
      },
      "cell_type": "markdown",
      "source": [
        "## Stacking"
      ]
    },
    {
      "metadata": {
        "id": "XVkMLSTgs_kl",
        "colab_type": "text",
        "pycharm": {}
      },
      "cell_type": "markdown",
      "source": [
        "### Define the Stacking Classifier"
      ]
    },
    {
      "metadata": {
        "id": "pKKiQ7W2s7Dg",
        "colab_type": "code",
        "colab": {},
        "pycharm": {}
      },
      "cell_type": "code",
      "source": [
        "clf1 \u003d KNeighborsClassifier()\n",
        "clf2 \u003d KNeighborsClassifier()\n",
        "clf3 \u003d DecisionTreeClassifier(random_state\u003d0)\n",
        "clf4 \u003d GaussianNB()\n",
        "meta_clf \u003d LogisticRegression(solver \u003d \u0027lbfgs\u0027, multi_class \u003d \u0027auto\u0027)\n",
        "sclf \u003d StackingClassifier(classifiers\u003d[clf1,clf1, clf2, clf3], \n",
        "                          meta_classifier\u003dmeta_clf)"
      ],
      "execution_count": 0,
      "outputs": []
    },
    {
      "metadata": {
        "colab_type": "text",
        "id": "3EMLY1mvhsSN",
        "pycharm": {}
      },
      "cell_type": "markdown",
      "source": [
        "### Random Search"
      ]
    },
    {
      "metadata": {
        "colab_type": "code",
        "outputId": "04fe6297-79de-45e0-f426-42cb4a3e3522",
        "id": "TwkKOJJQhsSY",
        "colab": {
          "base_uri": "https://localhost:8080/",
          "height": 662
        },
        "pycharm": {}
      },
      "cell_type": "code",
      "source": [
        "param_dist \u003d {\u0027kneighborsclassifier-1__n_neighbors\u0027: sp_randint(4, 30),\n",
        "              \u0027kneighborsclassifier-2__n_neighbors\u0027: sp_randint(4, 30),\n",
        "              \u0027decisiontreeclassifier__max_depth\u0027: sp_randint(2, 30),\n",
        "              \u0027meta-logisticregression__C\u0027: np.random.uniform(0.01, 1000, 10000)}\n",
        "\n",
        "candidates \u003d 150\n",
        "\n",
        "# Run a random search CV.\n",
        "random_search \u003d RandomizedSearchCV(sclf, param_dist, candidates, cv\u003d10, \n",
        "                                   n_jobs\u003d-1, verbose\u003d9)\n",
        "start \u003d time.time()\n",
        "random_search.fit(X_train, y_train)\n",
        "print(\u0027RandomizedSearchCV took {:.2f} seconds, \u0027\n",
        "      \u0027for {} candidates parameter settings.\u0027\n",
        "      .format((time.time() - start), candidates))\n",
        "report(random_search.cv_results_)"
      ],
      "execution_count": 0,
      "outputs": [
        {
          "output_type": "stream",
          "text": [
            "Fitting 10 folds for each of 150 candidates, totalling 1500 fits\n"
          ],
          "name": "stdout"
        },
        {
          "output_type": "stream",
          "text": [
            "[Parallel(n_jobs\u003d-1)]: Using backend LokyBackend with 2 concurrent workers.\n",
            "[Parallel(n_jobs\u003d-1)]: Done   4 tasks      | elapsed:    0.3s\n",
            "[Parallel(n_jobs\u003d-1)]: Done  24 tasks      | elapsed:    1.5s\n",
            "[Parallel(n_jobs\u003d-1)]: Done  52 tasks      | elapsed:    3.1s\n",
            "[Parallel(n_jobs\u003d-1)]: Done  88 tasks      | elapsed:    5.3s\n",
            "[Parallel(n_jobs\u003d-1)]: Done 132 tasks      | elapsed:    7.8s\n",
            "[Parallel(n_jobs\u003d-1)]: Done 184 tasks      | elapsed:   10.8s\n",
            "[Parallel(n_jobs\u003d-1)]: Done 244 tasks      | elapsed:   14.4s\n",
            "[Parallel(n_jobs\u003d-1)]: Done 312 tasks      | elapsed:   18.2s\n",
            "[Parallel(n_jobs\u003d-1)]: Done 388 tasks      | elapsed:   22.7s\n",
            "[Parallel(n_jobs\u003d-1)]: Done 472 tasks      | elapsed:   27.5s\n",
            "[Parallel(n_jobs\u003d-1)]: Done 564 tasks      | elapsed:   33.0s\n",
            "[Parallel(n_jobs\u003d-1)]: Done 664 tasks      | elapsed:   39.0s\n",
            "[Parallel(n_jobs\u003d-1)]: Done 772 tasks      | elapsed:   45.4s\n",
            "[Parallel(n_jobs\u003d-1)]: Done 888 tasks      | elapsed:   52.3s\n",
            "[Parallel(n_jobs\u003d-1)]: Done 1012 tasks      | elapsed:   59.7s\n",
            "[Parallel(n_jobs\u003d-1)]: Done 1144 tasks      | elapsed:  1.1min\n",
            "[Parallel(n_jobs\u003d-1)]: Done 1284 tasks      | elapsed:  1.3min\n",
            "[Parallel(n_jobs\u003d-1)]: Done 1432 tasks      | elapsed:  1.4min\n"
          ],
          "name": "stderr"
        },
        {
          "output_type": "stream",
          "text": [
            "RandomizedSearchCV took 88.09 seconds, for 150 candidates parameter settings.\n",
            "Model with rank: 1\n",
            "Mean validation score: 0.525 (std: 0.028)\n",
            "Parameters: {\u0027decisiontreeclassifier__max_depth\u0027: 3, \u0027kneighborsclassifier-1__n_neighbors\u0027: 28, \u0027kneighborsclassifier-2__n_neighbors\u0027: 21, \u0027meta-logisticregression__C\u0027: 322.3367028415909}\n",
            "\n",
            "Model with rank: 2\n",
            "Mean validation score: 0.520 (std: 0.031)\n",
            "Parameters: {\u0027decisiontreeclassifier__max_depth\u0027: 3, \u0027kneighborsclassifier-1__n_neighbors\u0027: 14, \u0027kneighborsclassifier-2__n_neighbors\u0027: 22, \u0027meta-logisticregression__C\u0027: 350.03070307450764}\n",
            "\n",
            "Model with rank: 2\n",
            "Mean validation score: 0.520 (std: 0.032)\n",
            "Parameters: {\u0027decisiontreeclassifier__max_depth\u0027: 8, \u0027kneighborsclassifier-1__n_neighbors\u0027: 26, \u0027kneighborsclassifier-2__n_neighbors\u0027: 8, \u0027meta-logisticregression__C\u0027: 501.7025496028085}\n",
            "\n"
          ],
          "name": "stdout"
        },
        {
          "output_type": "stream",
          "text": [
            "[Parallel(n_jobs\u003d-1)]: Done 1500 out of 1500 | elapsed:  1.5min finished\n",
            "/usr/local/lib/python3.6/dist-packages/sklearn/model_selection/_search.py:841: DeprecationWarning: The default of the `iid` parameter will change from True to False in version 0.22 and will be removed in 0.24. This will change numeric results when test-set sizes are unequal.\n",
            "  DeprecationWarning)\n"
          ],
          "name": "stderr"
        }
      ]
    },
    {
      "metadata": {
        "colab_type": "text",
        "id": "vYjx3OiwhsSx",
        "pycharm": {}
      },
      "cell_type": "markdown",
      "source": [
        "### Grid Search"
      ]
    },
    {
      "metadata": {
        "colab_type": "code",
        "outputId": "23f93d16-2459-4ff4-8e0a-4827adb4dff0",
        "id": "da7O5ZxshsS2",
        "colab": {
          "base_uri": "https://localhost:8080/",
          "height": 819
        },
        "pycharm": {}
      },
      "cell_type": "code",
      "source": [
        "param_grid \u003d {\u0027kneighborsclassifier-1__n_neighbors\u0027: np.arange(22, 30),\n",
        "              \u0027kneighborsclassifier-2__n_neighbors\u0027: np.arange(20, 26),\n",
        "              \u0027decisiontreeclassifier__max_depth\u0027: np.arange(2, 5),\n",
        "              \u0027meta-logisticregression__C\u0027: np.arange(320, 350, 5)}\n",
        "\n",
        "grid_search \u003d GridSearchCV(sclf, param_grid , cv \u003d 10, n_jobs\u003d-1, verbose\u003d5)\n",
        "\n",
        "start \u003d time.time()\n",
        "grid_search.fit(X_train, y_train)\n",
        "print(\u0027GridSearchCV took {:.2f} seconds.\u0027.format((time.time() - start)))\n",
        "report(grid_search.cv_results_)\n"
      ],
      "execution_count": 0,
      "outputs": [
        {
          "output_type": "stream",
          "text": [
            "Fitting 10 folds for each of 864 candidates, totalling 8640 fits\n"
          ],
          "name": "stdout"
        },
        {
          "output_type": "stream",
          "text": [
            "[Parallel(n_jobs\u003d-1)]: Using backend LokyBackend with 2 concurrent workers.\n",
            "[Parallel(n_jobs\u003d-1)]: Done  24 tasks      | elapsed:    1.4s\n",
            "[Parallel(n_jobs\u003d-1)]: Done 132 tasks      | elapsed:    7.8s\n",
            "[Parallel(n_jobs\u003d-1)]: Done 312 tasks      | elapsed:   18.4s\n",
            "[Parallel(n_jobs\u003d-1)]: Done 564 tasks      | elapsed:   33.5s\n",
            "[Parallel(n_jobs\u003d-1)]: Done 888 tasks      | elapsed:   53.0s\n",
            "[Parallel(n_jobs\u003d-1)]: Done 1284 tasks      | elapsed:  1.3min\n",
            "[Parallel(n_jobs\u003d-1)]: Done 1752 tasks      | elapsed:  1.7min\n",
            "[Parallel(n_jobs\u003d-1)]: Done 2292 tasks      | elapsed:  2.3min\n",
            "[Parallel(n_jobs\u003d-1)]: Done 2904 tasks      | elapsed:  2.9min\n",
            "[Parallel(n_jobs\u003d-1)]: Done 3588 tasks      | elapsed:  3.6min\n",
            "[Parallel(n_jobs\u003d-1)]: Done 4344 tasks      | elapsed:  4.3min\n",
            "[Parallel(n_jobs\u003d-1)]: Done 5172 tasks      | elapsed:  5.1min\n",
            "[Parallel(n_jobs\u003d-1)]: Done 6072 tasks      | elapsed:  6.0min\n",
            "[Parallel(n_jobs\u003d-1)]: Done 7044 tasks      | elapsed:  7.0min\n",
            "[Parallel(n_jobs\u003d-1)]: Done 8088 tasks      | elapsed:  8.0min\n"
          ],
          "name": "stderr"
        },
        {
          "output_type": "stream",
          "text": [
            "GridSearchCV took 513.54 seconds.\n",
            "Model with rank: 1\n",
            "Mean validation score: 0.529 (std: 0.030)\n",
            "Parameters: {\u0027decisiontreeclassifier__max_depth\u0027: 3, \u0027kneighborsclassifier-1__n_neighbors\u0027: 25, \u0027kneighborsclassifier-2__n_neighbors\u0027: 20, \u0027meta-logisticregression__C\u0027: 320}\n",
            "\n",
            "Model with rank: 1\n",
            "Mean validation score: 0.529 (std: 0.030)\n",
            "Parameters: {\u0027decisiontreeclassifier__max_depth\u0027: 3, \u0027kneighborsclassifier-1__n_neighbors\u0027: 25, \u0027kneighborsclassifier-2__n_neighbors\u0027: 20, \u0027meta-logisticregression__C\u0027: 325}\n",
            "\n",
            "Model with rank: 1\n",
            "Mean validation score: 0.529 (std: 0.030)\n",
            "Parameters: {\u0027decisiontreeclassifier__max_depth\u0027: 3, \u0027kneighborsclassifier-1__n_neighbors\u0027: 25, \u0027kneighborsclassifier-2__n_neighbors\u0027: 20, \u0027meta-logisticregression__C\u0027: 330}\n",
            "\n",
            "Model with rank: 1\n",
            "Mean validation score: 0.529 (std: 0.030)\n",
            "Parameters: {\u0027decisiontreeclassifier__max_depth\u0027: 3, \u0027kneighborsclassifier-1__n_neighbors\u0027: 25, \u0027kneighborsclassifier-2__n_neighbors\u0027: 20, \u0027meta-logisticregression__C\u0027: 335}\n",
            "\n",
            "Model with rank: 1\n",
            "Mean validation score: 0.529 (std: 0.030)\n",
            "Parameters: {\u0027decisiontreeclassifier__max_depth\u0027: 3, \u0027kneighborsclassifier-1__n_neighbors\u0027: 25, \u0027kneighborsclassifier-2__n_neighbors\u0027: 20, \u0027meta-logisticregression__C\u0027: 340}\n",
            "\n",
            "Model with rank: 1\n",
            "Mean validation score: 0.529 (std: 0.030)\n",
            "Parameters: {\u0027decisiontreeclassifier__max_depth\u0027: 3, \u0027kneighborsclassifier-1__n_neighbors\u0027: 25, \u0027kneighborsclassifier-2__n_neighbors\u0027: 20, \u0027meta-logisticregression__C\u0027: 345}\n",
            "\n"
          ],
          "name": "stdout"
        },
        {
          "output_type": "stream",
          "text": [
            "[Parallel(n_jobs\u003d-1)]: Done 8640 out of 8640 | elapsed:  8.6min finished\n",
            "/usr/local/lib/python3.6/dist-packages/sklearn/model_selection/_search.py:841: DeprecationWarning: The default of the `iid` parameter will change from True to False in version 0.22 and will be removed in 0.24. This will change numeric results when test-set sizes are unequal.\n",
            "  DeprecationWarning)\n"
          ],
          "name": "stderr"
        }
      ]
    },
    {
      "metadata": {
        "pycharm": {
          "metadata": false,
          "name": "#%% md\n"
        },
        "colab_type": "text",
        "id": "t6fGqfRcsWUN"
      },
      "cell_type": "markdown",
      "source": "\n### Predict using the Stacking Ensemble.\nMake prediction with the Stacking Ensemble, using the best parameters found from the above procedure.\n"
    },
    {
      "metadata": {
        "pycharm": {
          "metadata": false,
          "name": "#%%\n"
        },
        "colab_type": "code",
        "outputId": "d8c11288-38cb-4087-acd2-0c557510ced2",
        "id": "c4sZXToisWUW",
        "colab": {
          "base_uri": "https://localhost:8080/",
          "height": 208
        }
      },
      "cell_type": "code",
      "source": [
        "# Use best values for the classifier.\n",
        "clf1.n_neighbors \u003d 25\n",
        "clf2.n_neighbors \u003d 20\n",
        "clf3.max_depth \u003d 3\n",
        "meta_clf.C \u003d 320\n",
        "\n",
        "sclf.fit(X_train,y_train)\n",
        "y_pred \u003d sclf.predict(X_test)\n",
        "print(\u0027Final Result: \\n{}\u0027.format(classification_report(y_test,y_pred)))"
      ],
      "execution_count": 0,
      "outputs": [
        {
          "output_type": "stream",
          "text": [
            "Final Result: \n",
            "              precision    recall  f1-score   support\n",
            "\n",
            "           1       0.53      0.58      0.55       180\n",
            "           2       0.37      0.30      0.33       115\n",
            "           3       0.42      0.43      0.42       147\n",
            "\n",
            "   micro avg       0.45      0.45      0.45       442\n",
            "   macro avg       0.44      0.43      0.43       442\n",
            "weighted avg       0.45      0.45      0.45       442\n",
            "\n"
          ],
          "name": "stdout"
        }
      ]
    },
    {
      "metadata": {
        "colab_type": "text",
        "id": "8YwB6jkoh3iK",
        "pycharm": {}
      },
      "cell_type": "markdown",
      "source": [
        "## XGBoosting"
      ]
    },
    {
      "metadata": {
        "colab_type": "code",
        "id": "AlY94qweh3ih",
        "colab": {},
        "pycharm": {}
      },
      "cell_type": "code",
      "source": [
        "# Create classifier\n",
        "xgb_clf \u003d xgb.XGBClassifier(learning_rate\u003d0.03, n_estimators\u003d600, \n",
        "                            objective\u003d\u0027binary:logistic\u0027, silent\u003dTrue, nthread\u003d1)"
      ],
      "execution_count": 0,
      "outputs": []
    },
    {
      "metadata": {
        "colab_type": "text",
        "id": "ykUsVzMLh3i_",
        "pycharm": {}
      },
      "cell_type": "markdown",
      "source": [
        "### Random Search"
      ]
    },
    {
      "metadata": {
        "colab_type": "code",
        "id": "_DtY5g0ch3jN",
        "colab": {},
        "pycharm": {}
      },
      "cell_type": "code",
      "source": [
        "params \u003d {\u0027min_child_weight\u0027: sp_randint(4, 30),\n",
        "        \u0027gamma\u0027: np.random.uniform(0.5,4,size \u003d 5),\n",
        "        \u0027subsample\u0027: np.random.uniform(0,1,size \u003d4),\n",
        "        \u0027colsample_bytree\u0027: np.random.uniform(0,1,size \u003d4),\n",
        "        \u0027max_depth\u0027: sp_randint(1, 7)}\n",
        "\n",
        "\n",
        "candidates \u003d 10\n",
        "\n",
        "random_search \u003d RandomizedSearchCV(xgb_clf, params, candidates, cv\u003d10,\n",
        "                                   n_jobs\u003d-1, verbose\u003d5)\n",
        "start \u003d time.time()\n",
        "random_search.fit(X, y)\n",
        "print(\u0027RandomizedSearchCV took {:.2f} seconds\\\n",
        "      for {} candidates parameter settings.\u0027\n",
        "      .format((time.time() - start), candidates))\n",
        "report(random_search.cv_results_)\n"
      ],
      "execution_count": 0,
      "outputs": []
    },
    {
      "metadata": {
        "colab_type": "text",
        "id": "gDSPOrArh3ji",
        "pycharm": {}
      },
      "cell_type": "markdown",
      "source": [
        "### Grid Search"
      ]
    },
    {
      "metadata": {
        "colab_type": "code",
        "id": "Oi2qhFK6h3jm",
        "colab": {},
        "pycharm": {}
      },
      "cell_type": "code",
      "source": [
        "params \u003d {\u0027min_child_weight\u0027: [7,8,9],\n",
        "        \u0027gamma\u0027: [2.3,2.4,2.5],\n",
        "        \u0027subsample\u0027: [0.84,0.88, 0.92],\n",
        "        \u0027colsample_bytree\u0027: [0.66,0.71,0.74],\n",
        "        \u0027max_depth\u0027: [4, 5, 6]}\n",
        "\n",
        "grid_search \u003d GridSearchCV(xgb_clf, params , cv \u003d 10, n_jobs\u003d-1, verbose\u003d5)\n",
        "\n",
        "start \u003d time.time()\n",
        "grid_search.fit(X, y)\n",
        "print(\u0027GridSearchCV took {:.2f} seconds.\u0027\n",
        "      .format((time.time() - start)))\n",
        "report(grid_search.cv_results_)\n"
      ],
      "execution_count": 0,
      "outputs": []
    },
    {
      "metadata": {
        "id": "p09kQs_ae82k",
        "colab_type": "text",
        "pycharm": {}
      },
      "cell_type": "markdown",
      "source": [
        "# Breast Cancer Dataset"
      ]
    },
    {
      "metadata": {
        "id": "rRx8jbxSgvRg",
        "colab_type": "text",
        "pycharm": {}
      },
      "cell_type": "markdown",
      "source": [
        "## Prepare the dataset"
      ]
    },
    {
      "metadata": {
        "id": "kIAmhnaOgyOm",
        "colab_type": "code",
        "colab": {},
        "pycharm": {}
      },
      "cell_type": "code",
      "source": "data \u003d read_csv(\u0027C:/Users/User/Desktop/Project Advanced Topics in Ai/datasets/breast-cancer-wisconsin-data/data.csv\u0027)\ny \u003d data[\u0027diagnosis\u0027]\nunnecessary \u003d [\u0027Unnamed: 32\u0027,\u0027id\u0027,\u0027diagnosis\u0027]\nX \u003d data.drop(unnecessary,axis \u003d 1 )\nle \u003d preprocessing.LabelEncoder()\nle.fit(y)\ny \u003d le.transform(y)\nX \u003d np.array(X)\ny \u003d np.array(y)\nX_train, X_test, y_train, y_test \u003d train_test_split(X, y, test_size\u003d0.3, random_state\u003d0)",
      "execution_count": 0,
      "outputs": []
    },
    {
      "metadata": {
        "id": "D1GPz08ZhLUE",
        "colab_type": "text",
        "pycharm": {}
      },
      "cell_type": "markdown",
      "source": [
        "### Visualize number of data per class"
      ]
    },
    {
      "metadata": {
        "id": "vFN_0Qv2dFTB",
        "colab_type": "code",
        "outputId": "68101b19-0e8b-4097-b17a-7f50a5ab3e2a",
        "colab": {},
        "pycharm": {}
      },
      "cell_type": "code",
      "source": [
        "ax \u003d sns.countplot(y,label\u003d\"Count\")       # M \u003d 212, B \u003d 357\n",
        "B, M \u003d y.value_counts()\n",
        "print(\u0027Number of Benign: \u0027,B)\n",
        "print(\u0027Number of Malignant : \u0027,M)"
      ],
      "execution_count": 0,
      "outputs": [
        {
          "output_type": "stream",
          "text": [
            "Number of Benign:  357\n",
            "Number of Malignant :  212\n"
          ],
          "name": "stdout"
        },
        {
          "output_type": "display_data",
          "data": {
            "image/png": "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\u003d\n",
            "text/plain": [
              "\u003cFigure size 432x288 with 1 Axes\u003e"
            ]
          },
          "metadata": {
            "tags": [],
            "needs_background": "light"
          }
        }
      ]
    },
    {
      "metadata": {
        "id": "a0JXzjh6ez2P",
        "colab_type": "text",
        "pycharm": {}
      },
      "cell_type": "markdown",
      "source": [
        "## Stacking"
      ]
    },
    {
      "metadata": {
        "id": "C5UC4gyvfED3",
        "colab_type": "text",
        "pycharm": {}
      },
      "cell_type": "markdown",
      "source": [
        "### Random Search"
      ]
    },
    {
      "metadata": {
        "id": "jPcrhN0wdFUf",
        "colab_type": "code",
        "outputId": "b6cc6de6-4440-452e-9c6e-4b68de6ca496",
        "colab": {},
        "pycharm": {}
      },
      "cell_type": "code",
      "source": [
        "clf1 \u003d KNeighborsClassifier()\n",
        "clf2 \u003d DecisionTreeClassifier(random_state\u003d0)\n",
        "clf3 \u003d GaussianNB()\n",
        "meta_clf \u003d LogisticRegression(solver \u003d \u0027lbfgs\u0027)\n",
        "sclf \u003d StackingClassifier(classifiers\u003d[clf1,clf1, clf2, clf3], \n",
        "                          meta_classifier\u003dmeta_clf)\n",
        "\n",
        "\n",
        "\n",
        "param_dist \u003d {\u0027kneighborsclassifier-1__n_neighbors\u0027: sp_randint(4, 30),\n",
        "              \u0027kneighborsclassifier-2__n_neighbors\u0027: sp_randint(4, 30),\n",
        "          \u0027decisiontreeclassifier__max_depth\u0027: sp_randint(2, 8),\n",
        "          \u0027meta-logisticregression__C\u0027:[0.01,0.1,1,2] }\n",
        "\n",
        "\n",
        "candidates \u003d 8\n",
        "\n",
        "# Run a random search CV.\n",
        "random_search \u003d RandomizedSearchCV(sclf, param_dist, candidates, cv\u003d10, n_jobs\u003d-1, verbose\u003d5)\n",
        "start \u003d time.time()\n",
        "random_search.fit(X, y)\n",
        "print(\u0027RandomizedSearchCV took {:.2f} seconds for {} candidates parameter settings.\u0027\n",
        "      .format((time.time() - start), candidates))\n",
        "report(random_search.cv_results_)"
      ],
      "execution_count": 0,
      "outputs": [
        {
          "output_type": "stream",
          "text": [
            "Fitting 10 folds for each of 8 candidates, totalling 80 fits\n"
          ],
          "name": "stdout"
        },
        {
          "output_type": "stream",
          "text": [
            "[Parallel(n_jobs\u003d-1)]: Using backend LokyBackend with 8 concurrent workers.\n",
            "[Parallel(n_jobs\u003d-1)]: Done   2 tasks      | elapsed:    0.0s\n",
            "[Parallel(n_jobs\u003d-1)]: Done  48 out of  80 | elapsed:    0.6s remaining:    0.4s\n"
          ],
          "name": "stderr"
        },
        {
          "output_type": "stream",
          "text": [
            "RandomizedSearchCV took 1.02 seconds for 8 candidates parameter settings.\n",
            "Model with rank: 1\n",
            "Mean validation score: 0.954 (std: 0.035)\n",
            "Parameters: {\u0027decisiontreeclassifier__max_depth\u0027: 5, \u0027kneighborsclassifier-1__n_neighbors\u0027: 21, \u0027kneighborsclassifier-2__n_neighbors\u0027: 21, \u0027meta-logisticregression__C\u0027: 0.1}\n",
            "\n",
            "Model with rank: 1\n",
            "Mean validation score: 0.954 (std: 0.035)\n",
            "Parameters: {\u0027decisiontreeclassifier__max_depth\u0027: 5, \u0027kneighborsclassifier-1__n_neighbors\u0027: 21, \u0027kneighborsclassifier-2__n_neighbors\u0027: 12, \u0027meta-logisticregression__C\u0027: 0.1}\n",
            "\n",
            "Model with rank: 3\n",
            "Mean validation score: 0.953 (std: 0.035)\n",
            "Parameters: {\u0027decisiontreeclassifier__max_depth\u0027: 5, \u0027kneighborsclassifier-1__n_neighbors\u0027: 12, \u0027kneighborsclassifier-2__n_neighbors\u0027: 17, \u0027meta-logisticregression__C\u0027: 0.1}\n",
            "\n"
          ],
          "name": "stdout"
        },
        {
          "output_type": "stream",
          "text": [
            "[Parallel(n_jobs\u003d-1)]: Done  80 out of  80 | elapsed:    0.9s finished\n",
            "E:\\Anaconda3\\envs\\Ai\\lib\\site-packages\\sklearn\\model_selection\\_search.py:841: DeprecationWarning: The default of the `iid` parameter will change from True to False in version 0.22 and will be removed in 0.24. This will change numeric results when test-set sizes are unequal.\n",
            "  DeprecationWarning)\n"
          ],
          "name": "stderr"
        }
      ]
    },
    {
      "metadata": {
        "id": "dw3UXkNMfGsW",
        "colab_type": "text",
        "pycharm": {}
      },
      "cell_type": "markdown",
      "source": [
        "### Grid Search"
      ]
    },
    {
      "metadata": {
        "id": "koo-e5DcdFUx",
        "colab_type": "code",
        "outputId": "ec4ba930-9e6c-408f-cb81-5701dc4257b9",
        "colab": {},
        "pycharm": {}
      },
      "cell_type": "code",
      "source": [
        "clf1 \u003d KNeighborsClassifier()\n",
        "clf2 \u003d DecisionTreeClassifier(random_state\u003d0)\n",
        "clf3 \u003d GaussianNB()\n",
        "lr \u003d LogisticRegression(solver \u003d \u0027lbfgs\u0027)\n",
        "sclf \u003d StackingClassifier(classifiers\u003d[clf1,clf1, clf2, clf3], \n",
        "                          meta_classifier\u003dlr)\n",
        "\n",
        "\n",
        "param_grid \u003d {\u0027kneighborsclassifier-1__n_neighbors\u0027: [19,20,21,22,23],\n",
        "              \u0027kneighborsclassifier-2__n_neighbors\u0027: [19,20,21,22,23],\n",
        "          \u0027decisiontreeclassifier__max_depth\u0027: [3,4,5],\n",
        "          \u0027meta-logisticregression__C\u0027:[0.95,0.1,1.05] }\n",
        "\n",
        "\n",
        "grid_search \u003d GridSearchCV(sclf, param_grid , cv \u003d 10, n_jobs\u003d-1, verbose\u003d5)\n",
        "\n",
        "start \u003d time.time()\n",
        "grid_search.fit(X, y)\n",
        "print(\u0027GridSearchCV took {:.2f} seconds.\u0027\n",
        "      .format((time.time() - start)))\n",
        "report(grid_search.cv_results_)\n"
      ],
      "execution_count": 0,
      "outputs": [
        {
          "output_type": "stream",
          "text": [
            "Fitting 10 folds for each of 225 candidates, totalling 2250 fits\n"
          ],
          "name": "stdout"
        },
        {
          "output_type": "stream",
          "text": [
            "[Parallel(n_jobs\u003d-1)]: Using backend LokyBackend with 8 concurrent workers.\n",
            "[Parallel(n_jobs\u003d-1)]: Done   2 tasks      | elapsed:    0.0s\n",
            "[Parallel(n_jobs\u003d-1)]: Done 176 tasks      | elapsed:    2.1s\n",
            "[Parallel(n_jobs\u003d-1)]: Done 536 tasks      | elapsed:    6.3s\n",
            "[Parallel(n_jobs\u003d-1)]: Done 1040 tasks      | elapsed:   12.0s\n",
            "[Parallel(n_jobs\u003d-1)]: Done 1688 tasks      | elapsed:   20.2s\n"
          ],
          "name": "stderr"
        },
        {
          "output_type": "stream",
          "text": [
            "GridSearchCV took 27.22 seconds.\n",
            "Model with rank: 1\n",
            "Mean validation score: 0.954 (std: 0.035)\n",
            "Parameters: {\u0027decisiontreeclassifier__max_depth\u0027: 5, \u0027kneighborsclassifier-1__n_neighbors\u0027: 19, \u0027kneighborsclassifier-2__n_neighbors\u0027: 19, \u0027meta-logisticregression__C\u0027: 0.1}\n",
            "\n",
            "Model with rank: 1\n",
            "Mean validation score: 0.954 (std: 0.035)\n",
            "Parameters: {\u0027decisiontreeclassifier__max_depth\u0027: 5, \u0027kneighborsclassifier-1__n_neighbors\u0027: 19, \u0027kneighborsclassifier-2__n_neighbors\u0027: 20, \u0027meta-logisticregression__C\u0027: 0.1}\n",
            "\n",
            "Model with rank: 1\n",
            "Mean validation score: 0.954 (std: 0.035)\n",
            "Parameters: {\u0027decisiontreeclassifier__max_depth\u0027: 5, \u0027kneighborsclassifier-1__n_neighbors\u0027: 19, \u0027kneighborsclassifier-2__n_neighbors\u0027: 21, \u0027meta-logisticregression__C\u0027: 0.1}\n",
            "\n",
            "Model with rank: 1\n",
            "Mean validation score: 0.954 (std: 0.035)\n",
            "Parameters: {\u0027decisiontreeclassifier__max_depth\u0027: 5, \u0027kneighborsclassifier-1__n_neighbors\u0027: 19, \u0027kneighborsclassifier-2__n_neighbors\u0027: 22, \u0027meta-logisticregression__C\u0027: 0.1}\n",
            "\n",
            "Model with rank: 1\n",
            "Mean validation score: 0.954 (std: 0.035)\n",
            "Parameters: {\u0027decisiontreeclassifier__max_depth\u0027: 5, \u0027kneighborsclassifier-1__n_neighbors\u0027: 19, \u0027kneighborsclassifier-2__n_neighbors\u0027: 23, \u0027meta-logisticregression__C\u0027: 0.1}\n",
            "\n",
            "Model with rank: 1\n",
            "Mean validation score: 0.954 (std: 0.035)\n",
            "Parameters: {\u0027decisiontreeclassifier__max_depth\u0027: 5, \u0027kneighborsclassifier-1__n_neighbors\u0027: 20, \u0027kneighborsclassifier-2__n_neighbors\u0027: 19, \u0027meta-logisticregression__C\u0027: 0.1}\n",
            "\n",
            "Model with rank: 1\n",
            "Mean validation score: 0.954 (std: 0.035)\n",
            "Parameters: {\u0027decisiontreeclassifier__max_depth\u0027: 5, \u0027kneighborsclassifier-1__n_neighbors\u0027: 20, \u0027kneighborsclassifier-2__n_neighbors\u0027: 20, \u0027meta-logisticregression__C\u0027: 0.1}\n",
            "\n",
            "Model with rank: 1\n",
            "Mean validation score: 0.954 (std: 0.035)\n",
            "Parameters: {\u0027decisiontreeclassifier__max_depth\u0027: 5, \u0027kneighborsclassifier-1__n_neighbors\u0027: 20, \u0027kneighborsclassifier-2__n_neighbors\u0027: 21, \u0027meta-logisticregression__C\u0027: 0.1}\n",
            "\n",
            "Model with rank: 1\n",
            "Mean validation score: 0.954 (std: 0.035)\n",
            "Parameters: {\u0027decisiontreeclassifier__max_depth\u0027: 5, \u0027kneighborsclassifier-1__n_neighbors\u0027: 20, \u0027kneighborsclassifier-2__n_neighbors\u0027: 22, \u0027meta-logisticregression__C\u0027: 0.1}\n",
            "\n",
            "Model with rank: 1\n",
            "Mean validation score: 0.954 (std: 0.035)\n",
            "Parameters: {\u0027decisiontreeclassifier__max_depth\u0027: 5, \u0027kneighborsclassifier-1__n_neighbors\u0027: 20, \u0027kneighborsclassifier-2__n_neighbors\u0027: 23, \u0027meta-logisticregression__C\u0027: 0.1}\n",
            "\n",
            "Model with rank: 1\n",
            "Mean validation score: 0.954 (std: 0.035)\n",
            "Parameters: {\u0027decisiontreeclassifier__max_depth\u0027: 5, \u0027kneighborsclassifier-1__n_neighbors\u0027: 21, \u0027kneighborsclassifier-2__n_neighbors\u0027: 19, \u0027meta-logisticregression__C\u0027: 0.1}\n",
            "\n",
            "Model with rank: 1\n",
            "Mean validation score: 0.954 (std: 0.035)\n",
            "Parameters: {\u0027decisiontreeclassifier__max_depth\u0027: 5, \u0027kneighborsclassifier-1__n_neighbors\u0027: 21, \u0027kneighborsclassifier-2__n_neighbors\u0027: 20, \u0027meta-logisticregression__C\u0027: 0.1}\n",
            "\n",
            "Model with rank: 1\n",
            "Mean validation score: 0.954 (std: 0.035)\n",
            "Parameters: {\u0027decisiontreeclassifier__max_depth\u0027: 5, \u0027kneighborsclassifier-1__n_neighbors\u0027: 21, \u0027kneighborsclassifier-2__n_neighbors\u0027: 21, \u0027meta-logisticregression__C\u0027: 0.1}\n",
            "\n",
            "Model with rank: 1\n",
            "Mean validation score: 0.954 (std: 0.035)\n",
            "Parameters: {\u0027decisiontreeclassifier__max_depth\u0027: 5, \u0027kneighborsclassifier-1__n_neighbors\u0027: 21, \u0027kneighborsclassifier-2__n_neighbors\u0027: 22, \u0027meta-logisticregression__C\u0027: 0.1}\n",
            "\n",
            "Model with rank: 1\n",
            "Mean validation score: 0.954 (std: 0.035)\n",
            "Parameters: {\u0027decisiontreeclassifier__max_depth\u0027: 5, \u0027kneighborsclassifier-1__n_neighbors\u0027: 21, \u0027kneighborsclassifier-2__n_neighbors\u0027: 23, \u0027meta-logisticregression__C\u0027: 0.1}\n",
            "\n",
            "Model with rank: 1\n",
            "Mean validation score: 0.954 (std: 0.035)\n",
            "Parameters: {\u0027decisiontreeclassifier__max_depth\u0027: 5, \u0027kneighborsclassifier-1__n_neighbors\u0027: 22, \u0027kneighborsclassifier-2__n_neighbors\u0027: 19, \u0027meta-logisticregression__C\u0027: 0.1}\n",
            "\n",
            "Model with rank: 1\n",
            "Mean validation score: 0.954 (std: 0.035)\n",
            "Parameters: {\u0027decisiontreeclassifier__max_depth\u0027: 5, \u0027kneighborsclassifier-1__n_neighbors\u0027: 22, \u0027kneighborsclassifier-2__n_neighbors\u0027: 20, \u0027meta-logisticregression__C\u0027: 0.1}\n",
            "\n",
            "Model with rank: 1\n",
            "Mean validation score: 0.954 (std: 0.035)\n",
            "Parameters: {\u0027decisiontreeclassifier__max_depth\u0027: 5, \u0027kneighborsclassifier-1__n_neighbors\u0027: 22, \u0027kneighborsclassifier-2__n_neighbors\u0027: 21, \u0027meta-logisticregression__C\u0027: 0.1}\n",
            "\n",
            "Model with rank: 1\n",
            "Mean validation score: 0.954 (std: 0.035)\n",
            "Parameters: {\u0027decisiontreeclassifier__max_depth\u0027: 5, \u0027kneighborsclassifier-1__n_neighbors\u0027: 23, \u0027kneighborsclassifier-2__n_neighbors\u0027: 19, \u0027meta-logisticregression__C\u0027: 0.1}\n",
            "\n",
            "Model with rank: 1\n",
            "Mean validation score: 0.954 (std: 0.035)\n",
            "Parameters: {\u0027decisiontreeclassifier__max_depth\u0027: 5, \u0027kneighborsclassifier-1__n_neighbors\u0027: 23, \u0027kneighborsclassifier-2__n_neighbors\u0027: 20, \u0027meta-logisticregression__C\u0027: 0.1}\n",
            "\n",
            "Model with rank: 1\n",
            "Mean validation score: 0.954 (std: 0.035)\n",
            "Parameters: {\u0027decisiontreeclassifier__max_depth\u0027: 5, \u0027kneighborsclassifier-1__n_neighbors\u0027: 23, \u0027kneighborsclassifier-2__n_neighbors\u0027: 21, \u0027meta-logisticregression__C\u0027: 0.1}\n",
            "\n"
          ],
          "name": "stdout"
        },
        {
          "output_type": "stream",
          "text": [
            "[Parallel(n_jobs\u003d-1)]: Done 2250 out of 2250 | elapsed:   27.1s finished\n",
            "E:\\Anaconda3\\envs\\Ai\\lib\\site-packages\\sklearn\\model_selection\\_search.py:841: DeprecationWarning: The default of the `iid` parameter will change from True to False in version 0.22 and will be removed in 0.24. This will change numeric results when test-set sizes are unequal.\n",
            "  DeprecationWarning)\n"
          ],
          "name": "stderr"
        }
      ]
    },
    {
      "metadata": {
        "id": "1RyJRpd6fgwk",
        "colab_type": "text",
        "pycharm": {}
      },
      "cell_type": "markdown",
      "source": [
        "## XGBoosting"
      ]
    },
    {
      "metadata": {
        "id": "WcnR8Yiwf2oT",
        "colab_type": "code",
        "colab": {},
        "pycharm": {}
      },
      "cell_type": "code",
      "source": [
        "# Create classifier\n",
        "xgb_clf \u003d xgb.XGBClassifier(learning_rate\u003d0.03, n_estimators\u003d600, \n",
        "                            objective\u003d\u0027binary:logistic\u0027, silent\u003dTrue, nthread\u003d1)"
      ],
      "execution_count": 0,
      "outputs": []
    },
    {
      "metadata": {
        "id": "3Wc8GOGqgHx7",
        "colab_type": "text",
        "pycharm": {}
      },
      "cell_type": "markdown",
      "source": [
        "### Random Search"
      ]
    },
    {
      "metadata": {
        "id": "JIHl_-QcdFVp",
        "colab_type": "code",
        "outputId": "df9b71a3-5337-47e9-b79c-3ba5af3c3c78",
        "colab": {},
        "pycharm": {}
      },
      "cell_type": "code",
      "source": [
        "params \u003d {\u0027min_child_weight\u0027: sp_randint(4, 30),\n",
        "          \u0027gamma\u0027: np.random.uniform(0.5,4,size \u003d 5),\n",
        "          \u0027subsample\u0027: np.random.uniform(0,1,size \u003d4),\n",
        "          \u0027colsample_bytree\u0027: np.random.uniform(0,1,size \u003d4),\n",
        "          \u0027max_depth\u0027: sp_randint(1, 7)}\n",
        "\n",
        "\n",
        "candidates \u003d 10\n",
        "\n",
        "random_search \u003d RandomizedSearchCV(xgb_clf, params, candidates, cv\u003d10,\n",
        "                                   n_jobs\u003d-1, verbose\u003d5)\n",
        "start \u003d time.time()\n",
        "random_search.fit(X, y)\n",
        "print(\u0027RandomizedSearchCV took {:.2f} seconds\\\n",
        "      for {} candidates parameter settings.\u0027\n",
        "      .format((time.time() - start), candidates))\n",
        "report(random_search.cv_results_)\n"
      ],
      "execution_count": 0,
      "outputs": [
        {
          "output_type": "stream",
          "text": [
            "Fitting 10 folds for each of 10 candidates, totalling 100 fits\n"
          ],
          "name": "stdout"
        },
        {
          "output_type": "stream",
          "text": [
            "[Parallel(n_jobs\u003d-1)]: Using backend LokyBackend with 8 concurrent workers.\n",
            "[Parallel(n_jobs\u003d-1)]: Done   2 tasks      | elapsed:    4.6s\n",
            "[Parallel(n_jobs\u003d-1)]: Done  56 tasks      | elapsed:    6.8s\n",
            "[Parallel(n_jobs\u003d-1)]: Done 100 out of 100 | elapsed:    9.0s finished\n",
            "E:\\Anaconda3\\envs\\Ai\\lib\\site-packages\\sklearn\\model_selection\\_search.py:841: DeprecationWarning: The default of the `iid` parameter will change from True to False in version 0.22 and will be removed in 0.24. This will change numeric results when test-set sizes are unequal.\n",
            "  DeprecationWarning)\n"
          ],
          "name": "stderr"
        },
        {
          "output_type": "stream",
          "text": [
            "RandomizedSearchCV took 9.29 seconds for 10 candidates parameter settings.\n",
            "Model with rank: 1\n",
            "Mean validation score: 0.968 (std: 0.027)\n",
            "Parameters: {\u0027colsample_bytree\u0027: 0.73276749239863, \u0027gamma\u0027: 2.306580849401802, \u0027max_depth\u0027: 6, \u0027min_child_weight\u0027: 7, \u0027subsample\u0027: 0.9031777222608673}\n",
            "\n",
            "Model with rank: 2\n",
            "Mean validation score: 0.967 (std: 0.025)\n",
            "Parameters: {\u0027colsample_bytree\u0027: 0.5578699009183914, \u0027gamma\u0027: 2.4522953112782644, \u0027max_depth\u0027: 2, \u0027min_child_weight\u0027: 5, \u0027subsample\u0027: 0.42866347233907953}\n",
            "\n",
            "Model with rank: 3\n",
            "Mean validation score: 0.965 (std: 0.032)\n",
            "Parameters: {\u0027colsample_bytree\u0027: 0.5578699009183914, \u0027gamma\u0027: 2.306580849401802, \u0027max_depth\u0027: 3, \u0027min_child_weight\u0027: 8, \u0027subsample\u0027: 0.42866347233907953}\n",
            "\n"
          ],
          "name": "stdout"
        }
      ]
    },
    {
      "metadata": {
        "id": "3jbcn6gvgST6",
        "colab_type": "text",
        "pycharm": {}
      },
      "cell_type": "markdown",
      "source": [
        "### Grid Search"
      ]
    },
    {
      "metadata": {
        "id": "sjEV61pYdFWK",
        "colab_type": "code",
        "outputId": "fb092172-8bc0-4c9d-c17f-9b0d91a2b31a",
        "colab": {},
        "pycharm": {}
      },
      "cell_type": "code",
      "source": "params \u003d {\u0027min_child_weight\u0027: [7,8,9],\n          \u0027gamma\u0027: [2.3,2.4,2.5],\n          \u0027subsample\u0027: [0.84,0.88, 0.92],\n          \u0027colsample_bytree\u0027: [0.66,0.71,0.74],\n          \u0027max_depth\u0027: [4, 5, 6]}\n\ngrid_search \u003d GridSearchCV(xgb_clf, params , cv \u003d 10, n_jobs\u003d-1, verbose\u003d5)\n\nstart \u003d time.time()\ngrid_search.fit(X, y)\nprint(\u0027GridSearchCV took {:.2f} seconds.\u0027\n      .format((time.time() - start)))\nreport(grid_search.cv_results_)\n",
      "execution_count": 0,
      "outputs": [
        {
          "output_type": "stream",
          "text": [
            "Fitting 10 folds for each of 243 candidates, totalling 2430 fits\n"
          ],
          "name": "stdout"
        },
        {
          "output_type": "stream",
          "text": [
            "[Parallel(n_jobs\u003d-1)]: Using backend LokyBackend with 8 concurrent workers.\n",
            "[Parallel(n_jobs\u003d-1)]: Done   2 tasks      | elapsed:    0.8s\n",
            "[Parallel(n_jobs\u003d-1)]: Done  56 tasks      | elapsed:    4.2s\n",
            "[Parallel(n_jobs\u003d-1)]: Done 146 tasks      | elapsed:   10.1s\n",
            "[Parallel(n_jobs\u003d-1)]: Done 272 tasks      | elapsed:   19.0s\n",
            "[Parallel(n_jobs\u003d-1)]: Done 434 tasks      | elapsed:   29.1s\n",
            "[Parallel(n_jobs\u003d-1)]: Done 632 tasks      | elapsed:   46.3s\n",
            "[Parallel(n_jobs\u003d-1)]: Done 866 tasks      | elapsed:  1.1min\n",
            "[Parallel(n_jobs\u003d-1)]: Done 1136 tasks      | elapsed:  1.4min\n",
            "[Parallel(n_jobs\u003d-1)]: Done 1442 tasks      | elapsed:  1.8min\n",
            "[Parallel(n_jobs\u003d-1)]: Done 1784 tasks      | elapsed:  2.3min\n",
            "[Parallel(n_jobs\u003d-1)]: Done 2162 tasks      | elapsed:  2.7min\n",
            "[Parallel(n_jobs\u003d-1)]: Done 2430 out of 2430 | elapsed:  3.1min finished\n",
            "E:\\Anaconda3\\envs\\Ai\\lib\\site-packages\\sklearn\\model_selection\\_search.py:841: DeprecationWarning: The default of the `iid` parameter will change from True to False in version 0.22 and will be removed in 0.24. This will change numeric results when test-set sizes are unequal.\n",
            "  DeprecationWarning)\n"
          ],
          "name": "stderr"
        },
        {
          "output_type": "stream",
          "text": [
            "GridSearchCV took 184.66 seconds.\n",
            "Model with rank: 1\n",
            "Mean validation score: 0.972 (std: 0.024)\n",
            "Parameters: {\u0027colsample_bytree\u0027: 0.66, \u0027gamma\u0027: 2.3, \u0027max_depth\u0027: 4, \u0027min_child_weight\u0027: 7, \u0027subsample\u0027: 0.88}\n",
            "\n",
            "Model with rank: 1\n",
            "Mean validation score: 0.972 (std: 0.024)\n",
            "Parameters: {\u0027colsample_bytree\u0027: 0.66, \u0027gamma\u0027: 2.3, \u0027max_depth\u0027: 5, \u0027min_child_weight\u0027: 7, \u0027subsample\u0027: 0.88}\n",
            "\n",
            "Model with rank: 1\n",
            "Mean validation score: 0.972 (std: 0.024)\n",
            "Parameters: {\u0027colsample_bytree\u0027: 0.66, \u0027gamma\u0027: 2.3, \u0027max_depth\u0027: 6, \u0027min_child_weight\u0027: 7, \u0027subsample\u0027: 0.88}\n",
            "\n",
            "Model with rank: 1\n",
            "Mean validation score: 0.972 (std: 0.021)\n",
            "Parameters: {\u0027colsample_bytree\u0027: 0.66, \u0027gamma\u0027: 2.4, \u0027max_depth\u0027: 4, \u0027min_child_weight\u0027: 7, \u0027subsample\u0027: 0.88}\n",
            "\n",
            "Model with rank: 1\n",
            "Mean validation score: 0.972 (std: 0.021)\n",
            "Parameters: {\u0027colsample_bytree\u0027: 0.66, \u0027gamma\u0027: 2.4, \u0027max_depth\u0027: 5, \u0027min_child_weight\u0027: 7, \u0027subsample\u0027: 0.88}\n",
            "\n",
            "Model with rank: 1\n",
            "Mean validation score: 0.972 (std: 0.021)\n",
            "Parameters: {\u0027colsample_bytree\u0027: 0.66, \u0027gamma\u0027: 2.4, \u0027max_depth\u0027: 6, \u0027min_child_weight\u0027: 7, \u0027subsample\u0027: 0.88}\n",
            "\n",
            "Model with rank: 1\n",
            "Mean validation score: 0.972 (std: 0.021)\n",
            "Parameters: {\u0027colsample_bytree\u0027: 0.66, \u0027gamma\u0027: 2.5, \u0027max_depth\u0027: 4, \u0027min_child_weight\u0027: 7, \u0027subsample\u0027: 0.88}\n",
            "\n",
            "Model with rank: 1\n",
            "Mean validation score: 0.972 (std: 0.021)\n",
            "Parameters: {\u0027colsample_bytree\u0027: 0.66, \u0027gamma\u0027: 2.5, \u0027max_depth\u0027: 5, \u0027min_child_weight\u0027: 7, \u0027subsample\u0027: 0.88}\n",
            "\n",
            "Model with rank: 1\n",
            "Mean validation score: 0.972 (std: 0.021)\n",
            "Parameters: {\u0027colsample_bytree\u0027: 0.66, \u0027gamma\u0027: 2.5, \u0027max_depth\u0027: 6, \u0027min_child_weight\u0027: 7, \u0027subsample\u0027: 0.88}\n",
            "\n",
            "Model with rank: 1\n",
            "Mean validation score: 0.972 (std: 0.024)\n",
            "Parameters: {\u0027colsample_bytree\u0027: 0.71, \u0027gamma\u0027: 2.3, \u0027max_depth\u0027: 4, \u0027min_child_weight\u0027: 7, \u0027subsample\u0027: 0.88}\n",
            "\n",
            "Model with rank: 1\n",
            "Mean validation score: 0.972 (std: 0.026)\n",
            "Parameters: {\u0027colsample_bytree\u0027: 0.71, \u0027gamma\u0027: 2.3, \u0027max_depth\u0027: 4, \u0027min_child_weight\u0027: 9, \u0027subsample\u0027: 0.88}\n",
            "\n",
            "Model with rank: 1\n",
            "Mean validation score: 0.972 (std: 0.024)\n",
            "Parameters: {\u0027colsample_bytree\u0027: 0.71, \u0027gamma\u0027: 2.3, \u0027max_depth\u0027: 5, \u0027min_child_weight\u0027: 7, \u0027subsample\u0027: 0.88}\n",
            "\n",
            "Model with rank: 1\n",
            "Mean validation score: 0.972 (std: 0.026)\n",
            "Parameters: {\u0027colsample_bytree\u0027: 0.71, \u0027gamma\u0027: 2.3, \u0027max_depth\u0027: 5, \u0027min_child_weight\u0027: 9, \u0027subsample\u0027: 0.88}\n",
            "\n",
            "Model with rank: 1\n",
            "Mean validation score: 0.972 (std: 0.024)\n",
            "Parameters: {\u0027colsample_bytree\u0027: 0.71, \u0027gamma\u0027: 2.3, \u0027max_depth\u0027: 6, \u0027min_child_weight\u0027: 7, \u0027subsample\u0027: 0.88}\n",
            "\n",
            "Model with rank: 1\n",
            "Mean validation score: 0.972 (std: 0.026)\n",
            "Parameters: {\u0027colsample_bytree\u0027: 0.71, \u0027gamma\u0027: 2.3, \u0027max_depth\u0027: 6, \u0027min_child_weight\u0027: 9, \u0027subsample\u0027: 0.88}\n",
            "\n",
            "Model with rank: 1\n",
            "Mean validation score: 0.972 (std: 0.024)\n",
            "Parameters: {\u0027colsample_bytree\u0027: 0.71, \u0027gamma\u0027: 2.5, \u0027max_depth\u0027: 4, \u0027min_child_weight\u0027: 7, \u0027subsample\u0027: 0.88}\n",
            "\n",
            "Model with rank: 1\n",
            "Mean validation score: 0.972 (std: 0.024)\n",
            "Parameters: {\u0027colsample_bytree\u0027: 0.71, \u0027gamma\u0027: 2.5, \u0027max_depth\u0027: 5, \u0027min_child_weight\u0027: 7, \u0027subsample\u0027: 0.88}\n",
            "\n",
            "Model with rank: 1\n",
            "Mean validation score: 0.972 (std: 0.024)\n",
            "Parameters: {\u0027colsample_bytree\u0027: 0.71, \u0027gamma\u0027: 2.5, \u0027max_depth\u0027: 6, \u0027min_child_weight\u0027: 7, \u0027subsample\u0027: 0.88}\n",
            "\n"
          ],
          "name": "stdout"
        }
      ]
    },
    {
      "metadata": {
        "id": "BTKlCNtAyDRT",
        "colab_type": "text",
        "pycharm": {}
      },
      "cell_type": "markdown",
      "source": "# Results\nTODO Statistical tests"
    },
    {
      "metadata": {
        "id": "05FQQuFTx6Mu",
        "colab_type": "text",
        "pycharm": {}
      },
      "cell_type": "markdown",
      "source": [
        "# Conclusion\n",
        "\n",
        "TODO"
      ]
    }
  ]
}