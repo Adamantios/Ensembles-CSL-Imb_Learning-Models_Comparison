{
  "nbformat": 4,
  "nbformat_minor": 0,
  "metadata": {
    "colab": {
      "name": "PartB.ipynb",
      "version": "0.3.2",
      "provenance": [],
      "collapsed_sections": [
        "dJmPyewf44XC",
        "XzaViu3TRhGE",
        "CjV8FVDP5nAS",
        "ufwbjh1x58Pr",
        "yoXqPUCQAtMI",
        "tS-rdualbcym",
        "BKmEOU7vaDGj",
        "HmQTL7z0j93-",
        "yX9Je5mraagM",
        "loUr8jkqi_FE",
        "mvY5quaCMX-l",
        "kEAeTLIFbDcY",
        "2oB00UILjwbg",
        "UV_zD8lOMYh1",
        "JyVKbW8ybTZz",
        "gB3Fd5yKjx77",
        "ej6YCMamf8w_",
        "oVgJDkEI5dsd",
        "Cx5XslDh5dzS",
        "C2yStc5j5gER"
      ]
    },
    "kernelspec": {
      "display_name": "Python 3",
      "language": "python",
      "name": "python3"
    }
  },
  "cells": [
    {
      "metadata": {
        "colab_type": "text",
        "id": "RgKlxpR-BeDx",
        "pycharm": {}
      },
      "cell_type": "markdown",
      "source": [
        "#### Adamantios Zaras AM: 06\n",
        "#### Panagiotis Souranis AM: 17"
      ]
    },
    {
      "metadata": {
        "colab_type": "text",
        "id": "UvMOu3Fd4z9P",
        "pycharm": {}
      },
      "cell_type": "markdown",
      "source": [
        "# Description\n",
        "\n",
        "In this part of the project, we used 3 different cost-sensitive learning techniques in the Data Mining Cup Dataset, combined with 3 different learning algorithms and compared them with simple usage of the classifiers, thus not taking into consideration the classification cost.  \n",
        "\n",
        "The techniques we used are:\n",
        "- Sigmoid Probability Calibration\n",
        "- Resampling, using the **Roulette Sampling** method.\n",
        "- Example weighting.  \n",
        "\n",
        "The algorithms we combined with the above techniques are:\n",
        "- Random Forest\n",
        "- Linear SVM\n",
        "- Naive Bayes\n",
        "\n",
        "First, we load and scale our dataset and split them to training and test pairs. Next, we define the classifiers and perform a 10 fold cross validation hyperparameters search, using the training data, while trying to minimize the CostCla librarie\u0027s cost loss. We then use the best hyperparameters found from this procedure and fit the models using the 3 different techniques mentioned above. Finally, we make predictions using the test data which were left out.  \n",
        "We search for hyperparameters first, because we do not want to introduce bias to the final model."
      ]
    },
    {
      "metadata": {
        "colab_type": "text",
        "id": "dJmPyewf44XC",
        "pycharm": {}
      },
      "cell_type": "markdown",
      "source": [
        "# Global"
      ]
    },
    {
      "metadata": {
        "colab_type": "text",
        "id": "XzaViu3TRhGE",
        "pycharm": {}
      },
      "cell_type": "markdown",
      "source": [
        "### Package Installation"
      ]
    },
    {
      "metadata": {
        "colab_type": "code",
        "id": "f7FdM3G0Rj1k",
        "pycharm": {},
        "colab": {}
      },
      "cell_type": "code",
      "source": [
        "!pip install git+git://github.com/albahnsen/CostSensitiveClassification.git"
      ],
      "execution_count": 0,
      "outputs": []
    },
    {
      "metadata": {
        "colab_type": "text",
        "id": "CjV8FVDP5nAS",
        "pycharm": {}
      },
      "cell_type": "markdown",
      "source": [
        "### Imports"
      ]
    },
    {
      "metadata": {
        "colab_type": "code",
        "id": "Ubj0XegWl_QS",
        "pycharm": {},
        "colab": {}
      },
      "cell_type": "code",
      "source": [
        "import io\n",
        "import time\n",
        "\n",
        "import requests\n",
        "import numpy as np\n",
        "import scipy\n",
        "from pandas import read_csv\n",
        "from sklearn.preprocessing import MinMaxScaler\n",
        "from sklearn.calibration import CalibratedClassifierCV\n",
        "from sklearn.model_selection import train_test_split\n",
        "from sklearn.model_selection import GridSearchCV\n",
        "from sklearn.model_selection import RandomizedSearchCV\n",
        "from sklearn.ensemble import RandomForestClassifier\n",
        "from sklearn.naive_bayes import MultinomialNB\n",
        "from sklearn.svm import LinearSVC\n",
        "from costcla.models import BayesMinimumRiskClassifier\n",
        "from costcla.metrics import cost_loss\n",
        "from imblearn.under_sampling import RandomUnderSampler\n",
        "from imblearn.over_sampling import RandomOverSampler\n",
        "\n",
        "# Import utils functions for cost sensitive learning.\n",
        "from utils import report, full_cs_report, cost\n",
        "\n",
        "%matplotlib inline"
      ],
      "execution_count": 0,
      "outputs": []
    },
    {
      "metadata": {
        "colab_type": "text",
        "id": "ufwbjh1x58Pr",
        "pycharm": {}
      },
      "cell_type": "markdown",
      "source": [
        "### Prepare Dataset"
      ]
    },
    {
      "metadata": {
        "colab_type": "code",
        "id": "ktwINyCB5_vQ",
        "pycharm": {},
        "colab": {}
      },
      "cell_type": "code",
      "source": [
        "# Read the dataset.\n",
        "url\u003d\"http://archive.ics.uci.edu/ml/machine-learning-databases/statlog/heart/heart.dat\"\n",
        "s\u003drequests.get(url).content\n",
        "dataset\u003dread_csv(io.StringIO(s.decode(\u0027utf-8\u0027)), sep\u003d\u0027 \u0027)\n",
        "\n",
        "# Get x and y.\n",
        "X, y \u003d dataset.iloc[:, :-1].values, dataset.iloc[:, -1].values\n",
        "\n",
        "# Convert labels from 1, 2 to 0, 1.\n",
        "y[y \u003d\u003d 1] \u003d 0\n",
        "y[y \u003d\u003d 2] \u003d 1\n",
        "\n",
        "# Create class names.\n",
        "labels \u003d [\u0027Absence\u0027, \u0027Presence\u0027]\n",
        "\n",
        "\n",
        "# Define the cost matrix.\n",
        "# _________  absence  presence\n",
        "# absence    0        1\n",
        "# presence   5        0 \n",
        "fp \u003d np.full((y.shape[0], 1), 5)\n",
        "fn \u003d np.full((y.shape[0], 1), 1)\n",
        "tp \u003d np.zeros((y.shape[0], 1))\n",
        "tn \u003d np.zeros((y.shape[0], 1))\n",
        "cost_matrix \u003d np.hstack((fp, fn, tp, tn))\n",
        "\n",
        "# Split to training and test pairs.\n",
        "X_train, X_test, y_train, y_test, cost_mat_train, cost_mat_test \u003d \\\n",
        "train_test_split(X, y, cost_matrix, test_size\u003d0.3, random_state\u003d0)\n",
        "\n",
        "# Scale data.\n",
        "scaler \u003d MinMaxScaler()\n",
        "X_train \u003d scaler.fit_transform(X_train.astype(float))\n",
        "X_test \u003d scaler.fit_transform(X_test.astype(float))"
      ],
      "execution_count": 0,
      "outputs": []
    },
    {
      "metadata": {
        "colab_type": "text",
        "id": "yoXqPUCQAtMI",
        "pycharm": {}
      },
      "cell_type": "markdown",
      "source": [
        "### Define classifiers"
      ]
    },
    {
      "metadata": {
        "colab_type": "code",
        "id": "K8gZLeiLAwpR",
        "pycharm": {},
        "colab": {}
      },
      "cell_type": "code",
      "source": [
        "# Random Forest\n",
        "forest \u003d RandomForestClassifier(random_state\u003d0, n_jobs\u003d-1)\n",
        "\n",
        "# Linear SVM\n",
        "svm \u003d LinearSVC(random_state\u003d0)\n",
        "\n",
        "# Naive Bayes\n",
        "bayes \u003d MultinomialNB()"
      ],
      "execution_count": 0,
      "outputs": []
    },
    {
      "metadata": {
        "colab_type": "text",
        "id": "tS-rdualbcym",
        "pycharm": {}
      },
      "cell_type": "markdown",
      "source": [
        "# Hyperparameters Tuning"
      ]
    },
    {
      "metadata": {
        "colab_type": "text",
        "id": "BKmEOU7vaDGj",
        "pycharm": {}
      },
      "cell_type": "markdown",
      "source": [
        "### Random Forest Tuning"
      ]
    },
    {
      "metadata": {
        "colab_type": "text",
        "id": "HmQTL7z0j93-",
        "pycharm": {}
      },
      "cell_type": "markdown",
      "source": [
        "#### Random Search\n",
        "Run a Random Search using 10 fold cross validation."
      ]
    },
    {
      "metadata": {
        "colab_type": "code",
        "id": "1XmoZwpGhpDz",
        "pycharm": {
          "is_executing": false,
          "metadata": false,
          "name": "#%%\n"
        },
        "colab": {
          "base_uri": "https://localhost:8080/",
          "height": 495
        },
        "outputId": "fa7bf90b-d45f-43db-e5ab-48500a6bcce1"
      },
      "cell_type": "code",
      "source": [
        "# Specify parameters and distributions to sample from \n",
        "param_dist \u003d {\u0027max_depth\u0027: scipy.stats.randint(1, 30),\n",
        "              \u0027max_features\u0027: scipy.stats.randint(1, X.shape[1]),\n",
        "              \u0027min_samples_split\u0027: scipy.stats.randint(2, X.shape[0] / 2),\n",
        "              \u0027n_estimators\u0027: scipy.stats.randint(10, 600),\n",
        "              \u0027criterion\u0027: [\u0027gini\u0027, \u0027entropy\u0027]}\n",
        "# Specify number of random candidates to be created.\n",
        "candidates \u003d 200\n",
        "\n",
        "# Run a random search CV.\n",
        "random_search \u003d RandomizedSearchCV(forest, param_dist, candidates, cv\u003d10, \n",
        "                                   n_jobs\u003d-1, verbose\u003d5, iid\u003dTrue, scoring\u003dcost)\n",
        "start \u003d time.time()\n",
        "random_search.fit(X_train, y_train)\n",
        "print(\u0027RandomizedSearchCV took {:.2f} seconds for {} candidates.\u0027\n",
        "      .format((time.time() - start), candidates))\n",
        "report(random_search.cv_results_)"
      ],
      "execution_count": 5,
      "outputs": [
        {
          "output_type": "stream",
          "text": [
            "Fitting 10 folds for each of 200 candidates, totalling 2000 fits\n"
          ],
          "name": "stdout"
        },
        {
          "output_type": "stream",
          "text": [
            "[Parallel(n_jobs\u003d-1)]: Using backend LokyBackend with 2 concurrent workers.\n",
            "[Parallel(n_jobs\u003d-1)]: Done  14 tasks      | elapsed:    6.8s\n",
            "[Parallel(n_jobs\u003d-1)]: Done  68 tasks      | elapsed:   24.0s\n",
            "[Parallel(n_jobs\u003d-1)]: Done 158 tasks      | elapsed:  1.0min\n",
            "[Parallel(n_jobs\u003d-1)]: Done 284 tasks      | elapsed:  1.6min\n",
            "[Parallel(n_jobs\u003d-1)]: Done 446 tasks      | elapsed:  2.6min\n",
            "[Parallel(n_jobs\u003d-1)]: Done 644 tasks      | elapsed:  3.8min\n",
            "[Parallel(n_jobs\u003d-1)]: Done 878 tasks      | elapsed:  5.2min\n",
            "[Parallel(n_jobs\u003d-1)]: Done 1148 tasks      | elapsed:  6.4min\n",
            "[Parallel(n_jobs\u003d-1)]: Done 1454 tasks      | elapsed:  8.2min\n",
            "[Parallel(n_jobs\u003d-1)]: Done 1796 tasks      | elapsed:  9.8min\n",
            "[Parallel(n_jobs\u003d-1)]: Done 2000 out of 2000 | elapsed: 10.7min finished\n"
          ],
          "name": "stderr"
        },
        {
          "output_type": "stream",
          "text": [
            "RandomizedSearchCV took 643.92 seconds for 200 candidates.\n",
            "Model with rank: 1\n",
            "Mean validation score: -8.899 (std: 4.645)\n",
            "Parameters: {\u0027criterion\u0027: \u0027gini\u0027, \u0027max_depth\u0027: 20, \u0027max_features\u0027: 6, \u0027min_samples_split\u0027: 50, \u0027n_estimators\u0027: 237}\n",
            "\n",
            "Model with rank: 2\n",
            "Mean validation score: -8.926 (std: 5.351)\n",
            "Parameters: {\u0027criterion\u0027: \u0027gini\u0027, \u0027max_depth\u0027: 10, \u0027max_features\u0027: 9, \u0027min_samples_split\u0027: 50, \u0027n_estimators\u0027: 278}\n",
            "\n",
            "Model with rank: 2\n",
            "Mean validation score: -8.926 (std: 5.351)\n",
            "Parameters: {\u0027criterion\u0027: \u0027gini\u0027, \u0027max_depth\u0027: 28, \u0027max_features\u0027: 9, \u0027min_samples_split\u0027: 50, \u0027n_estimators\u0027: 513}\n",
            "\n"
          ],
          "name": "stdout"
        }
      ]
    },
    {
      "metadata": {
        "colab_type": "text",
        "id": "yX9Je5mraagM",
        "pycharm": {}
      },
      "cell_type": "markdown",
      "source": [
        "#### Grid Search\n",
        "Run a Grid search, using 10 fold cross validation for the area around the best results found with the Random Search."
      ]
    },
    {
      "metadata": {
        "colab_type": "code",
        "id": "alyMa_rYa1V9",
        "pycharm": {},
        "colab": {
          "base_uri": "https://localhost:8080/",
          "height": 5086
        },
        "outputId": "c244d6c7-38b6-49b7-f89f-6dcd224ada33"
      },
      "cell_type": "code",
      "source": [
        "# Specify parameter_grid for the search.\n",
        "param_grid \u003d {\u0027max_depth\u0027: range(18, 22),\n",
        "              \u0027max_features\u0027: range(4, 8),\n",
        "              \u0027min_samples_split\u0027: range(49, 51),\n",
        "              \u0027n_estimators\u0027: range(234, 242),\n",
        "              \u0027criterion\u0027: [\u0027gini\u0027, \u0027entropy\u0027]}\n",
        "\n",
        "# Run a grid search CV.\n",
        "grid_search \u003d GridSearchCV(forest, param_grid, cv\u003d10, n_jobs\u003d-1, verbose\u003d5, \n",
        "                           iid\u003dTrue, scoring\u003dcost)\n",
        "start \u003d time.time()\n",
        "grid_search.fit(X_train, y_train)\n",
        "print(\u0027GridSearchCV took {:.2f} seconds.\u0027\n",
        "      .format((time.time() - start)))\n",
        "report(grid_search.cv_results_)"
      ],
      "execution_count": 8,
      "outputs": [
        {
          "output_type": "stream",
          "text": [
            "Fitting 10 folds for each of 512 candidates, totalling 5120 fits\n"
          ],
          "name": "stdout"
        },
        {
          "output_type": "stream",
          "text": [
            "[Parallel(n_jobs\u003d-1)]: Using backend LokyBackend with 2 concurrent workers.\n",
            "[Parallel(n_jobs\u003d-1)]: Done  14 tasks      | elapsed:    3.1s\n",
            "[Parallel(n_jobs\u003d-1)]: Done  68 tasks      | elapsed:   17.6s\n",
            "[Parallel(n_jobs\u003d-1)]: Done 158 tasks      | elapsed:   41.0s\n",
            "[Parallel(n_jobs\u003d-1)]: Done 284 tasks      | elapsed:  1.2min\n",
            "[Parallel(n_jobs\u003d-1)]: Done 446 tasks      | elapsed:  1.9min\n",
            "[Parallel(n_jobs\u003d-1)]: Done 644 tasks      | elapsed:  2.8min\n",
            "[Parallel(n_jobs\u003d-1)]: Done 878 tasks      | elapsed:  3.8min\n",
            "[Parallel(n_jobs\u003d-1)]: Done 1148 tasks      | elapsed:  5.0min\n",
            "[Parallel(n_jobs\u003d-1)]: Done 1454 tasks      | elapsed:  6.4min\n",
            "[Parallel(n_jobs\u003d-1)]: Done 1796 tasks      | elapsed:  7.9min\n",
            "[Parallel(n_jobs\u003d-1)]: Done 2174 tasks      | elapsed:  9.5min\n",
            "[Parallel(n_jobs\u003d-1)]: Done 2588 tasks      | elapsed: 11.3min\n",
            "[Parallel(n_jobs\u003d-1)]: Done 3038 tasks      | elapsed: 13.3min\n",
            "[Parallel(n_jobs\u003d-1)]: Done 3524 tasks      | elapsed: 15.6min\n",
            "[Parallel(n_jobs\u003d-1)]: Done 4046 tasks      | elapsed: 18.0min\n",
            "[Parallel(n_jobs\u003d-1)]: Done 4604 tasks      | elapsed: 20.4min\n",
            "[Parallel(n_jobs\u003d-1)]: Done 5120 out of 5120 | elapsed: 22.6min finished\n"
          ],
          "name": "stderr"
        },
        {
          "output_type": "stream",
          "text": [
            "GridSearchCV took 1358.39 seconds.\n",
            "Model with rank: 1\n",
            "Mean validation score: -8.899 (std: 4.645)\n",
            "Parameters: {\u0027criterion\u0027: \u0027gini\u0027, \u0027max_depth\u0027: 18, \u0027max_features\u0027: 6, \u0027min_samples_split\u0027: 49, \u0027n_estimators\u0027: 234}\n",
            "\n",
            "Model with rank: 1\n",
            "Mean validation score: -8.899 (std: 4.645)\n",
            "Parameters: {\u0027criterion\u0027: \u0027gini\u0027, \u0027max_depth\u0027: 18, \u0027max_features\u0027: 6, \u0027min_samples_split\u0027: 49, \u0027n_estimators\u0027: 235}\n",
            "\n",
            "Model with rank: 1\n",
            "Mean validation score: -8.899 (std: 4.645)\n",
            "Parameters: {\u0027criterion\u0027: \u0027gini\u0027, \u0027max_depth\u0027: 18, \u0027max_features\u0027: 6, \u0027min_samples_split\u0027: 49, \u0027n_estimators\u0027: 236}\n",
            "\n",
            "Model with rank: 1\n",
            "Mean validation score: -8.899 (std: 4.645)\n",
            "Parameters: {\u0027criterion\u0027: \u0027gini\u0027, \u0027max_depth\u0027: 18, \u0027max_features\u0027: 6, \u0027min_samples_split\u0027: 49, \u0027n_estimators\u0027: 237}\n",
            "\n",
            "Model with rank: 1\n",
            "Mean validation score: -8.899 (std: 4.645)\n",
            "Parameters: {\u0027criterion\u0027: \u0027gini\u0027, \u0027max_depth\u0027: 18, \u0027max_features\u0027: 6, \u0027min_samples_split\u0027: 49, \u0027n_estimators\u0027: 238}\n",
            "\n",
            "Model with rank: 1\n",
            "Mean validation score: -8.899 (std: 4.645)\n",
            "Parameters: {\u0027criterion\u0027: \u0027gini\u0027, \u0027max_depth\u0027: 18, \u0027max_features\u0027: 6, \u0027min_samples_split\u0027: 49, \u0027n_estimators\u0027: 239}\n",
            "\n",
            "Model with rank: 1\n",
            "Mean validation score: -8.899 (std: 4.645)\n",
            "Parameters: {\u0027criterion\u0027: \u0027gini\u0027, \u0027max_depth\u0027: 18, \u0027max_features\u0027: 6, \u0027min_samples_split\u0027: 49, \u0027n_estimators\u0027: 240}\n",
            "\n",
            "Model with rank: 1\n",
            "Mean validation score: -8.899 (std: 4.645)\n",
            "Parameters: {\u0027criterion\u0027: \u0027gini\u0027, \u0027max_depth\u0027: 18, \u0027max_features\u0027: 6, \u0027min_samples_split\u0027: 49, \u0027n_estimators\u0027: 241}\n",
            "\n",
            "Model with rank: 1\n",
            "Mean validation score: -8.899 (std: 4.645)\n",
            "Parameters: {\u0027criterion\u0027: \u0027gini\u0027, \u0027max_depth\u0027: 18, \u0027max_features\u0027: 6, \u0027min_samples_split\u0027: 50, \u0027n_estimators\u0027: 234}\n",
            "\n",
            "Model with rank: 1\n",
            "Mean validation score: -8.899 (std: 4.645)\n",
            "Parameters: {\u0027criterion\u0027: \u0027gini\u0027, \u0027max_depth\u0027: 18, \u0027max_features\u0027: 6, \u0027min_samples_split\u0027: 50, \u0027n_estimators\u0027: 235}\n",
            "\n",
            "Model with rank: 1\n",
            "Mean validation score: -8.899 (std: 4.645)\n",
            "Parameters: {\u0027criterion\u0027: \u0027gini\u0027, \u0027max_depth\u0027: 18, \u0027max_features\u0027: 6, \u0027min_samples_split\u0027: 50, \u0027n_estimators\u0027: 236}\n",
            "\n",
            "Model with rank: 1\n",
            "Mean validation score: -8.899 (std: 4.645)\n",
            "Parameters: {\u0027criterion\u0027: \u0027gini\u0027, \u0027max_depth\u0027: 18, \u0027max_features\u0027: 6, \u0027min_samples_split\u0027: 50, \u0027n_estimators\u0027: 237}\n",
            "\n",
            "Model with rank: 1\n",
            "Mean validation score: -8.899 (std: 4.645)\n",
            "Parameters: {\u0027criterion\u0027: \u0027gini\u0027, \u0027max_depth\u0027: 18, \u0027max_features\u0027: 6, \u0027min_samples_split\u0027: 50, \u0027n_estimators\u0027: 238}\n",
            "\n",
            "Model with rank: 1\n",
            "Mean validation score: -8.899 (std: 4.645)\n",
            "Parameters: {\u0027criterion\u0027: \u0027gini\u0027, \u0027max_depth\u0027: 18, \u0027max_features\u0027: 6, \u0027min_samples_split\u0027: 50, \u0027n_estimators\u0027: 239}\n",
            "\n",
            "Model with rank: 1\n",
            "Mean validation score: -8.899 (std: 4.645)\n",
            "Parameters: {\u0027criterion\u0027: \u0027gini\u0027, \u0027max_depth\u0027: 18, \u0027max_features\u0027: 6, \u0027min_samples_split\u0027: 50, \u0027n_estimators\u0027: 240}\n",
            "\n",
            "Model with rank: 1\n",
            "Mean validation score: -8.899 (std: 4.645)\n",
            "Parameters: {\u0027criterion\u0027: \u0027gini\u0027, \u0027max_depth\u0027: 18, \u0027max_features\u0027: 6, \u0027min_samples_split\u0027: 50, \u0027n_estimators\u0027: 241}\n",
            "\n",
            "Model with rank: 1\n",
            "Mean validation score: -8.899 (std: 4.645)\n",
            "Parameters: {\u0027criterion\u0027: \u0027gini\u0027, \u0027max_depth\u0027: 19, \u0027max_features\u0027: 6, \u0027min_samples_split\u0027: 49, \u0027n_estimators\u0027: 234}\n",
            "\n",
            "Model with rank: 1\n",
            "Mean validation score: -8.899 (std: 4.645)\n",
            "Parameters: {\u0027criterion\u0027: \u0027gini\u0027, \u0027max_depth\u0027: 19, \u0027max_features\u0027: 6, \u0027min_samples_split\u0027: 49, \u0027n_estimators\u0027: 235}\n",
            "\n",
            "Model with rank: 1\n",
            "Mean validation score: -8.899 (std: 4.645)\n",
            "Parameters: {\u0027criterion\u0027: \u0027gini\u0027, \u0027max_depth\u0027: 19, \u0027max_features\u0027: 6, \u0027min_samples_split\u0027: 49, \u0027n_estimators\u0027: 236}\n",
            "\n",
            "Model with rank: 1\n",
            "Mean validation score: -8.899 (std: 4.645)\n",
            "Parameters: {\u0027criterion\u0027: \u0027gini\u0027, \u0027max_depth\u0027: 19, \u0027max_features\u0027: 6, \u0027min_samples_split\u0027: 49, \u0027n_estimators\u0027: 237}\n",
            "\n",
            "Model with rank: 1\n",
            "Mean validation score: -8.899 (std: 4.645)\n",
            "Parameters: {\u0027criterion\u0027: \u0027gini\u0027, \u0027max_depth\u0027: 19, \u0027max_features\u0027: 6, \u0027min_samples_split\u0027: 49, \u0027n_estimators\u0027: 238}\n",
            "\n",
            "Model with rank: 1\n",
            "Mean validation score: -8.899 (std: 4.645)\n",
            "Parameters: {\u0027criterion\u0027: \u0027gini\u0027, \u0027max_depth\u0027: 19, \u0027max_features\u0027: 6, \u0027min_samples_split\u0027: 49, \u0027n_estimators\u0027: 239}\n",
            "\n",
            "Model with rank: 1\n",
            "Mean validation score: -8.899 (std: 4.645)\n",
            "Parameters: {\u0027criterion\u0027: \u0027gini\u0027, \u0027max_depth\u0027: 19, \u0027max_features\u0027: 6, \u0027min_samples_split\u0027: 49, \u0027n_estimators\u0027: 240}\n",
            "\n",
            "Model with rank: 1\n",
            "Mean validation score: -8.899 (std: 4.645)\n",
            "Parameters: {\u0027criterion\u0027: \u0027gini\u0027, \u0027max_depth\u0027: 19, \u0027max_features\u0027: 6, \u0027min_samples_split\u0027: 49, \u0027n_estimators\u0027: 241}\n",
            "\n",
            "Model with rank: 1\n",
            "Mean validation score: -8.899 (std: 4.645)\n",
            "Parameters: {\u0027criterion\u0027: \u0027gini\u0027, \u0027max_depth\u0027: 19, \u0027max_features\u0027: 6, \u0027min_samples_split\u0027: 50, \u0027n_estimators\u0027: 234}\n",
            "\n",
            "Model with rank: 1\n",
            "Mean validation score: -8.899 (std: 4.645)\n",
            "Parameters: {\u0027criterion\u0027: \u0027gini\u0027, \u0027max_depth\u0027: 19, \u0027max_features\u0027: 6, \u0027min_samples_split\u0027: 50, \u0027n_estimators\u0027: 235}\n",
            "\n",
            "Model with rank: 1\n",
            "Mean validation score: -8.899 (std: 4.645)\n",
            "Parameters: {\u0027criterion\u0027: \u0027gini\u0027, \u0027max_depth\u0027: 19, \u0027max_features\u0027: 6, \u0027min_samples_split\u0027: 50, \u0027n_estimators\u0027: 236}\n",
            "\n",
            "Model with rank: 1\n",
            "Mean validation score: -8.899 (std: 4.645)\n",
            "Parameters: {\u0027criterion\u0027: \u0027gini\u0027, \u0027max_depth\u0027: 19, \u0027max_features\u0027: 6, \u0027min_samples_split\u0027: 50, \u0027n_estimators\u0027: 237}\n",
            "\n",
            "Model with rank: 1\n",
            "Mean validation score: -8.899 (std: 4.645)\n",
            "Parameters: {\u0027criterion\u0027: \u0027gini\u0027, \u0027max_depth\u0027: 19, \u0027max_features\u0027: 6, \u0027min_samples_split\u0027: 50, \u0027n_estimators\u0027: 238}\n",
            "\n",
            "Model with rank: 1\n",
            "Mean validation score: -8.899 (std: 4.645)\n",
            "Parameters: {\u0027criterion\u0027: \u0027gini\u0027, \u0027max_depth\u0027: 19, \u0027max_features\u0027: 6, \u0027min_samples_split\u0027: 50, \u0027n_estimators\u0027: 239}\n",
            "\n",
            "Model with rank: 1\n",
            "Mean validation score: -8.899 (std: 4.645)\n",
            "Parameters: {\u0027criterion\u0027: \u0027gini\u0027, \u0027max_depth\u0027: 19, \u0027max_features\u0027: 6, \u0027min_samples_split\u0027: 50, \u0027n_estimators\u0027: 240}\n",
            "\n",
            "Model with rank: 1\n",
            "Mean validation score: -8.899 (std: 4.645)\n",
            "Parameters: {\u0027criterion\u0027: \u0027gini\u0027, \u0027max_depth\u0027: 19, \u0027max_features\u0027: 6, \u0027min_samples_split\u0027: 50, \u0027n_estimators\u0027: 241}\n",
            "\n",
            "Model with rank: 1\n",
            "Mean validation score: -8.899 (std: 4.645)\n",
            "Parameters: {\u0027criterion\u0027: \u0027gini\u0027, \u0027max_depth\u0027: 20, \u0027max_features\u0027: 6, \u0027min_samples_split\u0027: 49, \u0027n_estimators\u0027: 234}\n",
            "\n",
            "Model with rank: 1\n",
            "Mean validation score: -8.899 (std: 4.645)\n",
            "Parameters: {\u0027criterion\u0027: \u0027gini\u0027, \u0027max_depth\u0027: 20, \u0027max_features\u0027: 6, \u0027min_samples_split\u0027: 49, \u0027n_estimators\u0027: 235}\n",
            "\n",
            "Model with rank: 1\n",
            "Mean validation score: -8.899 (std: 4.645)\n",
            "Parameters: {\u0027criterion\u0027: \u0027gini\u0027, \u0027max_depth\u0027: 20, \u0027max_features\u0027: 6, \u0027min_samples_split\u0027: 49, \u0027n_estimators\u0027: 236}\n",
            "\n",
            "Model with rank: 1\n",
            "Mean validation score: -8.899 (std: 4.645)\n",
            "Parameters: {\u0027criterion\u0027: \u0027gini\u0027, \u0027max_depth\u0027: 20, \u0027max_features\u0027: 6, \u0027min_samples_split\u0027: 49, \u0027n_estimators\u0027: 237}\n",
            "\n",
            "Model with rank: 1\n",
            "Mean validation score: -8.899 (std: 4.645)\n",
            "Parameters: {\u0027criterion\u0027: \u0027gini\u0027, \u0027max_depth\u0027: 20, \u0027max_features\u0027: 6, \u0027min_samples_split\u0027: 49, \u0027n_estimators\u0027: 238}\n",
            "\n",
            "Model with rank: 1\n",
            "Mean validation score: -8.899 (std: 4.645)\n",
            "Parameters: {\u0027criterion\u0027: \u0027gini\u0027, \u0027max_depth\u0027: 20, \u0027max_features\u0027: 6, \u0027min_samples_split\u0027: 49, \u0027n_estimators\u0027: 239}\n",
            "\n",
            "Model with rank: 1\n",
            "Mean validation score: -8.899 (std: 4.645)\n",
            "Parameters: {\u0027criterion\u0027: \u0027gini\u0027, \u0027max_depth\u0027: 20, \u0027max_features\u0027: 6, \u0027min_samples_split\u0027: 49, \u0027n_estimators\u0027: 240}\n",
            "\n",
            "Model with rank: 1\n",
            "Mean validation score: -8.899 (std: 4.645)\n",
            "Parameters: {\u0027criterion\u0027: \u0027gini\u0027, \u0027max_depth\u0027: 20, \u0027max_features\u0027: 6, \u0027min_samples_split\u0027: 49, \u0027n_estimators\u0027: 241}\n",
            "\n",
            "Model with rank: 1\n",
            "Mean validation score: -8.899 (std: 4.645)\n",
            "Parameters: {\u0027criterion\u0027: \u0027gini\u0027, \u0027max_depth\u0027: 20, \u0027max_features\u0027: 6, \u0027min_samples_split\u0027: 50, \u0027n_estimators\u0027: 234}\n",
            "\n",
            "Model with rank: 1\n",
            "Mean validation score: -8.899 (std: 4.645)\n",
            "Parameters: {\u0027criterion\u0027: \u0027gini\u0027, \u0027max_depth\u0027: 20, \u0027max_features\u0027: 6, \u0027min_samples_split\u0027: 50, \u0027n_estimators\u0027: 235}\n",
            "\n",
            "Model with rank: 1\n",
            "Mean validation score: -8.899 (std: 4.645)\n",
            "Parameters: {\u0027criterion\u0027: \u0027gini\u0027, \u0027max_depth\u0027: 20, \u0027max_features\u0027: 6, \u0027min_samples_split\u0027: 50, \u0027n_estimators\u0027: 236}\n",
            "\n",
            "Model with rank: 1\n",
            "Mean validation score: -8.899 (std: 4.645)\n",
            "Parameters: {\u0027criterion\u0027: \u0027gini\u0027, \u0027max_depth\u0027: 20, \u0027max_features\u0027: 6, \u0027min_samples_split\u0027: 50, \u0027n_estimators\u0027: 237}\n",
            "\n",
            "Model with rank: 1\n",
            "Mean validation score: -8.899 (std: 4.645)\n",
            "Parameters: {\u0027criterion\u0027: \u0027gini\u0027, \u0027max_depth\u0027: 20, \u0027max_features\u0027: 6, \u0027min_samples_split\u0027: 50, \u0027n_estimators\u0027: 238}\n",
            "\n",
            "Model with rank: 1\n",
            "Mean validation score: -8.899 (std: 4.645)\n",
            "Parameters: {\u0027criterion\u0027: \u0027gini\u0027, \u0027max_depth\u0027: 20, \u0027max_features\u0027: 6, \u0027min_samples_split\u0027: 50, \u0027n_estimators\u0027: 239}\n",
            "\n",
            "Model with rank: 1\n",
            "Mean validation score: -8.899 (std: 4.645)\n",
            "Parameters: {\u0027criterion\u0027: \u0027gini\u0027, \u0027max_depth\u0027: 20, \u0027max_features\u0027: 6, \u0027min_samples_split\u0027: 50, \u0027n_estimators\u0027: 240}\n",
            "\n",
            "Model with rank: 1\n",
            "Mean validation score: -8.899 (std: 4.645)\n",
            "Parameters: {\u0027criterion\u0027: \u0027gini\u0027, \u0027max_depth\u0027: 20, \u0027max_features\u0027: 6, \u0027min_samples_split\u0027: 50, \u0027n_estimators\u0027: 241}\n",
            "\n",
            "Model with rank: 1\n",
            "Mean validation score: -8.899 (std: 4.645)\n",
            "Parameters: {\u0027criterion\u0027: \u0027gini\u0027, \u0027max_depth\u0027: 21, \u0027max_features\u0027: 6, \u0027min_samples_split\u0027: 49, \u0027n_estimators\u0027: 234}\n",
            "\n",
            "Model with rank: 1\n",
            "Mean validation score: -8.899 (std: 4.645)\n",
            "Parameters: {\u0027criterion\u0027: \u0027gini\u0027, \u0027max_depth\u0027: 21, \u0027max_features\u0027: 6, \u0027min_samples_split\u0027: 49, \u0027n_estimators\u0027: 235}\n",
            "\n",
            "Model with rank: 1\n",
            "Mean validation score: -8.899 (std: 4.645)\n",
            "Parameters: {\u0027criterion\u0027: \u0027gini\u0027, \u0027max_depth\u0027: 21, \u0027max_features\u0027: 6, \u0027min_samples_split\u0027: 49, \u0027n_estimators\u0027: 236}\n",
            "\n",
            "Model with rank: 1\n",
            "Mean validation score: -8.899 (std: 4.645)\n",
            "Parameters: {\u0027criterion\u0027: \u0027gini\u0027, \u0027max_depth\u0027: 21, \u0027max_features\u0027: 6, \u0027min_samples_split\u0027: 49, \u0027n_estimators\u0027: 237}\n",
            "\n",
            "Model with rank: 1\n",
            "Mean validation score: -8.899 (std: 4.645)\n",
            "Parameters: {\u0027criterion\u0027: \u0027gini\u0027, \u0027max_depth\u0027: 21, \u0027max_features\u0027: 6, \u0027min_samples_split\u0027: 49, \u0027n_estimators\u0027: 238}\n",
            "\n",
            "Model with rank: 1\n",
            "Mean validation score: -8.899 (std: 4.645)\n",
            "Parameters: {\u0027criterion\u0027: \u0027gini\u0027, \u0027max_depth\u0027: 21, \u0027max_features\u0027: 6, \u0027min_samples_split\u0027: 49, \u0027n_estimators\u0027: 239}\n",
            "\n",
            "Model with rank: 1\n",
            "Mean validation score: -8.899 (std: 4.645)\n",
            "Parameters: {\u0027criterion\u0027: \u0027gini\u0027, \u0027max_depth\u0027: 21, \u0027max_features\u0027: 6, \u0027min_samples_split\u0027: 49, \u0027n_estimators\u0027: 240}\n",
            "\n",
            "Model with rank: 1\n",
            "Mean validation score: -8.899 (std: 4.645)\n",
            "Parameters: {\u0027criterion\u0027: \u0027gini\u0027, \u0027max_depth\u0027: 21, \u0027max_features\u0027: 6, \u0027min_samples_split\u0027: 49, \u0027n_estimators\u0027: 241}\n",
            "\n",
            "Model with rank: 1\n",
            "Mean validation score: -8.899 (std: 4.645)\n",
            "Parameters: {\u0027criterion\u0027: \u0027gini\u0027, \u0027max_depth\u0027: 21, \u0027max_features\u0027: 6, \u0027min_samples_split\u0027: 50, \u0027n_estimators\u0027: 234}\n",
            "\n",
            "Model with rank: 1\n",
            "Mean validation score: -8.899 (std: 4.645)\n",
            "Parameters: {\u0027criterion\u0027: \u0027gini\u0027, \u0027max_depth\u0027: 21, \u0027max_features\u0027: 6, \u0027min_samples_split\u0027: 50, \u0027n_estimators\u0027: 235}\n",
            "\n",
            "Model with rank: 1\n",
            "Mean validation score: -8.899 (std: 4.645)\n",
            "Parameters: {\u0027criterion\u0027: \u0027gini\u0027, \u0027max_depth\u0027: 21, \u0027max_features\u0027: 6, \u0027min_samples_split\u0027: 50, \u0027n_estimators\u0027: 236}\n",
            "\n",
            "Model with rank: 1\n",
            "Mean validation score: -8.899 (std: 4.645)\n",
            "Parameters: {\u0027criterion\u0027: \u0027gini\u0027, \u0027max_depth\u0027: 21, \u0027max_features\u0027: 6, \u0027min_samples_split\u0027: 50, \u0027n_estimators\u0027: 237}\n",
            "\n",
            "Model with rank: 1\n",
            "Mean validation score: -8.899 (std: 4.645)\n",
            "Parameters: {\u0027criterion\u0027: \u0027gini\u0027, \u0027max_depth\u0027: 21, \u0027max_features\u0027: 6, \u0027min_samples_split\u0027: 50, \u0027n_estimators\u0027: 238}\n",
            "\n",
            "Model with rank: 1\n",
            "Mean validation score: -8.899 (std: 4.645)\n",
            "Parameters: {\u0027criterion\u0027: \u0027gini\u0027, \u0027max_depth\u0027: 21, \u0027max_features\u0027: 6, \u0027min_samples_split\u0027: 50, \u0027n_estimators\u0027: 239}\n",
            "\n",
            "Model with rank: 1\n",
            "Mean validation score: -8.899 (std: 4.645)\n",
            "Parameters: {\u0027criterion\u0027: \u0027gini\u0027, \u0027max_depth\u0027: 21, \u0027max_features\u0027: 6, \u0027min_samples_split\u0027: 50, \u0027n_estimators\u0027: 240}\n",
            "\n",
            "Model with rank: 1\n",
            "Mean validation score: -8.899 (std: 4.645)\n",
            "Parameters: {\u0027criterion\u0027: \u0027gini\u0027, \u0027max_depth\u0027: 21, \u0027max_features\u0027: 6, \u0027min_samples_split\u0027: 50, \u0027n_estimators\u0027: 241}\n",
            "\n"
          ],
          "name": "stdout"
        }
      ]
    },
    {
      "metadata": {
        "colab_type": "text",
        "id": "loUr8jkqi_FE",
        "pycharm": {}
      },
      "cell_type": "markdown",
      "source": [
        "#### Use best hyperparameters."
      ]
    },
    {
      "metadata": {
        "colab_type": "code",
        "id": "3GKIF1w0i-xu",
        "pycharm": {},
        "colab": {}
      },
      "cell_type": "code",
      "source": [
        "forest.max_depth \u003d 18\n",
        "forest.max_features \u003d 6\n",
        "forest.min_samples_split \u003d 49\n",
        "forest.n_estimators \u003d 234\n",
        "forest.criterion \u003d \u0027gini\u0027"
      ],
      "execution_count": 0,
      "outputs": []
    },
    {
      "metadata": {
        "colab_type": "text",
        "id": "mvY5quaCMX-l",
        "pycharm": {}
      },
      "cell_type": "markdown",
      "source": [
        "### SVM Tuning"
      ]
    },
    {
      "metadata": {
        "colab_type": "text",
        "id": "kEAeTLIFbDcY",
        "pycharm": {}
      },
      "cell_type": "markdown",
      "source": [
        "#### Grid Search\n",
        "Run a Grid search, using 10 fold cross validation."
      ]
    },
    {
      "metadata": {
        "colab_type": "code",
        "id": "epwYG6ZubDcj",
        "pycharm": {},
        "colab": {
          "base_uri": "https://localhost:8080/",
          "height": 459
        },
        "outputId": "d7de7593-e4dd-456b-f970-7cf9f11319ed"
      },
      "cell_type": "code",
      "source": [
        "# Specify parameter_grid for the search.\n",
        "param_grid \u003d {\u0027C\u0027: np.arange(0.01, 1000, 0.5)}\n",
        "\n",
        "# Run a grid search CV.\n",
        "grid_search \u003d GridSearchCV(svm, param_grid, cv\u003d10, n_jobs\u003d-1, verbose\u003d5, \n",
        "                           iid\u003dTrue, scoring\u003dcost)\n",
        "start \u003d time.time()\n",
        "grid_search.fit(X_train, y_train)\n",
        "print(\u0027GridSearchCV took {:.2f} seconds.\u0027\n",
        "      .format((time.time() - start)))\n",
        "report(grid_search.cv_results_)"
      ],
      "execution_count": 6,
      "outputs": [
        {
          "output_type": "stream",
          "text": [
            "Fitting 10 folds for each of 2000 candidates, totalling 20000 fits\n"
          ],
          "name": "stdout"
        },
        {
          "output_type": "stream",
          "text": [
            "[Parallel(n_jobs\u003d-1)]: Using backend LokyBackend with 2 concurrent workers.\n",
            "[Parallel(n_jobs\u003d-1)]: Done 844 tasks      | elapsed:    5.7s\n",
            "[Parallel(n_jobs\u003d-1)]: Done 2824 tasks      | elapsed:   18.6s\n",
            "[Parallel(n_jobs\u003d-1)]: Done 5794 tasks      | elapsed:   37.5s\n",
            "[Parallel(n_jobs\u003d-1)]: Done 9952 tasks      | elapsed:  1.1min\n",
            "[Parallel(n_jobs\u003d-1)]: Done 15298 tasks      | elapsed:  1.6min\n"
          ],
          "name": "stderr"
        },
        {
          "output_type": "stream",
          "text": [
            "GridSearchCV took 130.03 seconds.\n",
            "Model with rank: 1\n",
            "Mean validation score: -8.745 (std: 4.390)\n",
            "Parameters: {\u0027C\u0027: 117.01}\n",
            "\n",
            "Model with rank: 2\n",
            "Mean validation score: -9.064 (std: 3.430)\n",
            "Parameters: {\u0027C\u0027: 31.01}\n",
            "\n",
            "Model with rank: 3\n",
            "Mean validation score: -9.069 (std: 4.326)\n",
            "Parameters: {\u0027C\u0027: 81.51}\n",
            "\n"
          ],
          "name": "stdout"
        },
        {
          "output_type": "stream",
          "text": [
            "[Parallel(n_jobs\u003d-1)]: Done 20000 out of 20000 | elapsed:  2.2min finished\n",
            "/usr/local/lib/python3.6/dist-packages/sklearn/svm/base.py:931: ConvergenceWarning: Liblinear failed to converge, increase the number of iterations.\n",
            "  \"the number of iterations.\", ConvergenceWarning)\n"
          ],
          "name": "stderr"
        }
      ]
    },
    {
      "metadata": {
        "colab_type": "text",
        "id": "2oB00UILjwbg",
        "pycharm": {}
      },
      "cell_type": "markdown",
      "source": [
        "#### Use the best C."
      ]
    },
    {
      "metadata": {
        "colab_type": "code",
        "id": "Kv-LWa3zjwbq",
        "pycharm": {},
        "colab": {}
      },
      "cell_type": "code",
      "source": [
        "# Change C.\n",
        "svm.C \u003d 31\n",
        "\n",
        "# Increase number of iterations.\n",
        "svm.max_iter \u003d 200000"
      ],
      "execution_count": 0,
      "outputs": []
    },
    {
      "metadata": {
        "colab_type": "text",
        "id": "UV_zD8lOMYh1",
        "pycharm": {}
      },
      "cell_type": "markdown",
      "source": [
        "### Naive Bayes Tuning"
      ]
    },
    {
      "metadata": {
        "colab_type": "text",
        "id": "JyVKbW8ybTZz",
        "pycharm": {}
      },
      "cell_type": "markdown",
      "source": [
        "#### Grid Search\n",
        "Run a Grid search, using 10 fold cross validation for the area around the best results found with the Random Search."
      ]
    },
    {
      "metadata": {
        "colab_type": "code",
        "id": "TdJQJr7sbTZ5",
        "pycharm": {},
        "colab": {
          "base_uri": "https://localhost:8080/",
          "height": 531
        },
        "outputId": "ef1a5c5c-db4c-477f-9335-da4c2b1ba929"
      },
      "cell_type": "code",
      "source": [
        "# Specify parameter_grid for the search.\n",
        "param_grid \u003d {\u0027alpha\u0027: np.arange(0, 10, 0.2)}\n",
        "\n",
        "# Run a grid search CV.\n",
        "grid_search \u003d GridSearchCV(bayes, param_grid, cv\u003d10, n_jobs\u003d-1, verbose\u003d5, \n",
        "                           iid\u003dTrue, scoring\u003dcost)\n",
        "start \u003d time.time()\n",
        "grid_search.fit(X_train, y_train)\n",
        "print(\u0027GridSearchCV took {:.2f} seconds.\u0027\n",
        "      .format((time.time() - start)))\n",
        "report(grid_search.cv_results_)"
      ],
      "execution_count": 7,
      "outputs": [
        {
          "output_type": "stream",
          "text": [
            "[Parallel(n_jobs\u003d-1)]: Using backend LokyBackend with 2 concurrent workers.\n"
          ],
          "name": "stderr"
        },
        {
          "output_type": "stream",
          "text": [
            "Fitting 10 folds for each of 50 candidates, totalling 500 fits\n",
            "GridSearchCV took 0.52 seconds.\n",
            "Model with rank: 1\n",
            "Mean validation score: -11.085 (std: 5.023)\n",
            "Parameters: {\u0027alpha\u0027: 1.2000000000000002}\n",
            "\n",
            "Model with rank: 1\n",
            "Mean validation score: -11.085 (std: 5.023)\n",
            "Parameters: {\u0027alpha\u0027: 1.4000000000000001}\n",
            "\n",
            "Model with rank: 1\n",
            "Mean validation score: -11.085 (std: 5.023)\n",
            "Parameters: {\u0027alpha\u0027: 1.6}\n",
            "\n",
            "Model with rank: 1\n",
            "Mean validation score: -11.085 (std: 5.023)\n",
            "Parameters: {\u0027alpha\u0027: 1.8}\n",
            "\n",
            "Model with rank: 1\n",
            "Mean validation score: -11.085 (std: 5.023)\n",
            "Parameters: {\u0027alpha\u0027: 2.0}\n",
            "\n",
            "Model with rank: 1\n",
            "Mean validation score: -11.085 (std: 5.023)\n",
            "Parameters: {\u0027alpha\u0027: 2.2}\n",
            "\n"
          ],
          "name": "stdout"
        },
        {
          "output_type": "stream",
          "text": [
            "[Parallel(n_jobs\u003d-1)]: Done 500 out of 500 | elapsed:    0.5s finished\n"
          ],
          "name": "stderr"
        }
      ]
    },
    {
      "metadata": {
        "colab_type": "text",
        "id": "gB3Fd5yKjx77",
        "pycharm": {}
      },
      "cell_type": "markdown",
      "source": [
        "#### Use the best alpha."
      ]
    },
    {
      "metadata": {
        "colab_type": "code",
        "id": "woTcjAmBjx8A",
        "pycharm": {},
        "colab": {}
      },
      "cell_type": "code",
      "source": [
        "bayes.alpha \u003d 1.2"
      ],
      "execution_count": 0,
      "outputs": []
    },
    {
      "metadata": {
        "colab_type": "text",
        "id": "ej6YCMamf8w_",
        "pycharm": {}
      },
      "cell_type": "markdown",
      "source": [
        "\n",
        "# No Method Applied"
      ]
    },
    {
      "metadata": {
        "colab_type": "code",
        "id": "El4rL7WRgEek",
        "pycharm": {},
        "colab": {
          "base_uri": "https://localhost:8080/",
          "height": 2242
        },
        "outputId": "d21cb061-8305-4d15-a8c4-8167573cb193"
      },
      "cell_type": "code",
      "source": [
        "def simple_predict(clf):\n",
        "    \"\"\"\n",
        "    Predicts without using any cost sensitive method, provided a given classifier.\n",
        "    \n",
        "    :param clf: the classifier to make prediction with.\n",
        "    \"\"\"\n",
        "    clf.fit(X_train, y_train)\n",
        "    return clf.predict(X_test)\n",
        "\n",
        "# Make a full report for all the classifiers.\n",
        "full_cs_report(y_test, \n",
        "               simple_predict(forest),\n",
        "               simple_predict(svm),\n",
        "               simple_predict(bayes),\n",
        "               labels, cost_mat_test)"
      ],
      "execution_count": 23,
      "outputs": [
        {
          "output_type": "stream",
          "text": [
            "Random Forest: \n",
            "\n",
            "              precision    recall  f1-score   support\n",
            "\n",
            "     Absence       0.80      0.74      0.77        43\n",
            "    Presence       0.73      0.79      0.76        38\n",
            "\n",
            "   micro avg       0.77      0.77      0.77        81\n",
            "   macro avg       0.77      0.77      0.77        81\n",
            "weighted avg       0.77      0.77      0.77        81\n",
            "\n"
          ],
          "name": "stdout"
        },
        {
          "output_type": "display_data",
          "data": {
            "image/png": "iVBORw0KGgoAAAANSUhEUgAAAfEAAAH3CAYAAACra2ZgAAAABHNCSVQICAgIfAhkiAAAAAlwSFlz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\n/wP4vB+moYF2ggAAAABJRU5ErkJggg\u003d\u003d\n",
            "text/plain": [
              "\u003cFigure size 576x576 with 1 Axes\u003e"
            ]
          },
          "metadata": {
            "tags": []
          }
        },
        {
          "output_type": "stream",
          "text": [
            "\n",
            "---------------------------------------------------------------\n",
            "\n",
            "SVM: \n",
            "\n",
            "              precision    recall  f1-score   support\n",
            "\n",
            "     Absence       0.83      0.79      0.81        43\n",
            "    Presence       0.78      0.82      0.79        38\n",
            "\n",
            "   micro avg       0.80      0.80      0.80        81\n",
            "   macro avg       0.80      0.80      0.80        81\n",
            "weighted avg       0.80      0.80      0.80        81\n",
            "\n"
          ],
          "name": "stdout"
        },
        {
          "output_type": "display_data",
          "data": {
            "image/png": "iVBORw0KGgoAAAANSUhEUgAAAfEAAAH3CAYAAACra2ZgAAAABHNCSVQICAgIfAhkiAAAAAlwSFlz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\n+n9Hw9cFCbASAQAAAABJRU5ErkJggg\u003d\u003d\n",
            "text/plain": [
              "\u003cFigure size 576x576 with 1 Axes\u003e"
            ]
          },
          "metadata": {
            "tags": []
          }
        },
        {
          "output_type": "stream",
          "text": [
            "\n",
            "---------------------------------------------------------------\n",
            "\n",
            "Bayes: \n",
            "\n",
            "              precision    recall  f1-score   support\n",
            "\n",
            "     Absence       0.79      0.88      0.84        43\n",
            "    Presence       0.85      0.74      0.79        38\n",
            "\n",
            "   micro avg       0.81      0.81      0.81        81\n",
            "   macro avg       0.82      0.81      0.81        81\n",
            "weighted avg       0.82      0.81      0.81        81\n",
            "\n"
          ],
          "name": "stdout"
        },
        {
          "output_type": "display_data",
          "data": {
            "image/png": "iVBORw0KGgoAAAANSUhEUgAAAfEAAAH3CAYAAACra2ZgAAAABHNCSVQICAgIfAhkiAAAAAlwSFlz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\u003d\u003d\n",
            "text/plain": [
              "\u003cFigure size 576x576 with 1 Axes\u003e"
            ]
          },
          "metadata": {
            "tags": []
          }
        }
      ]
    },
    {
      "metadata": {
        "colab_type": "text",
        "id": "RIM7Ro8Vg2mu",
        "pycharm": {}
      },
      "cell_type": "markdown",
      "source": [
        "We noticed that the F1 score is good, but the classification cost is high. For that reason, we need to \"tell\" our model to be more careful about false positives."
      ]
    },
    {
      "metadata": {
        "colab_type": "text",
        "id": "oVgJDkEI5dsd",
        "pycharm": {}
      },
      "cell_type": "markdown",
      "source": [
        "# Sigmoid Probability Calibration"
      ]
    },
    {
      "metadata": {
        "colab_type": "code",
        "id": "1EfRPBz8A3si",
        "outputId": "4325aa44-f4b2-401b-8071-0b0388a62017",
        "pycharm": {},
        "colab": {
          "base_uri": "https://localhost:8080/",
          "height": 2242
        }
      },
      "cell_type": "code",
      "source": [
        "def calibration_predict(clf):\n",
        "    \"\"\"\n",
        "    Predicts using sigmoid probability calibration with a given classifier.\n",
        "    \"\"\"\n",
        "    cc \u003d CalibratedClassifierCV(clf, method\u003d\u0027sigmoid\u0027, cv\u003d10)\n",
        "    model \u003d cc.fit(X_train, y_train)\n",
        "    prob_test \u003d model.predict_proba(X_test)\n",
        "    bmr \u003d BayesMinimumRiskClassifier(calibration\u003dFalse)\n",
        "    \n",
        "    return bmr.predict(prob_test, cost_mat_test)\n",
        "\n",
        "# Make a full report for all the classifiers.\n",
        "full_cs_report(y_test, \n",
        "               calibration_predict(forest),\n",
        "               calibration_predict(svm),\n",
        "               calibration_predict(bayes),\n",
        "               labels, cost_mat_test)"
      ],
      "execution_count": 24,
      "outputs": [
        {
          "output_type": "stream",
          "text": [
            "Random Forest: \n",
            "\n",
            "              precision    recall  f1-score   support\n",
            "\n",
            "     Absence       0.57      1.00      0.72        43\n",
            "    Presence       1.00      0.13      0.23        38\n",
            "\n",
            "   micro avg       0.59      0.59      0.59        81\n",
            "   macro avg       0.78      0.57      0.48        81\n",
            "weighted avg       0.77      0.59      0.49        81\n",
            "\n"
          ],
          "name": "stdout"
        },
        {
          "output_type": "display_data",
          "data": {
            "image/png": "[encoded data removed]",
            "text/plain": [
              "\u003cFigure size 576x576 with 1 Axes\u003e"
            ]
          },
          "metadata": {
            "tags": []
          }
        },
        {
          "output_type": "stream",
          "text": [
            "\n",
            "---------------------------------------------------------------\n",
            "\n",
            "SVM: \n",
            "\n",
            "              precision    recall  f1-score   support\n",
            "\n",
            "     Absence       0.67      1.00      0.80        43\n",
            "    Presence       1.00      0.45      0.62        38\n",
            "\n",
            "   micro avg       0.74      0.74      0.74        81\n",
            "   macro avg       0.84      0.72      0.71        81\n",
            "weighted avg       0.83      0.74      0.72        81\n",
            "\n"
          ],
          "name": "stdout"
        },
        {
          "output_type": "display_data",
          "data": {
            "image/png": "iVBORw0KGgoAAAANSUhEUgAAAfEAAAH3CAYAAACra2ZgAAAABHNCSVQICAgIfAhkiAAAAAlwSFlz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\nJEmFMsQlSSrU/wOihtlUQK9TygAAAABJRU5ErkJggg\u003d\u003d\n",
            "text/plain": [
              "\u003cFigure size 576x576 with 1 Axes\u003e"
            ]
          },
          "metadata": {
            "tags": []
          }
        },
        {
          "output_type": "stream",
          "text": [
            "\n",
            "---------------------------------------------------------------\n",
            "\n",
            "Bayes: \n",
            "\n",
            "              precision    recall  f1-score   support\n",
            "\n",
            "     Absence       0.58      1.00      0.74        43\n",
            "    Presence       1.00      0.18      0.31        38\n",
            "\n",
            "   micro avg       0.62      0.62      0.62        81\n",
            "   macro avg       0.79      0.59      0.52        81\n",
            "weighted avg       0.78      0.62      0.54        81\n",
            "\n"
          ],
          "name": "stdout"
        },
        {
          "output_type": "display_data",
          "data": {
            "image/png": "iVBORw0KGgoAAAANSUhEUgAAAfEAAAH3CAYAAACra2ZgAAAABHNCSVQICAgIfAhkiAAAAAlwSFlz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\nSVKhDHFJkgpliEuSVChDXJKkQv1/xODE2zzXSRcAAAAASUVORK5CYII\u003d\n",
            "text/plain": [
              "\u003cFigure size 576x576 with 1 Axes\u003e"
            ]
          },
          "metadata": {
            "tags": []
          }
        }
      ]
    },
    {
      "metadata": {
        "colab_type": "text",
        "id": "N6-7_ohbx4f6",
        "pycharm": {}
      },
      "cell_type": "markdown",
      "source": [
        "We noticed that the model chooses the class **\u0027Presence\u0027** more often, in order to avoid making mistakes that cost a lot.  \n",
        "Moreover, the F1 score reduced, but this is not what we should try to improve. The total cost is the most important metric for this task."
      ]
    },
    {
      "metadata": {
        "colab_type": "text",
        "id": "Cx5XslDh5dzS",
        "pycharm": {}
      },
      "cell_type": "markdown",
      "source": [
        "# Rebalancing"
      ]
    },
    {
      "metadata": {
        "colab_type": "code",
        "id": "FFkz9Aw6DBRw",
        "outputId": "405be33c-6d97-4106-8118-712f818fef47",
        "pycharm": {},
        "colab": {
          "base_uri": "https://localhost:8080/",
          "height": 2299
        }
      },
      "cell_type": "code",
      "source": [
        "def roulette_sampling():\n",
        "    # Set numpy seed.\n",
        "    np.random.seed(0)\n",
        "    \n",
        "    # Define some arrays for the examples costs and the resampled X and y.\n",
        "    costs \u003d np.empty(X_train.shape[0], int)\n",
        "    X_resampled \u003d np.empty(X_train.shape)\n",
        "    y_resampled \u003d np.empty(X_train.shape[0], int)\n",
        "\n",
        "    # Set the examples costs.\n",
        "    costs[y_train \u003d\u003d 0] \u003d 5\n",
        "    costs[y_train \u003d\u003d 1] \u003d 1\n",
        "\n",
        "    # Calculate the probability of an example being chosen, \n",
        "    # based on the division of its cost with the total cost.\n",
        "    total_cost \u003d np.sum(costs)\n",
        "    probs \u003d costs/total_cost\n",
        "    # Choose an index with replacement randomly, given the calculated probabilities.\n",
        "    indices \u003d np.random.choice(X_train.shape[0], X_train.shape[0], True, probs)\n",
        "\n",
        "    # Get the X and y corresponding to the randomly chosen indices.\n",
        "    for counter, index in enumerate(indices):\n",
        "        X_resampled[counter, :] \u003d X_train[index, :]\n",
        "        y_resampled[counter] \u003d y_train[index]\n",
        "        \n",
        "    return X_resampled, y_resampled\n",
        "\n",
        "def rebalancing_predict(clf):\n",
        "    \"\"\"\n",
        "    Predicts using random underampling and random oversampling with a given classifier.\n",
        "    \"\"\"\n",
        "    # Resample data. \n",
        "    X_resampled, y_resampled \u003d roulette_sampling()\n",
        "    \n",
        "    # Fit classifier with the undersampled data.\n",
        "    clf.fit(X_resampled, y_resampled)\n",
        "    \n",
        "    # Return predictions.\n",
        "    return clf.predict(X_test)\n",
        "\n",
        "# Make a full report for all the classifiers.\n",
        "full_cs_report(y_test, \n",
        "               rebalancing_predict(forest),\n",
        "               rebalancing_predict(svm),\n",
        "               rebalancing_predict(bayes),\n",
        "               labels, cost_mat_test)"
      ],
      "execution_count": 25,
      "outputs": [
        {
          "output_type": "stream",
          "text": [
            "Random Forest: \n",
            "\n",
            "              precision    recall  f1-score   support\n",
            "\n",
            "     Absence       0.53      1.00      0.69        43\n",
            "    Presence       0.00      0.00      0.00        38\n",
            "\n",
            "   micro avg       0.53      0.53      0.53        81\n",
            "   macro avg       0.27      0.50      0.35        81\n",
            "weighted avg       0.28      0.53      0.37        81\n",
            "\n"
          ],
          "name": "stdout"
        },
        {
          "output_type": "stream",
          "text": [
            "/usr/local/lib/python3.6/dist-packages/sklearn/metrics/classification.py:1143: UndefinedMetricWarning: Precision and F-score are ill-defined and being set to 0.0 in labels with no predicted samples.\n",
            "  \u0027precision\u0027, \u0027predicted\u0027, average, warn_for)\n"
          ],
          "name": "stderr"
        },
        {
          "output_type": "display_data",
          "data": {
            "image/png": "[encoded data removed]",
            "text/plain": [
              "\u003cFigure size 576x576 with 1 Axes\u003e"
            ]
          },
          "metadata": {
            "tags": []
          }
        },
        {
          "output_type": "stream",
          "text": [
            "\n",
            "---------------------------------------------------------------\n",
            "\n",
            "SVM: \n",
            "\n",
            "              precision    recall  f1-score   support\n",
            "\n",
            "     Absence       0.72      0.95      0.82        43\n",
            "    Presence       0.92      0.58      0.71        38\n",
            "\n",
            "   micro avg       0.78      0.78      0.78        81\n",
            "   macro avg       0.82      0.77      0.76        81\n",
            "weighted avg       0.81      0.78      0.77        81\n",
            "\n"
          ],
          "name": "stdout"
        },
        {
          "output_type": "display_data",
          "data": {
            "image/png": "[encoded data removed]",
            "text/plain": [
              "\u003cFigure size 576x576 with 1 Axes\u003e"
            ]
          },
          "metadata": {
            "tags": []
          }
        },
        {
          "output_type": "stream",
          "text": [
            "\n",
            "---------------------------------------------------------------\n",
            "\n",
            "Bayes: \n",
            "\n",
            "              precision    recall  f1-score   support\n",
            "\n",
            "     Absence       0.54      1.00      0.70        43\n",
            "    Presence       1.00      0.03      0.05        38\n",
            "\n",
            "   micro avg       0.54      0.54      0.54        81\n",
            "   macro avg       0.77      0.51      0.38        81\n",
            "weighted avg       0.75      0.54      0.40        81\n",
            "\n"
          ],
          "name": "stdout"
        },
        {
          "output_type": "display_data",
          "data": {
            "image/png": "iVBORw0KGgoAAAANSUhEUgAAAfEAAAH3CAYAAACra2ZgAAAABHNCSVQICAgIfAhkiAAAAAlwSFlz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\u003d\u003d\n",
            "text/plain": [
              "\u003cFigure size 576x576 with 1 Axes\u003e"
            ]
          },
          "metadata": {
            "tags": []
          }
        }
      ]
    },
    {
      "metadata": {
        "colab_type": "text",
        "id": "fv5DkDssiPJV",
        "pycharm": {}
      },
      "cell_type": "markdown",
      "source": [
        "Rebalancing worked better for Random Forest, but not for the other classifiers."
      ]
    },
    {
      "metadata": {
        "colab_type": "text",
        "id": "C2yStc5j5gER",
        "pycharm": {}
      },
      "cell_type": "markdown",
      "source": [
        "# Sample Weighting"
      ]
    },
    {
      "metadata": {
        "colab_type": "code",
        "id": "Wt4X5WjqDX1Y",
        "pycharm": {},
        "colab": {
          "base_uri": "https://localhost:8080/",
          "height": 2242
        },
        "outputId": "3b8cf765-4829-45f3-b64b-facdc519adeb"
      },
      "cell_type": "code",
      "source": [
        "def weighting_predict(clf):\n",
        "    \"\"\"\n",
        "    Predicts using sample weighting with a given classifier.\n",
        "    \"\"\"\n",
        "    # Create the sample weights according to labels.\n",
        "    weights \u003d np.zeros(y_train.shape[0])\n",
        "    weights[y_train \u003d\u003d 0] \u003d 5\n",
        "    weights[y_train \u003d\u003d 1] \u003d 1\n",
        "\n",
        "    # Fit classifier using the weights.\n",
        "    clf.fit(X_train, y_train, weights)\n",
        "    \n",
        "    # Return predictions.\n",
        "    return clf.predict(X_test)\n",
        "\n",
        "# Make a full report for all the classifiers.\n",
        "full_cs_report(y_test, \n",
        "               weighting_predict(forest),\n",
        "               weighting_predict(svm),\n",
        "               weighting_predict(bayes),\n",
        "               labels, cost_mat_test)"
      ],
      "execution_count": 26,
      "outputs": [
        {
          "output_type": "stream",
          "text": [
            "Random Forest: \n",
            "\n",
            "              precision    recall  f1-score   support\n",
            "\n",
            "     Absence       0.63      0.98      0.76        43\n",
            "    Presence       0.93      0.34      0.50        38\n",
            "\n",
            "   micro avg       0.68      0.68      0.68        81\n",
            "   macro avg       0.78      0.66      0.63        81\n",
            "weighted avg       0.77      0.68      0.64        81\n",
            "\n"
          ],
          "name": "stdout"
        },
        {
          "output_type": "display_data",
          "data": {
            "image/png": "iVBORw0KGgoAAAANSUhEUgAAAfEAAAH3CAYAAACra2ZgAAAABHNCSVQICAgIfAhkiAAAAAlwSFlz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\nFcoQlySpUIa4JEmFMsQlSSrU/wdmegGHWbujWQAAAABJRU5ErkJggg\u003d\u003d\n",
            "text/plain": [
              "\u003cFigure size 576x576 with 1 Axes\u003e"
            ]
          },
          "metadata": {
            "tags": []
          }
        },
        {
          "output_type": "stream",
          "text": [
            "\n",
            "---------------------------------------------------------------\n",
            "\n",
            "SVM: \n",
            "\n",
            "              precision    recall  f1-score   support\n",
            "\n",
            "     Absence       0.83      0.79      0.81        43\n",
            "    Presence       0.78      0.82      0.79        38\n",
            "\n",
            "   micro avg       0.80      0.80      0.80        81\n",
            "   macro avg       0.80      0.80      0.80        81\n",
            "weighted avg       0.80      0.80      0.80        81\n",
            "\n"
          ],
          "name": "stdout"
        },
        {
          "output_type": "display_data",
          "data": {
            "image/png": "iVBORw0KGgoAAAANSUhEUgAAAfEAAAH3CAYAAACra2ZgAAAABHNCSVQICAgIfAhkiAAAAAlwSFlz\nAAALEgAACxIB0t1+/AAAADl0RVh0U29mdHdhcmUAbWF0cGxvdGxpYiB2ZXJzaW9uIDMuMC4zLCBo\ndHRwOi8vbWF0cGxvdGxpYi5vcmcvnQurowAAIABJREFUeJzt3Xu8ZXP9x/HXmDHGLTPGYEqYcfm4\ndhHKrSglv+RO6VeRUFJCpSiiJCLlGglFyK2EiC4ql6J+lEv5uOcy7ndm3GbO74+1DrvTuezDOev4\n7nk9H495nL2/a++1Pnuf2ee9v9/1XWuN6urqQpIklWeOkS5AkiS9Moa4JEmFMsQlSSqUIS5JUqEM\ncUmSCmWIS5JUqDEjXYD0WhARY4AXgM0y89xXsZ4dgEMzc/yQFdf7dk4E5svMrev73wM+CfwYuAY4\nKDMXHYbt/g64JjO/NNTrljR4hrhecyLieOBj9d1RwFjgeaD7pAYHZOYBbaxnc+CfmXnTENU1P7An\nsBWwODAd+Afwvcy8YCi20a7M3L6lronAbsCHM/OMuvnHQ7GdiFgFWDgzf11v9z1Dsd5+tjcK2B7Y\nEViR6nd+G/AT4IjMnDUE2/iP1zQcIuIAYC+qL4atPpiZv6kfswOwO7AEMA04OjMP72N9o4B9gY8C\niwDXA1/IzL8MzytQKQxxveZk5o5Uf8SJiFWBvwKRmXcOclXfovpD+qpDPCLmBS4DngQ+AvwdGE/1\nZeOciPh8Zh77arfzCnX3+nMY1r0j8BwwbIHXww+B9wM7A5dQ/Y16D3As8HZgmyHYxqBeU0QsD6wM\n/DwzXxzEdi7NzPX7WOcWwPeAjYE/AesD50XEbX18IfxMXfcHgJuBzwK/iohlM/ORQdSkDmOIq1gR\nsRxwBPA2YDTwW+CzmXl/RNwGTAXOjIhfZ+bGEfEWqj+cbwFmAZcCn8nMB9vY3FeA1wPrZOZTdduj\nwOER8TQvB2nPGt8DHAgsBzwLXAB8LjOn18v3pAqsRYCHgR8B38zMroj4AHAAsDQvh85nMvPJiPgp\nMB/wDeDP9eauqofZ/4+WIf2IeHPL+/QocFRmfqdetiRwJPAOYE7g6nobt9br2g6YFRHbZeb4iLgc\n+Ftm7lY/f3tgj/q9fhD4QWYeXC87AFgF+FX9/o2nCuaPZ+YzfbxXOwBrZmb3a3oeOD8iHgC2jYh5\nM/OZ/n73/b2vwAk9X1Nvv7cengO+CHw3Io4Gjh+C4JwH2DszL63vXxwRfwXWpfo/0tPOVCMR/wCI\niEOBXai+1Bz1KmtRwZzYpiJFxFxUf7hvohraDmAicHL3Q+qfW2fmxvXtc6j2F08ClgEWAw5uc5Nb\nASe0BPhLMvOEzPxuLzXOC5wLnA5MoAqc9YAv1cvfCewHbJyZ81D1sj4FvK9+fWdRBdUCwApUXyK+\n3GPb11ANOwO8PTN37lHDfMBFVO/VQlQ9v69GxFb1Q04EnqF6D99Q3z6+Xvf2wJVUof9fYRcRG1EF\nyO7A64BPAPtExEdaHrYa8EZgWWB1ql72tj3XVdsK+EtLgLe+zqszc5c6wPv93ff3vg70mnqTmbdn\n5upUgbkqcGdEHB8RKw/w1CUi4rcR8VhE3BkRn2pZ5ymZeWT3/YgYTfX/8Z6eK6n/H61A9X+3+/ld\n9f3V2nkN6lyGuEq1EVUwfiUzn8nMB6h6WuvX+4h782Zgr8x8MTMfBS6k/T+CSzHI4eq6t7kYcGRm\nzsrMe4A/tGxzPNU+3yfrx18PvDEzLwbmBsYBT9XPfRBYPzO/OpgagA2B+YGDM/PZzPw7sFnLa/kA\n8InMnFHX+wvaf08+BZyZmb+p39NLgZ8DH255zFhgn3r9/6IaJVi+j/W1+x4P9Lvv7319xTLz8szc\nkmpo/Sngsog4po+H312/lj2ARam+uB0ZEVv38fiDqUYUTuxl2USquSGP9Wh/lOqLmWZjDqerVFOB\nf3cPS9dupfpjNxW4tpfnrAfsWw/Fzkn1R/PfbW6vq378YG0B7BERU+rnj6EKcqiGln8L3BIRfwJ+\nA5wCTMvMxyNiP+C0iNi7XnY61b74wVgKuDczn+9uyMzftyxfBTiwHnIfR/XFvt0v91Op5gm0uhX4\nUMv9uzKzdXLXdKovKH1p5z0e6Hff5/vaxrrbcTfVLox3Akv29oDMPA44rqXprIjYhGq04szuxoiY\nA/g+1SjEezPzyV5W1z2hc1SP9p73NRuyJ65SzdXPsv+6NF89Oekcqp7i5MwcRzXk2q6beXnYui0R\nsT7V0PQhwMR6myd1L697xptQBenvgK2BmyLirfXyb1DNXD6u3vb/RcSOg6mBat9/r5/ziFiQajTi\nOmBqXd8nBrHuvn4Hre//zEGsL2nvPe73dz/Q+9qfiJgaEc+2/NumZdkCEfEFqtny+1BNttuijXq7\n3QZMblnfWKr/j+sBa2TmDX087xGq32PPEaaFgPsHsX11IHviKtVtwJIRMV9mPl23rUT1x+62Xh7/\ntvrndzJzZo+2dpwBfDEiDuo5ES4idgI2ycwP9HjOO4A7M/MnPep4tH7eGKpjvW8AboiIg4DLqWa8\nXxsREzPzPqoQPy4iDqSa4HT8IOq+DXhjRMzTMpluI6pDn56h2pf9nXr3Qnd9g1l3z/3CKwG3DGId\nrc4AdomIDXoOfUfESlRfwtZhgN/9QO9rfwVk5u1UIxKt255IdXjXtlSTIT/RMiGtVxHxdeDPmXlJ\nS/MKVCMG3U6jCua1M/OJfmqaHhE3UO2Pv7he/xz1/X37q0OdzxBXqS4AnqYaCv4ysCBV7+jczHys\nPq72BWCZiFgAuINqCP3tEXE91YlRFgMWjIi5+e/jeXs6lGpf8uV1b/hyqgln21HNIO9tstYdwKIR\nsTRVcH+ZKmgWrScy7QVsFhFbZOYdVEOzk4GbI2Id4II6cLu3tTzViMBgXAA8DuxfB8sUqv2uuwL/\nrOtZOyLOBTan2h8+OiIWrWd6zwCmRMR4qv3ArU4EflzPYr8MeDewCdXQ8KBl5mURcSzV0POuVKEO\n8D7gB1T73x+MiIF+9/vQx/tar+8/XlPLl7q+LE31/+MtgzjMcQLwg4jYmOpLzeZU/3/WB4iI/6Wa\n6LdSb0PoEbEG1ajNavVkyqOBb0TEhVQjFrtTjbCc2fO5mr04nK4i1X/YNqTqCU4D/kLVy9q2Xt4F\nHEM14elXmXkF1b7HC6l6chOpJmA9BdzexvZmAO8CzqbqCT9FFYLrUU04O6uXp51JNTv9Wqoh67uo\njvddhCqYD6Hat/rniJhBta/8Z8APM/My4Gu8PHs8qQ5R27W9d+ilup+ra1yT6lCrC6gOP/tZZt5N\n9cXiCKr3cB2qsLmRavh5EapDstaj+kIyoce6z6D6InIM1aSrQ4HtMvO8wdTYw2eAL1AdPvVQXdde\nwJe7D2sb6HdPP+9rvbzP19SbzLwqM784iACH6pC6c6mODHiSqse8VWb+oV6+I9XRBg/2GL6/sF4+\nL9Ws+9F1DT+k+j1dQPWFcENgw96OltDsZVRX13/tPpQkSQWwJy5JUqEMcUmSCmWIS5JUKENckqRC\nGeKSJBWqxOPEu+ZefCiuRihpMGbcdTrTX+x5llVJw22eMetAH6fZtScuSVKhDHFJkgpliEuSVChD\nXJKkQhnikiQVyhCXJKlQhrgkSYUyxCVJKpQhLklSoQxxSZIKZYhLklQoQ1ySpEIZ4pIkFcoQlySp\nUIa4JEmFMsQlSSqUIS5JUqEMcUmSCmWIS5JUKENckqRCGeKSJBXKEJckqVCGuCRJhTLEJUkqlCEu\nSVKhDHFJkgpliEuSVChDXJKkQhnikiQVyhCXJKlQhrgkSYUyxCVJKpQhLklSoQxxSZIKZYhLklQo\nQ1ySpEIZ4pIkFcoQlySpUIa4JEmFMsQlSSqUIS5JUqEMcUmSCmWIS5JUKENckqRCGeKSJBXKEJck\nqVCGuCRJhTLEJUkqlCEuSVKhDHFJkgpliEuSVChDXJKkQhnikiQVyhCXJKlQhrgkSYUyxCVJKpQh\nLklSoQxxSZIKZYhLklQoQ1ySpEIZ4pIkFcoQlySpUIa4JEmFMsQlSSqUIS5JUqEMcUmSCmWIS5JU\nKENckqRCGeKSJBXKEJckqVCGuCRJhTLEJUkqlCEuSVKhDHFJkgpliEuSVChDXJKkQhnikiQVyhCX\nJKlQhrgkSYUyxCVJKpQhLklSoQxxSZIKZYhLklQoQ1ySpEIZ4pIkFcoQlySpUIa4JEmFMsQlSSqU\nIS5JUqEMcUmSCmWIS5JUKENckqRCGeKSJBXKEJckqVCGuCRJhTLEJUkqlCEuSVKhDHFJkgpliEuS\nVChDXJKkQhnikiQVyhCXJKlQhrgkSYUaM9IFqHPNPW4sxx+2MwsvtADj5pqTbx/xcy763bUArP/O\nN3H+T/di7sW3GeEqpc42a9YsvrX/T7n11nuZc87RfHXfjzFl6uSRLktDxBDXsPnAe1fhmutu57Bj\nz2fxNyzEBafuzUW/u5a55pqTL+2yCfc98NhIlyh1vD/8/u88/fR0fnLqXtx914McctDPOOKYXUe6\nLA2RxofTI2JURCzU9HbVvLPP/wuHHXs+AIu9fiL33vcoAHvusgnHnXwJzz//4kiWJ80W7vr3A6y4\n8hQA3rj4wtw37RFmzpw1wlVpqDQW4hGxYEScBTwL3FC3fT8i3tFUDRoZl/58f358xGf50v4ns/SU\nRVl5hSX4+a+uGumypNnC0ssuxp+vuJGZM2dx5x33c889D/H4Y0+NdFkaIk0Op58GXArsBFzZ0nYE\nYJB3sPU2/zpvWmEJTjx8F+6Z9ghf2O/HI12SNNtYe52V+cc1t/LJjx/MMrEYU6ZOpqtrpKvSUGky\nxJfOzPcDREQXQGZeHRHzN1iDGvTWlafw0MNPcM99j3LdP//N/POOY/ll3sCPD/8sAIsuPJ5LztyX\n9239jRGuVOpsu3x+s5duf/D9e7HgRP/sdoom94lPj4jlWxsiYgrwQoM1qEFrr74cn99pIwAWXmgB\nRo+egxXW2Y13bbov79p0X+5/8HEDXBpmedPd7Pe1kwC44rIbWG75xZljDo8u7hRN9sT3Af4SEZcC\nkyPiTGAdYMcGa1CDjv/pbzn2kE/x27O/zrhxY9ltn5PochxPatQyy76BWbO6+OiHDmDsXHNy4MH+\nye0ko5r8o1r3vN8PjAemARdn5v2DXE2XxxZLzZtx1+lMf/GykS5Dmu3MM2YdgFG9LWtydvqcwObA\ncZn5beAiYLuIGNtUDZIkdZImd4ycAKzBy0P4M4CV63ZJkjRITe4TXz0zl+u+k5lPRcRHgZsarEGS\npI7RZE98VEQs0qPtjXjqV0mSXpEmA/RbwHURcQXwODAJWJPq5C+SJGmQGuuJZ+bJwOpUE9puAc4D\n3pSZ5zRVgyRJnaTpI/5fAK4D/gjcCCwREWs2XIMkSR2hseH0iDgU+BxwP9B6CZ0uYGpTdUiS1Cma\n3Ce+DbBkZt7X4DYlSepYTQ6n32OAS5I0dJrsiZ8QEadQXX70idYFmXll70+RJEl9aTLE96p/rt2j\n3X3ikiS9Ao2FeGZOaWpbkiTNDho9W1pE/A/VRVDmycyPRMT7gMszc3qTdUiS1AmavIrZXsA3geuB\nt9fNqwHHNVWDJEmdpMnZ6TsCa2fm4cDzdduBwKoN1iBJUsdoMsRfqP9BNZkN+rjIuSRJGliTIX4x\ncGFEbArMXe8fP6dulyRJg9RkiH8RuIzqULPngS9RnUP9Sw3WIElSx2jyKmbPAwdl5tszM6guQXp+\nZr4wwFMlSVIvmpydvgtwRn3708CfgYsjYvemapAkqZM0OZy+K7BDfXtvYANg5ZY2SZI0CE2e7OX5\nzHw0It4KPJeZ/wcQEQ2WIElS52gyxJ+KiI8BWwBnAkTECrx82JkkSRqEpk/28kHgHuBbddtBODtd\nkqRXZFRXV9fAjxpCETEWmAA8+gpnpnfNvfg2Q1yVpIHMuOt0pr942UiXIc125hmzDvRxcrQmZ6e/\nIyKuAWYA9wHPRsRfImKVpmqQJKmTNDmcfiJwDDAhM+cAJgInACc3WIMkSR2jyYltozPzR913MvNx\n4PiI2KPBGiRJ6hhN9sTPi4itWhsiYhPglw3WIElSxxj2nnhE3EJ11bJRwG4RcQLwCNXktnmBfwFf\nGe46JEnqNE0Mp/d1RrZJwGTg4w3UIElSxxn2EM/MP3bfjogxVMeKbwusTnUZ0gOGuwZJkjpRIxPb\nIuLtVMG9IdXlR99NNUt9ZhPblySpEw37xLaIuJbqgid/BFbIzO2AmQa4JEmvThOz06dT9fjHtWyv\n2dPESZLUgYY9xDNzLWBPYEXg7xFxGjAmIkYP97YlSepkjRwnnpk3ZuaeQACnABcB90bEaRGxdRM1\nSJLUaZo8YxuZOYsqwC+KiPHANsBu1JcmlSRJ7Ws0xFvVp139Qf1PkiQNUpOnXZUkSUPIEJckqVCG\nuCRJhTLEJUkqlCEuSVKhDHFJkgpliEuSVChDXJKkQhnikiQVyhCXJKlQhrgkSYUyxCVJKtSrCvGI\nmCMiJg1VMZIkqX1thXhEPNnHovmBm4auHEmS1K5+L0UaERsC/wPMHRFH9PKQKTgkL0nSiBjoeuLT\ngC6qoF65l+UzgB2HuihJkjSwfkM8M/8B7BoR4zJzp4ZqkiRJbRioJ97tgIhYvK+FmXnXENUjSZLa\n1G6I30k1rN6X0a++FEmSNBjthvhqPe6PBpam2h9+4JBWJEmS2tJWiGfm//XSfHVEXAmcDvxmSKuS\nJEkDerWHh02j91nrkiRpmLXVE4+IzXtpngfYFHBSmyRJI6DdfeJn99L2LJDAzkNXjiRJale7+8Q9\nK5skSa8x7fbEqY8T3xh4A9XhZncBv8zM+4apNkmS1I92L4DyIeB24KvAesB7gP2Bf/exv1ySJA2z\ndnvihwKfy8wftDZGxGeAw4GfD3VhkiSpf+3u654AHN9L+/H1MkmS1LB2Q/w3wFq9tK8G/HboypEk\nSe1qdzj9z8BpEXEJ1WFlo4GlgA2AEyNij+4HZuZhQ16lJEn6L+2G+M7A88C69b9uzwMfbbnfBRji\nkiQ1oN3jxKcMdyGSJGlw2j3E7Po+2sdHxL1DW5IkSWpHvz3xiHgH1YS2ZSNid2BUj4csBYwfptok\nSVI/BhpOnwt4FzAnsGsvy2cAew91UZIkaWD9hnhm/hH4Y0RcnJkbNFSTJElqQ1v7xA1wSZJee9q9\nnvgsqsPHepWZo4esIkmS1JZ2jxPfmv8M8dHA0sCHgAOGuihJkjSwdo8TP7u39oi4ADgEOGsoi5Ik\nSQNr99zpfbkRWHMoCpEkSYPT7j7xVXppngfYAnh4SCuSJEltaXef+N+o9on3PNnLY8CnhrQiSZLU\nlnZDvLdzp88AHsrMPmetS5Kk4dPuxLZ/A0TEqlSnWu0Cbs7MB4exNkmS1I9294kvB5xHdVjZ81TD\n6nNGxLXAhoa5JEnNa3d2+veBq4AlMnNcZs4FLAfcWS+TJEkNazfE1wR2zsy7uxsy82ZgB2DdYahL\nkiQNoN0Qn051lraeZtL+5DhJkjSE2g3xPwInRsRLs9QjYhngJODPw1GYJEnqX7u96M8DvwBujYiX\nJrYB1wMbD1NtkiSpH+0eYnY/sEZEvAmYCswF3JaZfxvO4iRJUt8GtT87M68DrhumWiRJ0iC82gug\nSJKkEWKIS5JUKENckqRC9blPPCIWbHclmfno0JQjSZLa1d/EtoepLnTSjt5OBCNJkoZRfyG+Xsvt\n5YBdgBOAG6mG4d8EbAscOGzVSZKkPvUZ4pn5x+7bEXEQsFVmZstDLomIXwM/Ak4fvhIlSVJv2p3Y\nthJwRy/tt9bLJElSw9oN8ZuA70XE5O6GiFgU+A5wy3AUJkmS+tfuGds+BZwNfLo+d/oc9XMfAT44\nTLVJkqR+jOrqam8CekSMAlYDFqM6d/q9wFWZ+dzwlderdmfMS5LUKUb11tj2udMzsysiXqxvnw4Q\nEWOHprbBunlkNivN1pZl6iqHjXQR0mzn9mv26HNZW/vEI2KpiPgHcDVwWt22BHBHRKw4FEVKkqTB\naXdi25HAX4CJ1MPZmflv4Djge8NTmiRJ6k+7Ib42sEdmPsF/7pM+GFh1yKuSJEkDajfEn6H3neoL\n4ilXJUkaEe2G+GXAkRExqbshIt4MnApcMhyFSZKk/rUb4rsCKwL3A+Mi4gXgmnrZ54ejMEmS1L+2\nDjHLzPuB1SNiFWAZYAZwS2b+aziLkyRJfWsrxCPigszcKDOv4eUeOBHxOuDXmbnmcBUoSZJ612+I\nR8RywArA+hGxGf89uW0Z4C3DVJskSerHQD3xAPYDxgLn9LL8WeCYIa5JkiS1od8Qz8xfAr+MiJsy\nc7mGapIkSW1oa3Z6Zi4XEYv3uBTpChExZfhKkyRJ/Wn33OkfoLqm+FotzWsDN0TEhsNRmCRJ6l+7\nx4kfCOyQmWd3N2TmD4GP1sskSVLD2g3xqcDPemk/n2qGuiRJali7IX4nsEEv7ZsD9w5ZNZIkqW1t\nnewF2B84JyKuAO6gCv8AVgc2G6baJElSP9qdnX421US2G4HJwCTgr8DbMvPC4StPkiT1pd2eOD1P\nuSpJkkZWnyEeEWdn5pb17fP6W0lmbjzUhUmSpP711xN/tOX2I8NdiCRJGpw+Qzwzd2q5/YlmypEk\nSe3qbzh9j3ZXkpmHDU05kiSpXf0Np3+ux/1FqK5mdj/VrPZFgBnAbYAhLklSw/obTn/p4iYRsROw\nCrBXZj5Wty1MdcrVq4e7SEmS9N/aPWPb14A9ugMcIDMfBHYH9hmOwiRJUv/aDfF5qU7w0tOCwHxD\nV44kSWpXuyd7OR/4fUScQLUPfDSwOPBJwDO2SZI0AtoN8U8De1NdenQxYC6qC5/8CthreEqTJEn9\naSvEM/NZYN/6nyRJeg1o+9zpEbEKsB3wxszcLCLmADbKzH5PySpJkoZHWxPbIuKjwBXA64EN6+Y3\nAD+KiB2HqTZJktSPdmenfxXYrL4gShdAZt4NbAK0fWY3SZI0dNoN8cWBi+vbXS3tV9fLJElSw9oN\n8buB5XtpXw94eOjKkSRJ7Wp3YttJwEURcSQwR0R8HHgrsD3VqVclSVLD2j3E7OCIeBrYiWo4/fvA\nLcDnMvPkYaxPkiT1oa0Qj4hFM/No4OhhrkeSJLWp3X3it9THhUuSpNeIdoP5VOALEdH2yWEkSdLw\najeUA9gS2CcipgHPty7MzDcNdWGSJKl/7Yb4H+p/kiTpNaLd2en7D3chkiRpcAYM8YjYAtgKeBH4\naWb+etirkiRJA+p3YltEbAv8lOrY8LHALyJiyyYKkyRJ/RuoJ/554MOZ+UuAiNgM+Apw9nAXJkmS\n+jfQIWZLA79quX8h1Ux1SZI0wgYK8TGZ+WL3ncx8jmpYXZIkjTDPwiZJUqEG2ic+JiJ2B0a1tI3u\n2ZaZhw1HcZIkqW8Dhfg0YNcB2roAQ1ySpIb1G+KZuWRDdUiSpEFyn7gkSYUyxCVJKpQhLklSoQxx\nSZIKZYhLklQoQ1ySpEIZ4pIkFcoQlySpUIa4JEmFMsQlSSqUIS5JUqEMcUmSCmWIS5JUKENckqRC\nGeKSJBXKEJckqVCGuCRJhTLEJUkqlCEuSVKhDHFJkgpliEuSVChDXJKkQhnikiQVyhCXJKlQhrgk\nSYUyxCVJKpQhLklSoQxxSZIKZYhLklQoQ1ySpEIZ4pIkFcoQlySpUIa4JEmFMsQlSSqUIS5JUqEM\ncUmSCmWIS5JUKENckqRCGeKSJBXKEJckqVCGuCRJhTLEJUkqlCEuSVKhDHFJkgpliEuSVChDXJKk\nQhnikiQVyhCXJKlQhrgkSYUyxCVJKtSYkS5As4ezzrqE88679KX7N9xwK9dee9YIViR1rnHjxnDI\nfhuw0MR5mWvsaI760V/4/WV3sO2H38reu7+Tt657DNNnvDDSZWoIGOJqxFZbvY+ttnofAFdffT0X\nXXT5CFckda73vHMq1//rAX74k7/x+snzc8oxW7LA68ax0MR5ePDhZ0a6PA0hQ1yNO/ron3HooV8c\n6TKkjvWrS25+6fbrF5mf+x58iksuvZVnpr/AJhsuN4KVaaiNSIhHxGLApMy8diS2r5Fz3XU3M3ny\nQkyaNGGkS5E63lknfZjJC8/HDrudyzPTHT7vRI1ObIuIKRHxV+B64Fd128kRsVGTdWjknH32JWy2\n2fojXYY0W9jqEz9jx91/yWEHbDjSpWiYND07/VTg0MycADxRt+0HfLPhOjRCrrrqBt76VofzpOG0\n0vILM3mR+QD4180PMXr0HEycMPcIV6Xh0HSIT8rMM+rbXQCZeTswtuE6NAIeeOAR5p13HGPHzjnS\npUgdbfVVFmOHj60KwEILzsO8c8/Jo4/PGOGqNByaDvHHIuLdrQ0RsTrwdMN1aAQ89NBjLLjgAiNd\nhtTxTj37OiZOmIczTtiaE47YlH0P/j07b786p/1wKyZNnJeTjtqML39+nZEuU0NgVFdXV2Mbi4i1\ngPOAu4GlgX8Ck4EtM/OqNlfTBTcP/ChJQ2xZpq5y2EgXIc12br9mD4BRvS1rdHZ6Zl4REUsA6wDj\ngWnAVZn5bJN1SJLUCZqenT4B+Dbwm8w8HbgV+H5ELNhkHZIkdYKm94n/BGg9WPFR4LG6XZIkDULT\nJ3tZNjM37r6TmTOAvSLipobrkCSpeE33xF+MiOVbGyLibQ3XIElSR2i6J/5F4LKIuAt4HJgELAJs\n0XAdkiQVr+nZ6b+OiMWBtYCFgIeBy+thdUmSNAhND6cDvBlYkOqYt0nAZhHxkRGoQ5KkojXaE4+I\n04B3U52tZWbLoi7gtCZrkSSpdE3vE38nMDUzpze8XUmSOk7Tw+l3AC82vE1JkjpS0z3xnwMXRcTZ\nvHwpUgAy0+F0SZIGoekQ7z7Ry9Y92t0nLknSIDV9iNl6TW5PkqRO1vTs9FHAzsDmwLjMXDsiPgZc\nnJkPNlmLJEmla3pi22HA+4EjgYXrtrmBExquQ5Kk4jUd4psCm2bmL6mPE8/MHwJLNVyHJEnFazrE\nnwPmqW93AUTE3FRnb5MkSYPQdIifBlwZEbsBr4uIzwC/B05puA5JkorXaIhn5jeAQ4A1gBuB1YCD\nM/PAJuuQJKkTNH2cOMAlmXkZFZg/AAALfUlEQVQKQESsD8wagRokSSpeoz3xiPgm1Qx1IuLrwLHA\n/hHxnSbrkCSpEzTdE/8wsHJEzAHsAqxJdT71G4A9G65FkqSiNT47PTOfpdonfl9m3pqZM6lnqkuS\npPY13RO/PyL2ATYAToWX9os/1XAdkiQVr+me+MeB+YFzgUPrti2BTzVchyRJxWv6AijTgD0jYjHg\nzcC1mfnpJmuQJKlTNH0BlCnAmcDSwAzg9RFxMnBmZl7QZC2SJJWu6eH0U4FDM3MC8ETdth/wzYbr\nkCSpeE2H+KTMPKO+3QWQmbcDYxuuQ5Kk4jUd4o9FxLtbGyJideDphuuQJKl4TR9itjtwXkTcDSwe\nEVcDk6lmqEuSpEFoenb6FRGxBLAOMB6YBlxVnwBGkiQNQtOz0y/NzPWAi5rcriRJnajpfeLXRsRH\nI2K+hrcrSVLHaXqf+IeoLnzyk4iYWbeNAroy0xnqkiQNQtMhvmbD25MkqWM1FuIRMRFYGXgOuCIz\npze1bUmSOlEj+8TrY8NvBvYBDgZuiYg3NbFtSZI6VVM98W8DH8zMKwEiYkPgO8D7G9q+JEkdp6nZ\n6eO7AxwgMy8Clmxo25IkdaSmQnxmL22zGtq2JEkdqanh9DERMZnqcLJe2+prjUuSpDY1FeJLA/fw\nnyEOcG/9swsY3VAtkiR1hEZCPDObPjOcJEkdz3CVJKlQhrgkSYUyxCVJKpQhLklSoQxxSZIKZYhL\nklQoQ1ySpEIZ4pIkFcoQlySpUIa4JEmFMsQlSSqUIS5JUqEMcUmSCmWIS5JUKENckqRCGeKSJBXK\nEJckqVCGuCRJhTLEJUkqlCEuSVKhDHFJkgpliEuSVChDXJKkQhnikiQVyhCXJKlQhrgkSYUyxCVJ\nKpQhLklSoQxxSZIKZYhLklQoQ1ySpEIZ4pIkFcoQlySpUIa4JEmFMsQlSSqUIS5JUqEMcUmSCmWI\nS5JUKENckqRCGeKSJBXKEJckqVCGuCRJhTLEJUkqlCEuSVKhDHFJkgpliEuSVChDXJKkQhnikiQV\nyhCXJKlQhrgkSYUyxCVJKpQhLklSoQxxSZIKZYhLklQoQ1ySpEIZ4pIkFcoQlySpUIa4JEmFMsQl\nSSrUqK6urpGuYbCKK1iSpFdpVG+NY5quYgj0+kIkSZrdOJwuSVKhDHFJkgpliEuSVChDXJKkQhni\nkiQVyhCXJKlQJR5ipgZFxBXAfJn55vr+usCPMnPpES1M6jAR0QXcBrxI1cF6AvhKZv5uRAvTa5o9\ncfUpIlai+kNyV0SsMdL1SLOBdTNzucxcFtgNOCsiJo10UXrtsieu/mwLnAU8C3wc+HP3gog4FNgY\nmAVsn5lX1qF/PPA6YCxweGYeFRFzAYcA76/bf5iZB9bruRP4NvBJ4I3AaZn5hXrZx4Gv1Zu8Ctgh\nM5+LiE2AA4B5gVuBj2Tmw8P1JkgjITOviIhbgTUi4jrgSuAMYJXMfFdErAV8H5gAPEz1Obg9It4A\nnAxMBuYCfpaZX42IUcA+wP8C44BzgT0yc2ZE/AE4D9gcmAL8qV5fV0S8H/guMCdwM/DxzHy0r+03\n8NaohT1x9SoiRlN9oM8Bfgn8T0SMrRcvCfyt7i18Fzi6bv86cGxmrgisAaxfB/iewArAysCKwJYR\nsVHL5t5ZP/5twOciYrGIWBI4FFgXCKrA3jUipgKnANtk5lTgUuDYIX8DpNeGOYHn6tsLAX+vA3x+\n4Hxg73rX1uHAmfXjdgP+lJndn7mpETEZ+CiwNbA6sFT9b+eWbX0QeC+wLPBuYM2ImBc4FfhQ/Xm/\nFfjmANtXgwxx9WUD4K+Z+WRmTgf+QPUhh6pn3v2BPRN4S0SMAx4EtoiIVYBHMnPTzHyuft4xmflc\nZj5D1UvYvGVbp2XmzMycBjxA1SN/H3BlZk7LzC7gI8D3qHrzf8jMG+rnHgtsXH/pkDpGRGwILApc\nUTfNCfyivr0OcE9m/gYgM08Hlo6Ixak+hxtExNrAc5m5TWbeR/U5PDEzn8jMF4Ef8Z+fw7Mzc0b9\nGb0ZWBxYC7i75fO2J7D7ANtXgxxOV1+2o+p9P17fH0M1bHYYVUDPqtufrH9OAL4M7E0V7OMi4sDM\nPAYYD3wvIg6sHzsXcHXLtp5ouT0TGE3V6+jeNpn5LEBEjAfeGRE39Xj+RKo/XlLJ/hAR3RPb7gQ2\nzMynI2IhYGZmdn/exgNL9fgcPAdMovqyOxo4Bnh9RBwN7Fc/54sRsVP9+DHAQy3Pb+dz+Dy89Dns\na/t3vbKXrlfCENd/iYgJVMPYC7Z8aMcA91B9SCe0PHx8/fPRute9N7B3RKwG/DoifgtMAw7NzAsG\nUcbDwJotNb0OmLte128zc8tX8tqk17h1M/OeNh43DfhXZq7ax/KDgIMiYlngIuDy+jnnZeZRg6jn\nYaogByAi5gEWbGP7aojD6erNh4Hfdwc4QD38djHVZJl5ImKzetGWVMPuz0XE+RGxYt1+A9U3+y6q\nfeo7RMToiBgVEV+rJ8v050JgrYhYsp6QcyzV5LeLgXXqfeNExOoRcfiQvGqpHFcBkyPi7QARMTUi\nTqk/X8dFxHvrx90G3M/Ln8OP1UFMRHwqIrYdYDuXA4vWX8qhmhi3b3/bH8oXqYEZ4urNtlQzV3v6\nBdUs9ZuoZszeRLV/bJd6+ZHAaRHxL+Aaqv3gt1BNfPs3cGP93OWp/jj0qe6N7AT8nmr/XBdwWL1v\nb0fgF/V2jqKasSvNNjJzBtUX6CPrz8EvgLPq+SPHAt+qP5//pDqq5HdUn+nzgWvqZRtTfSnubzvT\ngS2An0bEzcCbqCaz9bd9NWhUV5fvuSRJJbInLklSoQxxSZIKZYhLklQoQ1ySpEIZ4pIkFcoQlySp\nUIa4JEmF8rSr0mtQRBwPfKy+O4rqEq7PU530BuCAzDxgJGobrIjYDrikvsDNUKxvU+DmzPznUKxP\nKpkne5Fe4yJiVeCvwJTMvHOEyxmU+upyDwPvzcy/DdE6rwf2z8yzh2J9UsnsiUuFqq+5fgfwaeAb\nVFevuh84KjPna3ncUcBKmblufX8NqgtkvBl4Efg5sHt9CcretrM61XXjV6a6utV5wOcz88m6l93f\n9qZTjSJcEREnAgfXNW8N7EV1Ct5bgP/NzOsjYl2qa8RPysyH6/V9EfhsZi4ZEUl1vevTImL7zPyf\nV/wGSh3AfeJS+TYBVqAKyH5FxGTg18BZVFekW4UqzA/q4/ELUZ13+0Kqa1uvWj/n+23WFvXPtTJz\n55b2LwBb1TX8HTi3nYtnZGb3+j5igEuGuNQJTs3MR9q8+MQ2wL2ZeVRmvpCZdwEHUF0/vjf/CzwG\nHJyZz2bmHVS98q0i4tX8/TguM2/LzKepvkBMperpSxoEh9Ol8t0xiMcuC0REPNujfUxETMrMh3q0\nTwVuysxZLW23AvMBiwy+1Jdky+3u+t8AzHgV65RmO4a4VL7nB1g+uuX2DODyzHxXm+ueq59lffX8\nR/fR3tdjuofRX836pNmSw+lSZ5kBjOuxf3mpltu3ACtGxJzdDRGxQERM6GN9twEr9Bg6Xwl4Eniw\nje31pfUxU+qfd/NyT3yeQa5Pmi0Z4lJnSaqe65YRMToitgTe0rL8tHr5QRExf0RMAk4GTupjfT8D\nFgS+HBFjI2IZqklpP66H2AfaXncoLxsRr2tp3ykiFo+I+YAvA5mZN1J9aXiRap/76Ih4F/C+HjU9\nCywTEQu0/7ZInckQlzpIZv4d+A5wLPAI8G7guJbljwMbAWtQ9aRvAB4Htu9jfXcDHwQ2pjre+2Lg\nHOBLbW7vAaqZ8CcBx7es+gTg3HqdbwE2rx//MNWXhC8BTwC7AIf0KOsY4Ot1LdJszZO9SGpMy7Ht\nqw3VyV+k2Zk9cUmSCmWIS5JUKIfTJUkqlD1xSZIKZYhLklQoQ1ySpEIZ4pIkFcoQlySpUIa4JEmF\n+n9Hw9cFCbASAQAAAABJRU5ErkJggg\u003d\u003d\n",
            "text/plain": [
              "\u003cFigure size 576x576 with 1 Axes\u003e"
            ]
          },
          "metadata": {
            "tags": []
          }
        },
        {
          "output_type": "stream",
          "text": [
            "\n",
            "---------------------------------------------------------------\n",
            "\n",
            "Bayes: \n",
            "\n",
            "              precision    recall  f1-score   support\n",
            "\n",
            "     Absence       0.54      1.00      0.70        43\n",
            "    Presence       1.00      0.05      0.10        38\n",
            "\n",
            "   micro avg       0.56      0.56      0.56        81\n",
            "   macro avg       0.77      0.53      0.40        81\n",
            "weighted avg       0.76      0.56      0.42        81\n",
            "\n"
          ],
          "name": "stdout"
        },
        {
          "output_type": "display_data",
          "data": {
            "image/png": "[encoded data removed]",
            "text/plain": [
              "\u003cFigure size 576x576 with 1 Axes\u003e"
            ]
          },
          "metadata": {
            "tags": []
          }
        }
      ]
    },
    {
      "metadata": {
        "colab_type": "text",
        "id": "AzWJAs-qiifc",
        "pycharm": {}
      },
      "cell_type": "markdown",
      "source": "Example weighting works well for Random Forest, but produces bad results for the others."
    },
    {
      "cell_type": "markdown",
      "source": "# Results\n![Results](./images/PartB_Results.png)",
      "metadata": {
        "pycharm": {
          "metadata": false
        }
      }
    },
    {
      "metadata": {
        "colab_type": "text",
        "id": "qtLesnfB5aDp",
        "pycharm": {}
      },
      "cell_type": "markdown",
      "source": "# Conclusion\n\nThe Example Weighting method is not stable for this task because it creates big differences among the models prediction costs, thus introducing variance.  \nThe most important metric is the total cost, since when using the F1, precision and Recall, the importance of some types of misclassifications is not taken into consideration."
    }
  ]
}