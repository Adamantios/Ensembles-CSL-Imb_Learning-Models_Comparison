{
 "cells": [
  {
   "cell_type": "markdown",
   "metadata": {
    "colab_type": "text",
    "id": "RgKlxpR-BeDx",
    "pycharm": {}
   },
   "source": [
    "#### Adamantios Zaras AM: 06\n",
    "#### Panagiotis Souranis AM: 17"
   ]
  },
  {
   "cell_type": "markdown",
   "metadata": {
    "colab_type": "text",
    "id": "UvMOu3Fd4z9P",
    "pycharm": {}
   },
   "source": [
    "# Description\n",
    "\n",
    "In this part of the project, we used 3 different cost-sensitive learning techniques in the Data Mining Cup Dataset, combined with 3 different learning algoriths and compared them with simple usage of the classifiers, thus not taking into consideration the classification cost.  \n",
    "\n",
    "The techniques we used are:\n",
    "- Sigmoid Probability Calibration\n",
    "- Undersampling of the less important class, followed by oversampling of the important one.\n",
    "- Example weighting.  \n",
    "\n",
    "The algorithms we combined with the above techniques are:\n",
    "- Random Forest\n",
    "- Linear SVM\n",
    "- Naive Bayes"
   ]
  },
  {
   "cell_type": "markdown",
   "metadata": {
    "colab_type": "text",
    "id": "dJmPyewf44XC",
    "pycharm": {}
   },
   "source": [
    "# Global"
   ]
  },
  {
   "cell_type": "markdown",
   "metadata": {
    "colab_type": "text",
    "id": "XzaViu3TRhGE",
    "pycharm": {}
   },
   "source": [
    "### Package Installation"
   ]
  },
  {
   "cell_type": "code",
   "execution_count": 0,
   "metadata": {
    "colab": {},
    "colab_type": "code",
    "id": "f7FdM3G0Rj1k",
    "pycharm": {}
   },
   "outputs": [],
   "source": [
    "!pip install git+git://github.com/albahnsen/CostSensitiveClassification.git"
   ]
  },
  {
   "cell_type": "markdown",
   "metadata": {
    "colab_type": "text",
    "id": "CjV8FVDP5nAS",
    "pycharm": {}
   },
   "source": [
    "### Imports"
   ]
  },
  {
   "cell_type": "code",
   "execution_count": 0,
   "metadata": {
    "colab": {},
    "colab_type": "code",
    "id": "Ubj0XegWl_QS",
    "pycharm": {}
   },
   "outputs": [],
   "source": [
    "import io\n",
    "import time\n",
    "\n",
    "import requests\n",
    "import numpy as np\n",
    "import scipy\n",
    "from pandas import read_csv\n",
    "from sklearn.preprocessing import MinMaxScaler\n",
    "from sklearn.calibration import CalibratedClassifierCV\n",
    "from sklearn.model_selection import train_test_split\n",
    "from sklearn.model_selection import GridSearchCV\n",
    "from sklearn.model_selection import RandomizedSearchCV\n",
    "from sklearn.ensemble import RandomForestClassifier\n",
    "from sklearn.naive_bayes import MultinomialNB\n",
    "from sklearn.svm import LinearSVC\n",
    "from costcla.models import BayesMinimumRiskClassifier\n",
    "from imblearn.under_sampling import RandomUnderSampler\n",
    "from imblearn.over_sampling import RandomOverSampler\n",
    "\n",
    "# Import utils functions for cost sensitive learning.\n",
    "from utils import report, full_cs_report\n",
    "\n",
    "%matplotlib inline"
   ]
  },
  {
   "cell_type": "markdown",
   "metadata": {
    "colab_type": "text",
    "id": "ufwbjh1x58Pr",
    "pycharm": {}
   },
   "source": [
    "### Prepare Dataset"
   ]
  },
  {
   "cell_type": "code",
   "execution_count": 0,
   "metadata": {
    "colab": {},
    "colab_type": "code",
    "id": "ktwINyCB5_vQ",
    "pycharm": {}
   },
   "outputs": [],
   "source": [
    "# Read the dataset.\n",
    "url=\"http://archive.ics.uci.edu/ml/machine-learning-databases/statlog/heart/heart.dat\"\n",
    "s=requests.get(url).content\n",
    "dataset=read_csv(io.StringIO(s.decode('utf-8')), sep=' ')\n",
    "\n",
    "# Get x and y.\n",
    "X, y = dataset.iloc[:, :-1].values, dataset.iloc[:, -1].values\n",
    "\n",
    "# Convert labels from 1, 2 to 0, 1.\n",
    "y[y == 1] = 0\n",
    "y[y == 2] = 1\n",
    "\n",
    "# Create class names.\n",
    "labels = ['Absence', 'Presence']\n",
    "\n",
    "# Split to training and test pairs.\n",
    "X_train, X_test, y_train, y_test = train_test_split(X, y, test_size=0.3, \n",
    "                                                    random_state=0)\n",
    "\n",
    "# Scale data.\n",
    "scaler = MinMaxScaler()\n",
    "X_train = scaler.fit_transform(X_train.astype(float))\n",
    "X_test = scaler.fit_transform(X_test.astype(float))\n",
    "\n",
    "# Define the cost matrix.\n",
    "# _________  absence  presence\n",
    "# absence    0        1\n",
    "# presence   5        0 \n",
    "fp = np.full((y_test.shape[0], 1), 5)\n",
    "fn = np.full((y_test.shape[0], 1), 1)\n",
    "tp = np.zeros((y_test.shape[0], 1))\n",
    "tn = np.zeros((y_test.shape[0], 1))\n",
    "cost_matrix = np.hstack((fp, fn, tp, tn))"
   ]
  },
  {
   "cell_type": "markdown",
   "metadata": {
    "colab_type": "text",
    "id": "yoXqPUCQAtMI",
    "pycharm": {}
   },
   "source": [
    "### Define classifiers"
   ]
  },
  {
   "cell_type": "code",
   "execution_count": 0,
   "metadata": {
    "colab": {},
    "colab_type": "code",
    "id": "K8gZLeiLAwpR",
    "pycharm": {}
   },
   "outputs": [],
   "source": [
    "# Random Forest\n",
    "forest = RandomForestClassifier(random_state=0, n_jobs=-1)\n",
    "\n",
    "# Linear SVM\n",
    "svm = LinearSVC(random_state=0)\n",
    "\n",
    "# Naive Bayes\n",
    "bayes = MultinomialNB()"
   ]
  },
  {
   "cell_type": "markdown",
   "metadata": {
    "colab_type": "text",
    "id": "tS-rdualbcym",
    "pycharm": {}
   },
   "source": [
    "# Hyperparameters Tuning"
   ]
  },
  {
   "cell_type": "markdown",
   "metadata": {
    "colab_type": "text",
    "id": "BKmEOU7vaDGj",
    "pycharm": {}
   },
   "source": [
    "### Random Forest Tuning"
   ]
  },
  {
   "cell_type": "markdown",
   "metadata": {
    "colab_type": "text",
    "id": "HmQTL7z0j93-",
    "pycharm": {}
   },
   "source": [
    "#### Random Search\n",
    "Run a Random Search using 10 fold cross validation."
   ]
  },
  {
   "cell_type": "code",
   "execution_count": 0,
   "metadata": {
    "colab": {
     "base_uri": "https://localhost:8080/"
    },
    "colab_type": "code",
    "id": "1XmoZwpGhpDz",
    "outputId": "8e4d4207-0d7e-4ffe-8e19-b9145aff56e5",
    "pycharm": {
     "is_executing": false,
     "metadata": false,
     "name": "#%%\n"
    }
   },
   "outputs": [
    {
     "name": "stdout",
     "output_type": "stream",
     "text": [
      "Fitting 10 folds for each of 200 candidates, totalling 2000 fits\n"
     ]
    },
    {
     "name": "stderr",
     "output_type": "stream",
     "text": [
      "[Parallel(n_jobs=-1)]: Using backend LokyBackend with 2 concurrent workers.\n",
      "[Parallel(n_jobs=-1)]: Done  14 tasks      | elapsed:    3.8s\n",
      "[Parallel(n_jobs=-1)]: Done  68 tasks      | elapsed:   18.5s\n",
      "[Parallel(n_jobs=-1)]: Done 158 tasks      | elapsed:   53.8s\n",
      "[Parallel(n_jobs=-1)]: Done 284 tasks      | elapsed:  1.5min\n",
      "[Parallel(n_jobs=-1)]: Done 446 tasks      | elapsed:  2.5min\n",
      "[Parallel(n_jobs=-1)]: Done 644 tasks      | elapsed:  3.7min\n",
      "[Parallel(n_jobs=-1)]: Done 878 tasks      | elapsed:  4.9min\n",
      "[Parallel(n_jobs=-1)]: Done 1148 tasks      | elapsed:  6.4min\n",
      "[Parallel(n_jobs=-1)]: Done 1454 tasks      | elapsed:  8.2min\n",
      "[Parallel(n_jobs=-1)]: Done 1796 tasks      | elapsed: 10.2min\n"
     ]
    },
    {
     "name": "stdout",
     "output_type": "stream",
     "text": [
      "RandomizedSearchCV took 691.00 seconds for 200 candidates.\n",
      "Model with rank: 1\n",
      "Mean validation score: 0.840 (std: 0.058)\n",
      "Parameters: {'criterion': 'gini', 'max_depth': 15, 'max_features': 1, 'min_samples_split': 19, 'n_estimators': 103}\n",
      "\n",
      "Model with rank: 2\n",
      "Mean validation score: 0.835 (std: 0.069)\n",
      "Parameters: {'criterion': 'gini', 'max_depth': 14, 'max_features': 2, 'min_samples_split': 37, 'n_estimators': 557}\n",
      "\n",
      "Model with rank: 2\n",
      "Mean validation score: 0.835 (std: 0.070)\n",
      "Parameters: {'criterion': 'entropy', 'max_depth': 5, 'max_features': 3, 'min_samples_split': 50, 'n_estimators': 18}\n",
      "\n",
      "Model with rank: 2\n",
      "Mean validation score: 0.835 (std: 0.062)\n",
      "Parameters: {'criterion': 'entropy', 'max_depth': 17, 'max_features': 1, 'min_samples_split': 33, 'n_estimators': 339}\n",
      "\n",
      "Model with rank: 2\n",
      "Mean validation score: 0.835 (std: 0.069)\n",
      "Parameters: {'criterion': 'entropy', 'max_depth': 25, 'max_features': 2, 'min_samples_split': 38, 'n_estimators': 486}\n",
      "\n",
      "Model with rank: 2\n",
      "Mean validation score: 0.835 (std: 0.076)\n",
      "Parameters: {'criterion': 'gini', 'max_depth': 15, 'max_features': 4, 'min_samples_split': 15, 'n_estimators': 459}\n",
      "\n",
      "Model with rank: 2\n",
      "Mean validation score: 0.835 (std: 0.063)\n",
      "Parameters: {'criterion': 'gini', 'max_depth': 14, 'max_features': 1, 'min_samples_split': 37, 'n_estimators': 109}\n",
      "\n",
      "Model with rank: 2\n",
      "Mean validation score: 0.835 (std: 0.070)\n",
      "Parameters: {'criterion': 'gini', 'max_depth': 9, 'max_features': 2, 'min_samples_split': 12, 'n_estimators': 132}\n",
      "\n",
      "Model with rank: 2\n",
      "Mean validation score: 0.835 (std: 0.071)\n",
      "Parameters: {'criterion': 'gini', 'max_depth': 15, 'max_features': 7, 'min_samples_split': 10, 'n_estimators': 192}\n",
      "\n"
     ]
    },
    {
     "name": "stderr",
     "output_type": "stream",
     "text": [
      "[Parallel(n_jobs=-1)]: Done 2000 out of 2000 | elapsed: 11.5min finished\n"
     ]
    }
   ],
   "source": [
    "# Specify parameters and distributions to sample from \n",
    "param_dist = {'max_depth': scipy.stats.randint(1, 30),\n",
    "              'max_features': scipy.stats.randint(1, X.shape[1]),\n",
    "              'min_samples_split': scipy.stats.randint(2, X.shape[0] / 2),\n",
    "              'n_estimators': scipy.stats.randint(10, 600),\n",
    "              'criterion': ['gini', 'entropy']}\n",
    "# Specify number of random candidates to be created.\n",
    "candidates = 200\n",
    "\n",
    "# Run a random search CV.\n",
    "random_search = RandomizedSearchCV(forest, param_dist, candidates, cv=10, \n",
    "                                   n_jobs=-1, verbose=5, iid=True)\n",
    "start = time.time()\n",
    "random_search.fit(X_train, y_train)\n",
    "print('RandomizedSearchCV took {:.2f} seconds for {} candidates.'\n",
    "      .format((time.time() - start), candidates))\n",
    "report(random_search.cv_results_)"
   ]
  },
  {
   "cell_type": "markdown",
   "metadata": {
    "colab_type": "text",
    "id": "yX9Je5mraagM",
    "pycharm": {}
   },
   "source": [
    "#### Grid Search\n",
    "Run a Grid search, using 10 fold cross validation for the area around the best results found with the Random Search."
   ]
  },
  {
   "cell_type": "code",
   "execution_count": 0,
   "metadata": {
    "colab": {
     "base_uri": "https://localhost:8080/"
    },
    "colab_type": "code",
    "id": "alyMa_rYa1V9",
    "outputId": "0e9d9340-197a-4bc9-9f7c-75aa0b547d99",
    "pycharm": {}
   },
   "outputs": [
    {
     "name": "stdout",
     "output_type": "stream",
     "text": [
      "Fitting 10 folds for each of 80 candidates, totalling 800 fits\n"
     ]
    },
    {
     "name": "stderr",
     "output_type": "stream",
     "text": [
      "[Parallel(n_jobs=-1)]: Using backend LokyBackend with 2 concurrent workers.\n",
      "[Parallel(n_jobs=-1)]: Done  14 tasks      | elapsed:    4.0s\n",
      "[Parallel(n_jobs=-1)]: Done  68 tasks      | elapsed:   13.9s\n",
      "[Parallel(n_jobs=-1)]: Done 158 tasks      | elapsed:   30.4s\n",
      "[Parallel(n_jobs=-1)]: Done 284 tasks      | elapsed:   53.5s\n",
      "[Parallel(n_jobs=-1)]: Done 446 tasks      | elapsed:  1.4min\n",
      "[Parallel(n_jobs=-1)]: Done 644 tasks      | elapsed:  2.0min\n"
     ]
    },
    {
     "name": "stdout",
     "output_type": "stream",
     "text": [
      "GridSearchCV took 146.33 seconds.\n",
      "Model with rank: 1\n",
      "Mean validation score: 0.846 (std: 0.058)\n",
      "Parameters: {'criterion': 'entropy', 'max_depth': 14, 'max_features': 1, 'min_samples_split': 19, 'n_estimators': 101}\n",
      "\n",
      "Model with rank: 1\n",
      "Mean validation score: 0.846 (std: 0.058)\n",
      "Parameters: {'criterion': 'entropy', 'max_depth': 15, 'max_features': 1, 'min_samples_split': 19, 'n_estimators': 101}\n",
      "\n",
      "Model with rank: 3\n",
      "Mean validation score: 0.840 (std: 0.058)\n",
      "Parameters: {'criterion': 'gini', 'max_depth': 14, 'max_features': 1, 'min_samples_split': 19, 'n_estimators': 103}\n",
      "\n",
      "Model with rank: 3\n",
      "Mean validation score: 0.840 (std: 0.058)\n",
      "Parameters: {'criterion': 'gini', 'max_depth': 14, 'max_features': 1, 'min_samples_split': 19, 'n_estimators': 104}\n",
      "\n",
      "Model with rank: 3\n",
      "Mean validation score: 0.840 (std: 0.083)\n",
      "Parameters: {'criterion': 'gini', 'max_depth': 14, 'max_features': 2, 'min_samples_split': 19, 'n_estimators': 101}\n",
      "\n",
      "Model with rank: 3\n",
      "Mean validation score: 0.840 (std: 0.085)\n",
      "Parameters: {'criterion': 'gini', 'max_depth': 14, 'max_features': 2, 'min_samples_split': 19, 'n_estimators': 104}\n",
      "\n",
      "Model with rank: 3\n",
      "Mean validation score: 0.840 (std: 0.058)\n",
      "Parameters: {'criterion': 'gini', 'max_depth': 15, 'max_features': 1, 'min_samples_split': 19, 'n_estimators': 103}\n",
      "\n",
      "Model with rank: 3\n",
      "Mean validation score: 0.840 (std: 0.058)\n",
      "Parameters: {'criterion': 'gini', 'max_depth': 15, 'max_features': 1, 'min_samples_split': 19, 'n_estimators': 104}\n",
      "\n",
      "Model with rank: 3\n",
      "Mean validation score: 0.840 (std: 0.083)\n",
      "Parameters: {'criterion': 'gini', 'max_depth': 15, 'max_features': 2, 'min_samples_split': 19, 'n_estimators': 101}\n",
      "\n",
      "Model with rank: 3\n",
      "Mean validation score: 0.840 (std: 0.085)\n",
      "Parameters: {'criterion': 'gini', 'max_depth': 15, 'max_features': 2, 'min_samples_split': 19, 'n_estimators': 104}\n",
      "\n",
      "Model with rank: 3\n",
      "Mean validation score: 0.840 (std: 0.062)\n",
      "Parameters: {'criterion': 'entropy', 'max_depth': 14, 'max_features': 1, 'min_samples_split': 19, 'n_estimators': 100}\n",
      "\n",
      "Model with rank: 3\n",
      "Mean validation score: 0.840 (std: 0.062)\n",
      "Parameters: {'criterion': 'entropy', 'max_depth': 14, 'max_features': 1, 'min_samples_split': 19, 'n_estimators': 102}\n",
      "\n",
      "Model with rank: 3\n",
      "Mean validation score: 0.840 (std: 0.062)\n",
      "Parameters: {'criterion': 'entropy', 'max_depth': 14, 'max_features': 1, 'min_samples_split': 19, 'n_estimators': 103}\n",
      "\n",
      "Model with rank: 3\n",
      "Mean validation score: 0.840 (std: 0.062)\n",
      "Parameters: {'criterion': 'entropy', 'max_depth': 14, 'max_features': 1, 'min_samples_split': 19, 'n_estimators': 104}\n",
      "\n",
      "Model with rank: 3\n",
      "Mean validation score: 0.840 (std: 0.076)\n",
      "Parameters: {'criterion': 'entropy', 'max_depth': 14, 'max_features': 2, 'min_samples_split': 19, 'n_estimators': 101}\n",
      "\n",
      "Model with rank: 3\n",
      "Mean validation score: 0.840 (std: 0.062)\n",
      "Parameters: {'criterion': 'entropy', 'max_depth': 15, 'max_features': 1, 'min_samples_split': 19, 'n_estimators': 100}\n",
      "\n",
      "Model with rank: 3\n",
      "Mean validation score: 0.840 (std: 0.062)\n",
      "Parameters: {'criterion': 'entropy', 'max_depth': 15, 'max_features': 1, 'min_samples_split': 19, 'n_estimators': 102}\n",
      "\n",
      "Model with rank: 3\n",
      "Mean validation score: 0.840 (std: 0.062)\n",
      "Parameters: {'criterion': 'entropy', 'max_depth': 15, 'max_features': 1, 'min_samples_split': 19, 'n_estimators': 103}\n",
      "\n",
      "Model with rank: 3\n",
      "Mean validation score: 0.840 (std: 0.062)\n",
      "Parameters: {'criterion': 'entropy', 'max_depth': 15, 'max_features': 1, 'min_samples_split': 19, 'n_estimators': 104}\n",
      "\n",
      "Model with rank: 3\n",
      "Mean validation score: 0.840 (std: 0.076)\n",
      "Parameters: {'criterion': 'entropy', 'max_depth': 15, 'max_features': 2, 'min_samples_split': 19, 'n_estimators': 101}\n",
      "\n"
     ]
    },
    {
     "name": "stderr",
     "output_type": "stream",
     "text": [
      "[Parallel(n_jobs=-1)]: Done 800 out of 800 | elapsed:  2.4min finished\n"
     ]
    }
   ],
   "source": [
    "# Specify parameter_grid for the search.\n",
    "param_grid = {'max_depth': range(14, 16),\n",
    "              'max_features': range(1, 3),\n",
    "              'min_samples_split': range(18, 20),\n",
    "              'n_estimators': range(100, 105),\n",
    "              'criterion': ['gini', 'entropy']}\n",
    "\n",
    "# Run a grid search CV.\n",
    "grid_search = GridSearchCV(forest, param_grid, cv=10, n_jobs=-1, verbose=5, \n",
    "                           iid=True)\n",
    "start = time.time()\n",
    "grid_search.fit(X_train, y_train)\n",
    "print('GridSearchCV took {:.2f} seconds.'\n",
    "      .format((time.time() - start)))\n",
    "report(grid_search.cv_results_)"
   ]
  },
  {
   "cell_type": "markdown",
   "metadata": {
    "colab_type": "text",
    "id": "loUr8jkqi_FE",
    "pycharm": {}
   },
   "source": [
    "#### Use best hyperparameters."
   ]
  },
  {
   "cell_type": "code",
   "execution_count": 0,
   "metadata": {
    "colab": {},
    "colab_type": "code",
    "id": "3GKIF1w0i-xu",
    "pycharm": {}
   },
   "outputs": [],
   "source": [
    "forest.max_depth = 14\n",
    "forest.max_features = 1\n",
    "forest.min_samples_split = 19\n",
    "forest.n_estimators = 101\n",
    "forest.criterion = 'entropy'"
   ]
  },
  {
   "cell_type": "markdown",
   "metadata": {
    "colab_type": "text",
    "id": "mvY5quaCMX-l",
    "pycharm": {}
   },
   "source": [
    "### SVM Tuning"
   ]
  },
  {
   "cell_type": "markdown",
   "metadata": {
    "colab_type": "text",
    "id": "kEAeTLIFbDcY",
    "pycharm": {}
   },
   "source": [
    "#### Grid Search\n",
    "Run a Grid search, using 10 fold cross validation."
   ]
  },
  {
   "cell_type": "code",
   "execution_count": 0,
   "metadata": {
    "colab": {
     "base_uri": "https://localhost:8080/"
    },
    "colab_type": "code",
    "id": "epwYG6ZubDcj",
    "outputId": "22b80b0c-fdc2-4e62-d95e-a7f7a9e55a51",
    "pycharm": {}
   },
   "outputs": [
    {
     "name": "stdout",
     "output_type": "stream",
     "text": [
      "Fitting 10 folds for each of 2000 candidates, totalling 20000 fits\n"
     ]
    },
    {
     "name": "stderr",
     "output_type": "stream",
     "text": [
      "[Parallel(n_jobs=-1)]: Using backend LokyBackend with 2 concurrent workers.\n",
      "[Parallel(n_jobs=-1)]: Done 604 tasks      | elapsed:    4.2s\n",
      "[Parallel(n_jobs=-1)]: Done 3844 tasks      | elapsed:   28.1s\n",
      "[Parallel(n_jobs=-1)]: Done 9244 tasks      | elapsed:  1.1min\n",
      "[Parallel(n_jobs=-1)]: Done 16804 tasks      | elapsed:  2.1min\n"
     ]
    },
    {
     "name": "stdout",
     "output_type": "stream",
     "text": [
      "GridSearchCV took 147.67 seconds.\n",
      "Model with rank: 1\n",
      "Mean validation score: 0.840 (std: 0.075)\n",
      "Parameters: {'C': 1.51}\n",
      "\n",
      "Model with rank: 1\n",
      "Mean validation score: 0.840 (std: 0.075)\n",
      "Parameters: {'C': 2.01}\n",
      "\n",
      "Model with rank: 1\n",
      "Mean validation score: 0.840 (std: 0.072)\n",
      "Parameters: {'C': 4.01}\n",
      "\n",
      "Model with rank: 1\n",
      "Mean validation score: 0.840 (std: 0.072)\n",
      "Parameters: {'C': 4.51}\n",
      "\n",
      "Model with rank: 1\n",
      "Mean validation score: 0.840 (std: 0.072)\n",
      "Parameters: {'C': 5.01}\n",
      "\n",
      "Model with rank: 1\n",
      "Mean validation score: 0.840 (std: 0.072)\n",
      "Parameters: {'C': 5.51}\n",
      "\n",
      "Model with rank: 1\n",
      "Mean validation score: 0.840 (std: 0.072)\n",
      "Parameters: {'C': 6.01}\n",
      "\n",
      "Model with rank: 1\n",
      "Mean validation score: 0.840 (std: 0.072)\n",
      "Parameters: {'C': 6.51}\n",
      "\n",
      "Model with rank: 1\n",
      "Mean validation score: 0.840 (std: 0.072)\n",
      "Parameters: {'C': 7.01}\n",
      "\n",
      "Model with rank: 1\n",
      "Mean validation score: 0.840 (std: 0.072)\n",
      "Parameters: {'C': 7.51}\n",
      "\n",
      "Model with rank: 1\n",
      "Mean validation score: 0.840 (std: 0.072)\n",
      "Parameters: {'C': 8.01}\n",
      "\n",
      "Model with rank: 1\n",
      "Mean validation score: 0.840 (std: 0.060)\n",
      "Parameters: {'C': 31.01}\n",
      "\n",
      "Model with rank: 1\n",
      "Mean validation score: 0.840 (std: 0.072)\n",
      "Parameters: {'C': 81.51}\n",
      "\n",
      "Model with rank: 1\n",
      "Mean validation score: 0.840 (std: 0.064)\n",
      "Parameters: {'C': 98.01}\n",
      "\n"
     ]
    },
    {
     "name": "stderr",
     "output_type": "stream",
     "text": [
      "[Parallel(n_jobs=-1)]: Done 20000 out of 20000 | elapsed:  2.5min finished\n"
     ]
    }
   ],
   "source": [
    "# Specify parameter_grid for the search.\n",
    "param_grid = {'C': np.arange(0.01, 1000, 0.5)}\n",
    "\n",
    "# Run a grid search CV.\n",
    "grid_search = GridSearchCV(svm, param_grid, cv=10, n_jobs=-1, verbose=5, \n",
    "                           iid=True)\n",
    "start = time.time()\n",
    "grid_search.fit(X_train, y_train)\n",
    "print('GridSearchCV took {:.2f} seconds.'\n",
    "      .format((time.time() - start)))\n",
    "report(grid_search.cv_results_)"
   ]
  },
  {
   "cell_type": "markdown",
   "metadata": {
    "colab_type": "text",
    "id": "2oB00UILjwbg",
    "pycharm": {}
   },
   "source": [
    "#### Use the best C."
   ]
  },
  {
   "cell_type": "code",
   "execution_count": 0,
   "metadata": {
    "colab": {},
    "colab_type": "code",
    "id": "Kv-LWa3zjwbq",
    "pycharm": {}
   },
   "outputs": [],
   "source": [
    "# Change C.\n",
    "svm.C = 31\n",
    "\n",
    "# Increase number of iterations.\n",
    "svm.max_iter = 20000"
   ]
  },
  {
   "cell_type": "markdown",
   "metadata": {
    "colab_type": "text",
    "id": "UV_zD8lOMYh1",
    "pycharm": {}
   },
   "source": [
    "### Naive Bayes Tuning"
   ]
  },
  {
   "cell_type": "markdown",
   "metadata": {
    "colab_type": "text",
    "id": "JyVKbW8ybTZz",
    "pycharm": {}
   },
   "source": [
    "#### Grid Search\n",
    "Run a Grid search, using 10 fold cross validation for the area around the best results found with the Random Search."
   ]
  },
  {
   "cell_type": "code",
   "execution_count": 0,
   "metadata": {
    "colab": {
     "base_uri": "https://localhost:8080/"
    },
    "colab_type": "code",
    "id": "TdJQJr7sbTZ5",
    "outputId": "4d49178e-32df-4501-c898-d2bb9c2425eb",
    "pycharm": {}
   },
   "outputs": [
    {
     "name": "stdout",
     "output_type": "stream",
     "text": [
      "Fitting 10 folds for each of 50 candidates, totalling 500 fits\n"
     ]
    },
    {
     "name": "stderr",
     "output_type": "stream",
     "text": [
      "[Parallel(n_jobs=-1)]: Using backend LokyBackend with 2 concurrent workers.\n"
     ]
    },
    {
     "name": "stdout",
     "output_type": "stream",
     "text": [
      "GridSearchCV took 0.72 seconds.\n",
      "Model with rank: 1\n",
      "Mean validation score: 0.835 (std: 0.055)\n",
      "Parameters: {'alpha': 1.2000000000000002}\n",
      "\n",
      "Model with rank: 1\n",
      "Mean validation score: 0.835 (std: 0.055)\n",
      "Parameters: {'alpha': 1.4000000000000001}\n",
      "\n",
      "Model with rank: 1\n",
      "Mean validation score: 0.835 (std: 0.055)\n",
      "Parameters: {'alpha': 1.6}\n",
      "\n",
      "Model with rank: 1\n",
      "Mean validation score: 0.835 (std: 0.055)\n",
      "Parameters: {'alpha': 1.8}\n",
      "\n",
      "Model with rank: 1\n",
      "Mean validation score: 0.835 (std: 0.055)\n",
      "Parameters: {'alpha': 2.0}\n",
      "\n",
      "Model with rank: 1\n",
      "Mean validation score: 0.835 (std: 0.055)\n",
      "Parameters: {'alpha': 2.2}\n",
      "\n"
     ]
    },
    {
     "name": "stderr",
     "output_type": "stream",
     "text": [
      "[Parallel(n_jobs=-1)]: Done 500 out of 500 | elapsed:    0.7s finished\n"
     ]
    }
   ],
   "source": [
    "# Specify parameter_grid for the search.\n",
    "param_grid = {'alpha': np.arange(0, 10, 0.2)}\n",
    "\n",
    "# Run a grid search CV.\n",
    "grid_search = GridSearchCV(bayes, param_grid, cv=10, n_jobs=-1, verbose=5, \n",
    "                           iid=True)\n",
    "start = time.time()\n",
    "grid_search.fit(X_train, y_train)\n",
    "print('GridSearchCV took {:.2f} seconds.'\n",
    "      .format((time.time() - start)))\n",
    "report(grid_search.cv_results_)"
   ]
  },
  {
   "cell_type": "markdown",
   "metadata": {
    "colab_type": "text",
    "id": "gB3Fd5yKjx77",
    "pycharm": {}
   },
   "source": [
    "#### Use the best alpha."
   ]
  },
  {
   "cell_type": "code",
   "execution_count": 0,
   "metadata": {
    "colab": {},
    "colab_type": "code",
    "id": "woTcjAmBjx8A",
    "pycharm": {}
   },
   "outputs": [],
   "source": [
    "bayes.alpha = 1.2"
   ]
  },
  {
   "cell_type": "markdown",
   "metadata": {
    "colab_type": "text",
    "id": "ej6YCMamf8w_",
    "pycharm": {}
   },
   "source": [
    "\n",
    "# No Method Applied"
   ]
  },
  {
   "cell_type": "code",
   "execution_count": 20,
   "metadata": {
    "colab": {
     "base_uri": "https://localhost:8080/",
     "height": 2242
    },
    "colab_type": "code",
    "id": "El4rL7WRgEek",
    "outputId": "4e533bfc-45c7-40bb-8095-94d2d882b7cd",
    "pycharm": {}
   },
   "outputs": [
    {
     "name": "stdout",
     "output_type": "stream",
     "text": [
      "Random Forest: \n",
      "\n",
      "              precision    recall  f1-score   support\n",
      "\n",
      "     Absence       0.83      0.88      0.85        43\n",
      "    Presence       0.86      0.79      0.82        38\n",
      "\n",
      "   micro avg       0.84      0.84      0.84        81\n",
      "   macro avg       0.84      0.84      0.84        81\n",
      "weighted avg       0.84      0.84      0.84        81\n",
      "\n"
     ]
    },
    {
     "data": {
      "image/png": "[encoded data removed]",
      "text/plain": [
       "<Figure size 576x576 with 1 Axes>"
      ]
     },
     "metadata": {
      "tags": []
     },
     "output_type": "display_data"
    },
    {
     "name": "stdout",
     "output_type": "stream",
     "text": [
      "\n",
      "---------------------------------------------------------------\n",
      "\n",
      "SVM: \n",
      "\n",
      "              precision    recall  f1-score   support\n",
      "\n",
      "     Absence       0.83      0.79      0.81        43\n",
      "    Presence       0.78      0.82      0.79        38\n",
      "\n",
      "   micro avg       0.80      0.80      0.80        81\n",
      "   macro avg       0.80      0.80      0.80        81\n",
      "weighted avg       0.80      0.80      0.80        81\n",
      "\n"
     ]
    },
    {
     "data": {
      "image/png": "[encoded data removed]",
      "text/plain": [
       "<Figure size 576x576 with 1 Axes>"
      ]
     },
     "metadata": {
      "tags": []
     },
     "output_type": "display_data"
    },
    {
     "name": "stdout",
     "output_type": "stream",
     "text": [
      "\n",
      "---------------------------------------------------------------\n",
      "\n",
      "Bayes: \n",
      "\n",
      "              precision    recall  f1-score   support\n",
      "\n",
      "     Absence       0.79      0.88      0.84        43\n",
      "    Presence       0.85      0.74      0.79        38\n",
      "\n",
      "   micro avg       0.81      0.81      0.81        81\n",
      "   macro avg       0.82      0.81      0.81        81\n",
      "weighted avg       0.82      0.81      0.81        81\n",
      "\n"
     ]
    },
    {
     "data": {
      "image/png": "[encoded data removed]",
      "text/plain": [
       "<Figure size 576x576 with 1 Axes>"
      ]
     },
     "metadata": {
      "tags": []
     },
     "output_type": "display_data"
    }
   ],
   "source": [
    "def simple_predict(clf):\n",
    "    \"\"\"\n",
    "    Predicts without using any cost sensitive method, provided a given classifier.\n",
    "    \n",
    "    :param clf: the classifier to make prediction with.\n",
    "    \"\"\"\n",
    "    clf.fit(X_train, y_train)\n",
    "    return clf.predict(X_test)\n",
    "\n",
    "# Make a full report for all the classifiers.\n",
    "full_cs_report(y_test, \n",
    "               simple_predict(forest),\n",
    "               simple_predict(svm),\n",
    "               simple_predict(bayes),\n",
    "               labels, cost_matrix)"
   ]
  },
  {
   "cell_type": "markdown",
   "metadata": {
    "colab_type": "text",
    "id": "RIM7Ro8Vg2mu",
    "pycharm": {}
   },
   "source": [
    "We noticed that the F1 score is good, but the classification cost is high. For that reason, we need to \"tell\" our model to be more careful about false positives."
   ]
  },
  {
   "cell_type": "markdown",
   "metadata": {
    "colab_type": "text",
    "id": "oVgJDkEI5dsd",
    "pycharm": {}
   },
   "source": [
    "# Sigmoid Probability Calibration"
   ]
  },
  {
   "cell_type": "code",
   "execution_count": 26,
   "metadata": {
    "colab": {
     "base_uri": "https://localhost:8080/",
     "height": 2242
    },
    "colab_type": "code",
    "id": "1EfRPBz8A3si",
    "outputId": "23363af1-0285-4c0e-a781-9654e5eb5707",
    "pycharm": {}
   },
   "outputs": [
    {
     "name": "stdout",
     "output_type": "stream",
     "text": [
      "Random Forest: \n",
      "\n",
      "              precision    recall  f1-score   support\n",
      "\n",
      "     Absence       0.61      1.00      0.75        43\n",
      "    Presence       1.00      0.26      0.42        38\n",
      "\n",
      "   micro avg       0.65      0.65      0.65        81\n",
      "   macro avg       0.80      0.63      0.59        81\n",
      "weighted avg       0.79      0.65      0.60        81\n",
      "\n"
     ]
    },
    {
     "data": {
      "image/png": "[encoded data removed]",
      "text/plain": [
       "<Figure size 576x576 with 1 Axes>"
      ]
     },
     "metadata": {
      "tags": []
     },
     "output_type": "display_data"
    },
    {
     "name": "stdout",
     "output_type": "stream",
     "text": [
      "\n",
      "---------------------------------------------------------------\n",
      "\n",
      "SVM: \n",
      "\n",
      "              precision    recall  f1-score   support\n",
      "\n",
      "     Absence       0.67      1.00      0.80        43\n",
      "    Presence       1.00      0.45      0.62        38\n",
      "\n",
      "   micro avg       0.74      0.74      0.74        81\n",
      "   macro avg       0.84      0.72      0.71        81\n",
      "weighted avg       0.83      0.74      0.72        81\n",
      "\n"
     ]
    },
    {
     "data": {
      "image/png": "[encoded data removed]",
      "text/plain": [
       "<Figure size 576x576 with 1 Axes>"
      ]
     },
     "metadata": {
      "tags": []
     },
     "output_type": "display_data"
    },
    {
     "name": "stdout",
     "output_type": "stream",
     "text": [
      "\n",
      "---------------------------------------------------------------\n",
      "\n",
      "Bayes: \n",
      "\n",
      "              precision    recall  f1-score   support\n",
      "\n",
      "     Absence       0.58      1.00      0.74        43\n",
      "    Presence       1.00      0.18      0.31        38\n",
      "\n",
      "   micro avg       0.62      0.62      0.62        81\n",
      "   macro avg       0.79      0.59      0.52        81\n",
      "weighted avg       0.78      0.62      0.54        81\n",
      "\n"
     ]
    },
    {
     "data": {
      "image/png": "[encoded data removed]",
      "text/plain": [
       "<Figure size 576x576 with 1 Axes>"
      ]
     },
     "metadata": {
      "tags": []
     },
     "output_type": "display_data"
    }
   ],
   "source": [
    "def calibration_predict(clf):\n",
    "    \"\"\"\n",
    "    Predicts using sigmoid probability calibration with a given classifier.\n",
    "    \"\"\"\n",
    "    cc = CalibratedClassifierCV(clf, method='sigmoid', cv=10)\n",
    "    model = cc.fit(X_train, y_train)\n",
    "    prob_test = model.predict_proba(X_test)\n",
    "    bmr = BayesMinimumRiskClassifier(calibration=False)\n",
    "    \n",
    "    return bmr.predict(prob_test, cost_matrix)\n",
    "\n",
    "# Make a full report for all the classifiers.\n",
    "full_cs_report(y_test, \n",
    "               calibration_predict(forest),\n",
    "               calibration_predict(svm),\n",
    "               calibration_predict(bayes),\n",
    "               labels, cost_matrix)"
   ]
  },
  {
   "cell_type": "markdown",
   "metadata": {
    "colab_type": "text",
    "id": "N6-7_ohbx4f6",
    "pycharm": {}
   },
   "source": [
    "We noticed that the model chooses the class **'Presence'** more often, in order to avoid making mistakes that cost a lot.  \n",
    "Moreover, the F1 score reduced, but this is not what we should try to improve. The total cost is the most important metric for this task."
   ]
  },
  {
   "cell_type": "markdown",
   "metadata": {
    "colab_type": "text",
    "id": "Cx5XslDh5dzS",
    "pycharm": {}
   },
   "source": [
    "# Rebalancing"
   ]
  },
  {
   "cell_type": "code",
   "execution_count": 11,
   "metadata": {
    "colab": {
     "base_uri": "https://localhost:8080/",
     "height": 2373
    },
    "colab_type": "code",
    "id": "FFkz9Aw6DBRw",
    "outputId": "791f0a05-be6d-4763-c413-e439cf518256",
    "pycharm": {}
   },
   "outputs": [
    {
     "name": "stderr",
     "output_type": "stream",
     "text": [
      "/usr/local/lib/python3.6/dist-packages/imblearn/utils/_validation.py:257: UserWarning: After over-sampling, the number of samples (350) in class 0 will be larger than the number of samples in the majority class (class #0 -> 100)\n",
      "  n_samples_majority))\n",
      "/usr/local/lib/python3.6/dist-packages/imblearn/utils/_validation.py:257: UserWarning: After over-sampling, the number of samples (350) in class 0 will be larger than the number of samples in the majority class (class #0 -> 100)\n",
      "  n_samples_majority))\n",
      "/usr/local/lib/python3.6/dist-packages/imblearn/utils/_validation.py:257: UserWarning: After over-sampling, the number of samples (350) in class 0 will be larger than the number of samples in the majority class (class #0 -> 100)\n",
      "  n_samples_majority))\n"
     ]
    },
    {
     "name": "stdout",
     "output_type": "stream",
     "text": [
      "Random Forest: \n",
      "\n",
      "              precision    recall  f1-score   support\n",
      "\n",
      "     Absence       0.67      1.00      0.80        43\n",
      "    Presence       1.00      0.45      0.62        38\n",
      "\n",
      "   micro avg       0.74      0.74      0.74        81\n",
      "   macro avg       0.84      0.72      0.71        81\n",
      "weighted avg       0.83      0.74      0.72        81\n",
      "\n"
     ]
    },
    {
     "data": {
      "image/png": "[encoded data removed]",
      "text/plain": [
       "<Figure size 576x576 with 1 Axes>"
      ]
     },
     "metadata": {
      "tags": []
     },
     "output_type": "display_data"
    },
    {
     "name": "stdout",
     "output_type": "stream",
     "text": [
      "\n",
      "---------------------------------------------------------------\n",
      "\n",
      "SVM: \n",
      "\n",
      "              precision    recall  f1-score   support\n",
      "\n",
      "     Absence       0.80      0.93      0.86        43\n",
      "    Presence       0.90      0.74      0.81        38\n",
      "\n",
      "   micro avg       0.84      0.84      0.84        81\n",
      "   macro avg       0.85      0.83      0.84        81\n",
      "weighted avg       0.85      0.84      0.84        81\n",
      "\n"
     ]
    },
    {
     "data": {
      "image/png": "[encoded data removed]",
      "text/plain": [
       "<Figure size 576x576 with 1 Axes>"
      ]
     },
     "metadata": {
      "tags": []
     },
     "output_type": "display_data"
    },
    {
     "name": "stdout",
     "output_type": "stream",
     "text": [
      "\n",
      "---------------------------------------------------------------\n",
      "\n",
      "Bayes: \n",
      "\n",
      "              precision    recall  f1-score   support\n",
      "\n",
      "     Absence       0.56      1.00      0.72        43\n",
      "    Presence       1.00      0.11      0.19        38\n",
      "\n",
      "   micro avg       0.58      0.58      0.58        81\n",
      "   macro avg       0.78      0.55      0.45        81\n",
      "weighted avg       0.77      0.58      0.47        81\n",
      "\n"
     ]
    },
    {
     "data": {
      "image/png": "[encoded data removed]",
      "text/plain": [
       "<Figure size 576x576 with 1 Axes>"
      ]
     },
     "metadata": {
      "tags": []
     },
     "output_type": "display_data"
    }
   ],
   "source": [
    "def rebalancing_predict(clf):\n",
    "    \"\"\"\n",
    "    Predicts using random underampling and random oversampling with a given classifier.\n",
    "    \"\"\"\n",
    "    # Undersample.\n",
    "    sampler = RandomUnderSampler(sampling_strategy={0: 100, 1: 70}, random_state=0)\n",
    "    X_rs, y_rs = sampler.fit_sample(X_train, y_train)\n",
    "    # Oversample.\n",
    "    sampler = RandomOverSampler(sampling_strategy={0: 350, 1: 70}, random_state=0)\n",
    "    X_rs, y_rs = sampler.fit_sample(X_rs, y_rs)\n",
    "    \n",
    "    # Fit classifier with the undersampled data.\n",
    "    clf.fit(X_rs, y_rs)\n",
    "    \n",
    "    # Return predictions.\n",
    "    return clf.predict(X_test)\n",
    "\n",
    "# Make a full report for all the classifiers.\n",
    "full_cs_report(y_test, \n",
    "               rebalancing_predict(forest),\n",
    "               rebalancing_predict(svm),\n",
    "               rebalancing_predict(bayes),\n",
    "               labels, cost_matrix)"
   ]
  },
  {
   "cell_type": "markdown",
   "metadata": {
    "colab_type": "text",
    "id": "fv5DkDssiPJV",
    "pycharm": {}
   },
   "source": [
    "Rebalancing worked better for Random Forest, but not for the other classifiers."
   ]
  },
  {
   "cell_type": "markdown",
   "metadata": {
    "colab_type": "text",
    "id": "C2yStc5j5gER",
    "pycharm": {}
   },
   "source": [
    "# Example Weighting"
   ]
  },
  {
   "cell_type": "code",
   "execution_count": 17,
   "metadata": {
    "colab": {
     "base_uri": "https://localhost:8080/",
     "height": 2242
    },
    "colab_type": "code",
    "id": "Wt4X5WjqDX1Y",
    "outputId": "91b89b48-07b5-43a2-8d01-9a8f106d8935",
    "pycharm": {}
   },
   "outputs": [
    {
     "name": "stdout",
     "output_type": "stream",
     "text": [
      "Random Forest: \n",
      "\n",
      "              precision    recall  f1-score   support\n",
      "\n",
      "     Absence       0.66      1.00      0.80        43\n",
      "    Presence       1.00      0.42      0.59        38\n",
      "\n",
      "   micro avg       0.73      0.73      0.73        81\n",
      "   macro avg       0.83      0.71      0.69        81\n",
      "weighted avg       0.82      0.73      0.70        81\n",
      "\n"
     ]
    },
    {
     "data": {
      "image/png": "[encoded data removed]",
      "text/plain": [
       "<Figure size 576x576 with 1 Axes>"
      ]
     },
     "metadata": {
      "tags": []
     },
     "output_type": "display_data"
    },
    {
     "name": "stdout",
     "output_type": "stream",
     "text": [
      "\n",
      "---------------------------------------------------------------\n",
      "\n",
      "SVM: \n",
      "\n",
      "              precision    recall  f1-score   support\n",
      "\n",
      "     Absence       0.83      0.79      0.81        43\n",
      "    Presence       0.78      0.82      0.79        38\n",
      "\n",
      "   micro avg       0.80      0.80      0.80        81\n",
      "   macro avg       0.80      0.80      0.80        81\n",
      "weighted avg       0.80      0.80      0.80        81\n",
      "\n"
     ]
    },
    {
     "data": {
      "image/png": "[encoded data removed]",
      "text/plain": [
       "<Figure size 576x576 with 1 Axes>"
      ]
     },
     "metadata": {
      "tags": []
     },
     "output_type": "display_data"
    },
    {
     "name": "stdout",
     "output_type": "stream",
     "text": [
      "\n",
      "---------------------------------------------------------------\n",
      "\n",
      "Bayes: \n",
      "\n",
      "              precision    recall  f1-score   support\n",
      "\n",
      "     Absence       0.54      1.00      0.70        43\n",
      "    Presence       1.00      0.05      0.10        38\n",
      "\n",
      "   micro avg       0.56      0.56      0.56        81\n",
      "   macro avg       0.77      0.53      0.40        81\n",
      "weighted avg       0.76      0.56      0.42        81\n",
      "\n"
     ]
    },
    {
     "data": {
      "image/png": "[encoded data removed]",
      "text/plain": [
       "<Figure size 576x576 with 1 Axes>"
      ]
     },
     "metadata": {
      "tags": []
     },
     "output_type": "display_data"
    }
   ],
   "source": [
    "def weighting_predict(clf):\n",
    "    \"\"\"\n",
    "    Predicts using sample weighting with a given classifier.\n",
    "    \"\"\"\n",
    "    # Create the sample weights according to labels.\n",
    "    weights = np.zeros(y_train.shape[0])\n",
    "    weights[np.where(y_train == 1)] = 1\n",
    "    weights[np.where(y_train == 0)] = 5\n",
    "\n",
    "    # Fit classifier using the weights.\n",
    "    clf.fit(X_train, y_train, weights)\n",
    "    \n",
    "    # Return predictions.\n",
    "    return clf.predict(X_test)\n",
    "\n",
    "# Make a full report for all the classifiers.\n",
    "full_cs_report(y_test, \n",
    "               weighting_predict(forest),\n",
    "               weighting_predict(svm),\n",
    "               weighting_predict(bayes),\n",
    "               labels, cost_matrix)"
   ]
  },
  {
   "cell_type": "markdown",
   "metadata": {
    "colab_type": "text",
    "id": "AzWJAs-qiifc",
    "pycharm": {}
   },
   "source": [
    "Example weighting works well for Random Forest, but produces very bad results for the others."
   ]
  },
  {
   "cell_type": "markdown",
   "metadata": {
    "colab_type": "text",
    "id": "qtLesnfB5aDp",
    "pycharm": {}
   },
   "source": [
    "# Conclusion\n",
    "\n",
    "The Example Weighting method is not stable for this task because it creates big differences among the models prediction costs, thus introducing variance.  \n",
    "The most important metric is the total cost, since when using the F1, precision and Recall, the importance of some types of misclassifications is not taken into consideration."
   ]
  }
 ],
 "metadata": {
  "colab": {
   "collapsed_sections": [
    "dJmPyewf44XC",
    "XzaViu3TRhGE",
    "CjV8FVDP5nAS",
    "ufwbjh1x58Pr",
    "yoXqPUCQAtMI",
    "tS-rdualbcym",
    "BKmEOU7vaDGj",
    "HmQTL7z0j93-",
    "yX9Je5mraagM",
    "loUr8jkqi_FE",
    "mvY5quaCMX-l",
    "kEAeTLIFbDcY",
    "2oB00UILjwbg",
    "UV_zD8lOMYh1",
    "JyVKbW8ybTZz",
    "gB3Fd5yKjx77",
    "ej6YCMamf8w_",
    "oVgJDkEI5dsd",
    "Cx5XslDh5dzS",
    "C2yStc5j5gER"
   ],
   "name": "PartB.ipynb",
   "provenance": [],
   "version": "0.3.2"
  },
  "kernelspec": {
   "display_name": "Python 3",
   "language": "python",
   "name": "python3"
  },
  "language_info": {
   "codemirror_mode": {
    "name": "ipython",
    "version": 3
   },
   "file_extension": ".py",
   "mimetype": "text/x-python",
   "name": "python",
   "nbconvert_exporter": "python",
   "pygments_lexer": "ipython3",
   "version": "3.7.2"
  }
 },
 "nbformat": 4,
 "nbformat_minor": 1
}
